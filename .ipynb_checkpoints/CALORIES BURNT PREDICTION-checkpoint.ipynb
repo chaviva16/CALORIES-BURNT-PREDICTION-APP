{
 "cells": [
  {
   "cell_type": "code",
   "execution_count": null,
   "id": "433f1040-3290-4e0a-84de-ff2527f8ac04",
   "metadata": {},
   "outputs": [],
   "source": [
    "!pip install xgboost\n"
   ]
  },
  {
   "cell_type": "code",
   "execution_count": null,
   "id": "b1a521e3-29cd-4b9a-93da-285d4a9243cc",
   "metadata": {},
   "outputs": [],
   "source": [
    "import pandas as pd\n",
    "import numpy as np\n",
    "import warnings\n",
    "warnings.filterwarnings('ignore')\n",
    "import seaborn as sns\n",
    "\n",
    "import matplotlib.pyplot as plt\n",
    "\n",
    "from sklearn.preprocessing import StandardScaler,OrdinalEncoder\n",
    "\n",
    "from sklearn.metrics import r2_score\n",
    "\n",
    "from sklearn.model_selection import cross_val_score\n",
    "\n",
    "from sklearn.model_selection import KFold\n",
    "\n",
    "from sklearn.pipeline import Pipeline\n",
    "\n",
    "from sklearn.compose import ColumnTransformer\n",
    "\n",
    "from sklearn.model_selection import train_test_split\n",
    "\n",
    "from sklearn.linear_model import LinearRegression\n",
    "\n",
    "from sklearn.ensemble import RandomForestRegressor\n",
    "\n",
    "from xgboost import XGBRegressor"
   ]
  },
  {
   "cell_type": "code",
   "execution_count": null,
   "id": "487a9de6-1989-4b3f-9a48-73f5f6453e7f",
   "metadata": {},
   "outputs": [],
   "source": [
    "# 1. Reading data from CSV\n",
    "def read_csv(file_path):\n",
    "    \"\"\"\n",
    "    Read data from a CSV file and return a pandas DataFrame.\n",
    "\n",
    "    Parameters:\n",
    "    - file_path: str, the path to the CSV file.\n",
    "\n",
    "    Returns:\n",
    "    - pd.DataFrame, the loaded DataFrame.\n",
    "    \"\"\"\n",
    "    return pd.read_csv(file_path)"
   ]
  },
  {
   "cell_type": "code",
   "execution_count": null,
   "id": "48f1e656-9b81-4f53-96d1-599ae420f619",
   "metadata": {},
   "outputs": [],
   "source": [
    "calories = read_csv(r'C:\\Users\\USER\\OneDrive\\Desktop\\calories.csv')\n",
    "\n",
    "exercise = read_csv(r'C:\\Users\\USER\\OneDrive\\Desktop\\exercise.csv')"
   ]
  },
  {
   "cell_type": "code",
   "execution_count": null,
   "id": "7419a3e7-1999-4b64-9ea9-609960222390",
   "metadata": {},
   "outputs": [],
   "source": [
    "calories.head(1)"
   ]
  },
  {
   "cell_type": "code",
   "execution_count": null,
   "id": "fc3ced30-4d96-4f6f-9c6f-71a1bbb3039e",
   "metadata": {},
   "outputs": [],
   "source": [
    "exercise.head(1)"
   ]
  },
  {
   "cell_type": "code",
   "execution_count": null,
   "id": "5dc6c441-6789-43d7-a0da-00f6fbe973a9",
   "metadata": {},
   "outputs": [],
   "source": [
    "data=pd.merge(calories,exercise,on=\"User_ID\")"
   ]
  },
  {
   "cell_type": "code",
   "execution_count": null,
   "id": "5925cf02-987e-45b4-b515-b9de28f55ffa",
   "metadata": {},
   "outputs": [],
   "source": [
    "data.head()"
   ]
  },
  {
   "cell_type": "code",
   "execution_count": null,
   "id": "2f2227c3-6baf-4680-9ff5-15f2675f5fad",
   "metadata": {},
   "outputs": [],
   "source": [
    "print(data.info())"
   ]
  },
  {
   "cell_type": "code",
   "execution_count": null,
   "id": "96879195-2742-43b0-9e99-c4e7edf37d78",
   "metadata": {},
   "outputs": [],
   "source": [
    "print(data.describe())"
   ]
  },
  {
   "cell_type": "code",
   "execution_count": null,
   "id": "ce4b0544-2bc4-49b5-a4d4-a158417d5407",
   "metadata": {},
   "outputs": [],
   "source": [
    "# Check for missing values\n",
    "print(data.isnull().sum())"
   ]
  },
  {
   "cell_type": "code",
   "execution_count": null,
   "id": "8e349c4b-b852-40e3-b064-0ccd849ba4b4",
   "metadata": {},
   "outputs": [],
   "source": [
    "# Check for duplicates\n",
    "print(f\"Number of duplicate rows: {data.duplicated().sum()}\")\n"
   ]
  },
  {
   "cell_type": "code",
   "execution_count": null,
   "id": "6858e8e3-f883-4c30-b57f-578c0d3e98f4",
   "metadata": {},
   "outputs": [],
   "source": [
    "#5. getting basic analysis for numerical and categorical columns\n",
    "def plot_graph(data):\n",
    "    \"\"\"\n",
    "    Plot graphs for numerical and categorical data in a dataframe.\n",
    "    \n",
    "    Parameters:\n",
    "    - data: Pandas Dataframe, input data.\n",
    "    \n",
    "    Returns:\n",
    "    - None\n",
    "    \n",
    "    \"\"\"\n",
    "    numerical_columns = data.select_dtypes(include=np.number).columns\n",
    "     \n",
    "    for column in numerical_columns:\n",
    "        plt.figure(figsize=(5,3))\n",
    "        sns.distplot(data[column],kde=True)\n",
    "        plt.title(f\"Histogram for {column}\")\n",
    "        plt.xlabel(column)\n",
    "        plt.ylabel(\"Frequency\")\n",
    "        plt.show()\n",
    "        \n",
    "    categorical_columns = data.select_dtypes(include='object').columns\n",
    "    for column in categorical_columns:\n",
    "        plt.figure(figsize=(5, 3))\n",
    "        sns.countplot(data[column])\n",
    "        plt.title(f'Countplot for {column}')\n",
    "        plt.xlabel(column)\n",
    "        plt.ylabel('Count')\n",
    "        plt.xticks(rotation=45)\n",
    "        plt.show()\n",
    "    "
   ]
  },
  {
   "cell_type": "code",
   "execution_count": null,
   "id": "9015e8a7-2537-41f7-8347-ff1e2ef1ff9a",
   "metadata": {},
   "outputs": [],
   "source": [
    "plot_graph(data)"
   ]
  },
  {
   "cell_type": "code",
   "execution_count": null,
   "id": "e92377bb-851b-419d-99ca-5b3352e02311",
   "metadata": {},
   "outputs": [],
   "source": [
    "#6. Seperate feature and target\n",
    "def seperate_features_target(data,target_column):\n",
    "    \"\"\"\n",
    "    Separate features and target variable\n",
    "    \n",
    "    Parameters: \n",
    "    - data: pandas DataFrame, input data.\n",
    "    - target_column: str, the column representing the target varible.\n",
    "    \n",
    "    Returns:\n",
    "    - X: pandas DataFrame, features.\n",
    "    - y: pandas Series, target variable.\n",
    "    \n",
    "    \"\"\"\n",
    "    \n",
    "    X = data.drop(columns=[target_column],axis=1)\n",
    "    y = data[target_column]\n",
    "    \n",
    "    return X,y"
   ]
  },
  {
   "cell_type": "code",
   "execution_count": null,
   "id": "c5b9ebf3-e5a9-467f-b2b6-dbbeb9c9d8d4",
   "metadata": {},
   "outputs": [],
   "source": [
    "data.columns"
   ]
  },
  {
   "cell_type": "code",
   "execution_count": null,
   "id": "fc2f5ad4-e3ce-4ca8-9c01-04c2f153422b",
   "metadata": {},
   "outputs": [],
   "source": [
    "X,y=seperate_features_target(data,\"Calories\")"
   ]
  },
  {
   "cell_type": "code",
   "execution_count": null,
   "id": "4954649b-0240-402c-88dd-838cc7a0cdfa",
   "metadata": {},
   "outputs": [],
   "source": [
    "X.head()"
   ]
  },
  {
   "cell_type": "code",
   "execution_count": null,
   "id": "eb4f52bf-18dd-482e-b842-dda2317bee4f",
   "metadata": {},
   "outputs": [],
   "source": [
    "y.head()"
   ]
  },
  {
   "cell_type": "code",
   "execution_count": null,
   "id": "b0257d67-e4fc-4d38-8dde-e9e97054ab8c",
   "metadata": {},
   "outputs": [],
   "source": [
    "X = X.drop(columns=['User_ID'])"
   ]
  },
  {
   "cell_type": "code",
   "execution_count": null,
   "id": "b1759506-3d6e-4a09-a8ed-b66930e91310",
   "metadata": {},
   "outputs": [],
   "source": [
    "# Train test split\n",
    "def perform_train_test_split(X, y, test_size=0.20, random_state=42):\n",
    "    \"\"\"\n",
    "    Perform train-test split on the dataset.\n",
    "\n",
    "    Parameters:\n",
    "    - X: pandas DataFrame, features.\n",
    "    - y: pandas Series, target variable.\n",
    "    - test_size: float, optional, the proportion of the dataset to include in the test split (default is 0.2).\n",
    "    - random_state: int or None, optional, seed for random number generation (default is None).\n",
    "\n",
    "    Returns:\n",
    "    - X_train: pandas DataFrame, features for training.\n",
    "    - X_test: pandas DataFrame, features for testing.\n",
    "    - y_train: pandas Series, target variable for training.\n",
    "    - y_test: pandas Series, target variable for testing.\n",
    "    \"\"\"\n",
    "    X_train, X_test, y_train, y_test = train_test_split(X, y, test_size=test_size, random_state=random_state)\n",
    "\n",
    "    return X_train, X_test, y_train, y_test"
   ]
  },
  {
   "cell_type": "code",
   "execution_count": null,
   "id": "f9d82328-c98e-44db-a9b3-792716431352",
   "metadata": {},
   "outputs": [],
   "source": [
    "X_train,X_test,y_train,y_test = perform_train_test_split(X, y, test_size=0.20, random_state=42)"
   ]
  },
  {
   "cell_type": "code",
   "execution_count": null,
   "id": "1481988d-358c-410e-aef9-c5a033633cd0",
   "metadata": {},
   "outputs": [],
   "source": [
    "X_train"
   ]
  },
  {
   "cell_type": "code",
   "execution_count": null,
   "id": "9fa56b05-709c-47b0-885d-7501e03a17dc",
   "metadata": {},
   "outputs": [],
   "source": [
    "X.shape"
   ]
  },
  {
   "cell_type": "code",
   "execution_count": null,
   "id": "96deb751-163d-4b89-8022-c4a984a088ce",
   "metadata": {},
   "outputs": [],
   "source": [
    "X_train.shape"
   ]
  },
  {
   "cell_type": "code",
   "execution_count": null,
   "id": "529ccfa8-37dd-4a5c-bfcd-073fe575166b",
   "metadata": {},
   "outputs": [],
   "source": [
    "X_test.shape"
   ]
  },
  {
   "cell_type": "markdown",
   "id": "76ee50e6-f980-409d-ab8b-ecbc7e0bff59",
   "metadata": {},
   "source": [
    "## Column Transformer and Pipeline\n"
   ]
  },
  {
   "cell_type": "code",
   "execution_count": null,
   "id": "d04930f3-acaf-4c7a-9ada-10ea893ff43c",
   "metadata": {},
   "outputs": [],
   "source": [
    "preprocessor = ColumnTransformer(transformers=[\n",
    "    ('ordinal',OrdinalEncoder(),['Gender']),\n",
    "    ('num',StandardScaler(),['Age',\n",
    "                            'Height',\n",
    "                            'Weight',\n",
    "                            'Duration',\n",
    "                            'Heart_Rate',\n",
    "                            'Body_Temp']),\n",
    "],remainder='passthrough')"
   ]
  },
  {
   "cell_type": "code",
   "execution_count": null,
   "id": "1b0cad56-e69e-446f-8acf-6254bbe65f48",
   "metadata": {},
   "outputs": [],
   "source": [
    "pipeline = Pipeline([(\"preprocessor\",preprocessor),\n",
    "                     (\"model\",LinearRegression())\n",
    "                    ])"
   ]
  },
  {
   "cell_type": "code",
   "execution_count": null,
   "id": "ebacf43b-2230-4dc2-8e5d-f74afcaa1773",
   "metadata": {},
   "outputs": [],
   "source": [
    "from sklearn import set_config"
   ]
  },
  {
   "cell_type": "code",
   "execution_count": null,
   "id": "c1101a43-6d05-41c3-9f9c-fbbabe17ddf8",
   "metadata": {},
   "outputs": [],
   "source": [
    "set_config(display='diagram')"
   ]
  },
  {
   "cell_type": "code",
   "execution_count": null,
   "id": "1ca134e1-1b15-4bb6-9115-b3c4e4b4e559",
   "metadata": {},
   "outputs": [],
   "source": [
    "pipeline"
   ]
  },
  {
   "cell_type": "code",
   "execution_count": null,
   "id": "f3d85e37-04eb-4c26-835c-fd988eb78312",
   "metadata": {},
   "outputs": [],
   "source": [
    "pipeline.fit(X_train,y_train)"
   ]
  },
  {
   "cell_type": "code",
   "execution_count": null,
   "id": "31a4e036-5cc4-4cf3-b1f5-6d50776feef5",
   "metadata": {},
   "outputs": [],
   "source": [
    "y_pred = pipeline.predict(X_test)"
   ]
  },
  {
   "cell_type": "code",
   "execution_count": null,
   "id": "62b869a7-8da1-4a2b-96be-56db36f71a44",
   "metadata": {},
   "outputs": [],
   "source": [
    "from sklearn.metrics import r2_score"
   ]
  },
  {
   "cell_type": "code",
   "execution_count": null,
   "id": "00c009b2-56b6-4659-88b4-55519e60e08c",
   "metadata": {},
   "outputs": [],
   "source": [
    "r2_score(y_test,y_pred)"
   ]
  },
  {
   "cell_type": "code",
   "execution_count": null,
   "id": "6037b653-ea81-4019-bd40-ceb2504537a8",
   "metadata": {},
   "outputs": [],
   "source": [
    "from sklearn.model_selection import KFold"
   ]
  },
  {
   "cell_type": "code",
   "execution_count": null,
   "id": "cebb7796-c755-4d4b-8014-d5ee795c5871",
   "metadata": {},
   "outputs": [],
   "source": [
    "kfold = KFold(n_splits=5, shuffle=True, random_state=42)"
   ]
  },
  {
   "cell_type": "code",
   "execution_count": null,
   "id": "3b8c3518-58f0-483e-96f0-d49b4f302148",
   "metadata": {},
   "outputs": [],
   "source": [
    "from sklearn.model_selection import cross_val_score"
   ]
  },
  {
   "cell_type": "code",
   "execution_count": null,
   "id": "f39c3018-c179-49b2-b71f-5cbc9a101448",
   "metadata": {},
   "outputs": [],
   "source": [
    "cv_results = cross_val_score(pipeline, X, y, cv=kfold, scoring='r2')"
   ]
  },
  {
   "cell_type": "code",
   "execution_count": null,
   "id": "dd25f456-d02d-4dc4-a1ed-ff7609de5d24",
   "metadata": {},
   "outputs": [],
   "source": [
    "cv_results.mean()"
   ]
  },
  {
   "cell_type": "code",
   "execution_count": null,
   "id": "aede185d-4e3b-4725-b996-fbff01d9aae6",
   "metadata": {},
   "outputs": [],
   "source": [
    "from sklearn.metrics import mean_absolute_error"
   ]
  },
  {
   "cell_type": "code",
   "execution_count": null,
   "id": "d8c49f2a-0d7e-4181-b737-e75f449b7524",
   "metadata": {},
   "outputs": [],
   "source": [
    "mean_absolute_error(y_test,y_pred)"
   ]
  },
  {
   "cell_type": "code",
   "execution_count": null,
   "id": "f917b7ff-68fe-40d6-b4d8-5ff08adf1380",
   "metadata": {},
   "outputs": [],
   "source": [
    "def model_scorer(model_name,model):\n",
    "    \n",
    "    output=[]\n",
    "   \n",
    "    \n",
    "    output.append(model_name)\n",
    "    \n",
    "    pipeline = Pipeline([\n",
    "    ('preprocessor',preprocessor),\n",
    "    ('model',model)])\n",
    "    \n",
    "    X_train,X_test,y_train,y_test = train_test_split(X,y,test_size=0.20,random_state=42)\n",
    "    \n",
    "    pipeline.fit(X_train,y_train)\n",
    "    \n",
    "    y_pred = pipeline.predict(X_test)\n",
    "    \n",
    "    output.append(r2_score(y_test,y_pred))\n",
    "    output.append(mean_absolute_error(y_test,y_pred))\n",
    "    \n",
    "    kfold = KFold(n_splits=5, shuffle=True, random_state=42)\n",
    "    cv_results = cross_val_score(pipeline, X, y, cv=kfold, scoring='r2')\n",
    "    output.append(cv_results.mean())\n",
    "    \n",
    "    return output"
   ]
  },
  {
   "cell_type": "code",
   "execution_count": null,
   "id": "9f0d2819-4790-4896-a5be-c7bcaf1b015c",
   "metadata": {},
   "outputs": [],
   "source": [
    "model_dict={\n",
    "    'log':LinearRegression(),\n",
    "    'RF':RandomForestRegressor(),\n",
    "    'XGBR':XGBRegressor(),\n",
    "}"
   ]
  },
  {
   "cell_type": "code",
   "execution_count": null,
   "id": "0915000b-ad35-407f-85bf-6f1885d08b78",
   "metadata": {},
   "outputs": [],
   "source": [
    "model_output=[]\n",
    "for model_name,model in model_dict.items():\n",
    "    model_output.append(model_scorer(model_name,model))"
   ]
  },
  {
   "cell_type": "code",
   "execution_count": null,
   "id": "9b0453da-f142-425c-8d0c-4a0f85ce3d98",
   "metadata": {},
   "outputs": [],
   "source": [
    "model_output"
   ]
  },
  {
   "cell_type": "code",
   "execution_count": null,
   "id": "20c64cfd-e1ea-44ab-820b-a5e9089dd065",
   "metadata": {},
   "outputs": [],
   "source": [
    "preprocessor = ColumnTransformer(transformers=[\n",
    "    ('ordinal',OrdinalEncoder(),['Gender']),\n",
    "    ('num',StandardScaler(),['Age',\n",
    "                            'Height',\n",
    "                            'Weight',\n",
    "                            'Duration',\n",
    "                            'Heart_Rate',\n",
    "                            'Body_Temp']),\n",
    "    \n",
    "],remainder='passthrough')"
   ]
  },
  {
   "cell_type": "code",
   "execution_count": null,
   "id": "1a1312ad-5a22-46a1-b6d9-27a7fadf1ce4",
   "metadata": {},
   "outputs": [],
   "source": [
    "pipeline = Pipeline([\n",
    "    ('preprocessor',preprocessor),\n",
    "    ('model',XGBRegressor())\n",
    "    \n",
    "])"
   ]
  },
  {
   "cell_type": "code",
   "execution_count": null,
   "id": "6ab77f20-9b06-482d-9ab6-2c60692f306b",
   "metadata": {},
   "outputs": [],
   "source": [
    "pipeline.fit(X,y)"
   ]
  },
  {
   "cell_type": "code",
   "execution_count": null,
   "id": "70a1fff4-7698-4abf-8b32-f239a6d5542e",
   "metadata": {},
   "outputs": [],
   "source": [
    "sample = pd.DataFrame({\n",
    "   'Gender':'male',\n",
    "    'Age':68,\n",
    "    'Height':190.0,\n",
    "    'Weight':94.0,\n",
    "    'Duration':29.0,\n",
    "    'Heart_Rate':105.0,\n",
    "    'Body_Temp':40.8,\n",
    "},index=[0])"
   ]
  },
  {
   "cell_type": "code",
   "execution_count": null,
   "id": "2a4fe1e7-7e14-418d-9053-d582e2f68fae",
   "metadata": {},
   "outputs": [],
   "source": [
    "pipeline.predict(sample)"
   ]
  },
  {
   "cell_type": "markdown",
   "id": "6894f6c7-e045-4e69-9098-cc49f1bc4ad6",
   "metadata": {},
   "source": [
    "## SAVE THE MODEL"
   ]
  },
  {
   "cell_type": "code",
   "execution_count": null,
   "id": "f97f82ac-c908-4c5e-9a1f-df00e20314f8",
   "metadata": {},
   "outputs": [],
   "source": [
    "import pickle\n",
    "with open('pipeline.pkl','wb') as f:\n",
    "    pickle.dump(pipeline,f)\n",
    "with open('pipeline.pkl','rb') as f:\n",
    "    pipeline_saved = pickle.load(f)\n",
    "result = pipeline_saved.predict(sample)\n",
    "result "
   ]
  },
  {
   "cell_type": "code",
   "execution_count": null,
   "id": "a6da80ab-8114-42ed-887e-4389b5d3cb36",
   "metadata": {},
   "outputs": [],
   "source": []
  }
 ],
 "metadata": {
  "kernelspec": {
   "display_name": "Python 3 (ipykernel)",
   "language": "python",
   "name": "python3"
  },
  "language_info": {
   "codemirror_mode": {
    "name": "ipython",
    "version": 3
   },
   "file_extension": ".py",
   "mimetype": "text/x-python",
   "name": "python",
   "nbconvert_exporter": "python",
   "pygments_lexer": "ipython3",
   "version": "3.12.4"
  }
 },
 "nbformat": 4,
 "nbformat_minor": 5
}
