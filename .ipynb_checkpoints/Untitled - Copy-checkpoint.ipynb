{
 "cells": [
  {
   "cell_type": "markdown",
   "id": "ba23f76c",
   "metadata": {},
   "source": [
    "# INTRODUCTION TO PYTHON\n",
    "THIS IS THE BEGINNING OF OUR PYTHON CLASS\n",
    "in this class we will explore the use of python for data analytics and data science\n"
   ]
  },
  {
   "cell_type": "code",
   "execution_count": 1,
   "id": "caaff61f",
   "metadata": {},
   "outputs": [
    {
     "name": "stdout",
     "output_type": "stream",
     "text": [
      "Hello World\n"
     ]
    }
   ],
   "source": [
    "print (\"Hello World\")\n",
    "#python will ignore all of the text"
   ]
  },
  {
   "cell_type": "code",
   "execution_count": 2,
   "id": "42c1f189",
   "metadata": {},
   "outputs": [],
   "source": [
    "a = 10 #A IS A VARIABLE"
   ]
  },
  {
   "cell_type": "code",
   "execution_count": 3,
   "id": "1d4c3441",
   "metadata": {},
   "outputs": [],
   "source": [
    "b = 20"
   ]
  },
  {
   "cell_type": "code",
   "execution_count": 4,
   "id": "40558124",
   "metadata": {},
   "outputs": [
    {
     "data": {
      "text/plain": [
       "30"
      ]
     },
     "execution_count": 4,
     "metadata": {},
     "output_type": "execute_result"
    }
   ],
   "source": [
    "a+b "
   ]
  },
  {
   "cell_type": "code",
   "execution_count": 5,
   "id": "3a46048b",
   "metadata": {},
   "outputs": [
    {
     "data": {
      "text/plain": [
       "10"
      ]
     },
     "execution_count": 5,
     "metadata": {},
     "output_type": "execute_result"
    }
   ],
   "source": [
    "a"
   ]
  },
  {
   "cell_type": "code",
   "execution_count": 6,
   "id": "294bb5ed",
   "metadata": {},
   "outputs": [
    {
     "data": {
      "text/plain": [
       "int"
      ]
     },
     "execution_count": 6,
     "metadata": {},
     "output_type": "execute_result"
    }
   ],
   "source": [
    "#variables data_types #checking the data types\n",
    "age = 25\n",
    "type(age)"
   ]
  },
  {
   "cell_type": "code",
   "execution_count": 7,
   "id": "fb0869d0",
   "metadata": {},
   "outputs": [],
   "source": [
    "height = 5.11"
   ]
  },
  {
   "cell_type": "code",
   "execution_count": 8,
   "id": "d03b8080",
   "metadata": {},
   "outputs": [
    {
     "data": {
      "text/plain": [
       "float"
      ]
     },
     "execution_count": 8,
     "metadata": {},
     "output_type": "execute_result"
    }
   ],
   "source": [
    "type(height)"
   ]
  },
  {
   "cell_type": "code",
   "execution_count": 9,
   "id": "fb847db1",
   "metadata": {},
   "outputs": [],
   "source": [
    "name = \"Alice\""
   ]
  },
  {
   "cell_type": "code",
   "execution_count": 10,
   "id": "83228190",
   "metadata": {},
   "outputs": [
    {
     "data": {
      "text/plain": [
       "str"
      ]
     },
     "execution_count": 10,
     "metadata": {},
     "output_type": "execute_result"
    }
   ],
   "source": [
    "type(name)"
   ]
  },
  {
   "cell_type": "code",
   "execution_count": 11,
   "id": "6b0ef84e",
   "metadata": {},
   "outputs": [],
   "source": [
    "is_student = True"
   ]
  },
  {
   "cell_type": "code",
   "execution_count": 12,
   "id": "35778d28",
   "metadata": {},
   "outputs": [
    {
     "data": {
      "text/plain": [
       "bool"
      ]
     },
     "execution_count": 12,
     "metadata": {},
     "output_type": "execute_result"
    }
   ],
   "source": [
    "type(is_student)"
   ]
  },
  {
   "cell_type": "code",
   "execution_count": 13,
   "id": "64eea67f",
   "metadata": {},
   "outputs": [],
   "source": [
    "#doing basic maths\n"
   ]
  },
  {
   "cell_type": "code",
   "execution_count": 14,
   "id": "44f24937",
   "metadata": {},
   "outputs": [
    {
     "data": {
      "text/plain": [
       "6"
      ]
     },
     "execution_count": 14,
     "metadata": {},
     "output_type": "execute_result"
    }
   ],
   "source": [
    "2+4 #addition"
   ]
  },
  {
   "cell_type": "code",
   "execution_count": 15,
   "id": "353b0e46",
   "metadata": {},
   "outputs": [
    {
     "data": {
      "text/plain": [
       "3.5"
      ]
     },
     "execution_count": 15,
     "metadata": {},
     "output_type": "execute_result"
    }
   ],
   "source": [
    "7 / 2  #division"
   ]
  },
  {
   "cell_type": "code",
   "execution_count": 16,
   "id": "61fe5396",
   "metadata": {},
   "outputs": [
    {
     "data": {
      "text/plain": [
       "2.0"
      ]
     },
     "execution_count": 16,
     "metadata": {},
     "output_type": "execute_result"
    }
   ],
   "source": [
    "8 / 4   "
   ]
  },
  {
   "cell_type": "code",
   "execution_count": 17,
   "id": "8f37be3a",
   "metadata": {},
   "outputs": [
    {
     "data": {
      "text/plain": [
       "4"
      ]
     },
     "execution_count": 17,
     "metadata": {},
     "output_type": "execute_result"
    }
   ],
   "source": [
    "2 * 2 #multiplication"
   ]
  },
  {
   "cell_type": "code",
   "execution_count": 18,
   "id": "fee38d12",
   "metadata": {},
   "outputs": [
    {
     "data": {
      "text/plain": [
       "45.0"
      ]
     },
     "execution_count": 18,
     "metadata": {},
     "output_type": "execute_result"
    }
   ],
   "source": [
    "round (999 / 22 , 0)"
   ]
  },
  {
   "cell_type": "code",
   "execution_count": 19,
   "id": "23d9c8ab",
   "metadata": {},
   "outputs": [
    {
     "data": {
      "text/plain": [
       "1"
      ]
     },
     "execution_count": 19,
     "metadata": {},
     "output_type": "execute_result"
    }
   ],
   "source": [
    "#modulus sign % it returns the remainder of a division operator\n",
    "5 % 2"
   ]
  },
  {
   "cell_type": "code",
   "execution_count": 20,
   "id": "b58caf09",
   "metadata": {},
   "outputs": [
    {
     "name": "stdout",
     "output_type": "stream",
     "text": [
      "1\n",
      "3\n",
      "5\n",
      "7\n",
      "9\n"
     ]
    }
   ],
   "source": [
    "#looking for odd numbers\n",
    "numbers = [1,2,3,4,5,6,7,8,9,10]\n",
    "\n",
    "for number in numbers:\n",
    "    if number % 2 != 0:\n",
    "        print(number)"
   ]
  },
  {
   "cell_type": "code",
   "execution_count": 22,
   "id": "fdc896a2",
   "metadata": {},
   "outputs": [
    {
     "name": "stdout",
     "output_type": "stream",
     "text": [
      "1\n",
      "3\n",
      "5\n",
      "7\n",
      "9\n"
     ]
    }
   ],
   "source": [
    "for number in numbers:\n",
    "    if number % 2 != 0:\n",
    "        print(number)"
   ]
  },
  {
   "cell_type": "code",
   "execution_count": null,
   "id": "7b51b075",
   "metadata": {},
   "outputs": [],
   "source": [
    "numbers = [1,2,3,4,5,6,7,8,9,10]"
   ]
  },
  {
   "cell_type": "code",
   "execution_count": null,
   "id": "ffd397c9",
   "metadata": {},
   "outputs": [],
   "source": [
    "print(numbers)"
   ]
  },
  {
   "cell_type": "code",
   "execution_count": null,
   "id": "bf90407f",
   "metadata": {
    "scrolled": true
   },
   "outputs": [],
   "source": [
    "2**3 #2 raise to power 3 2*2 =4 4*2=8"
   ]
  },
  {
   "cell_type": "code",
   "execution_count": null,
   "id": "0aa060b0",
   "metadata": {},
   "outputs": [],
   "source": [
    "pow(2,3)"
   ]
  },
  {
   "cell_type": "code",
   "execution_count": null,
   "id": "68db1334",
   "metadata": {},
   "outputs": [],
   "source": [
    "#floor divivion -returns the whole number without a decimal \n",
    "9 // 2"
   ]
  },
  {
   "cell_type": "code",
   "execution_count": null,
   "id": "cb4f7c44",
   "metadata": {},
   "outputs": [],
   "source": [
    "a + a + a"
   ]
  },
  {
   "cell_type": "code",
   "execution_count": null,
   "id": "8cec2971",
   "metadata": {},
   "outputs": [],
   "source": [
    "a += a #a-a-a"
   ]
  },
  {
   "cell_type": "code",
   "execution_count": null,
   "id": "56544f54",
   "metadata": {},
   "outputs": [],
   "source": [
    "#comparison operator\n",
    "olatunji = \"dark\"\n",
    "dimeji = \"TALL\""
   ]
  },
  {
   "cell_type": "code",
   "execution_count": null,
   "id": "42a82284",
   "metadata": {},
   "outputs": [],
   "source": [
    "print (olatunji)"
   ]
  },
  {
   "cell_type": "code",
   "execution_count": null,
   "id": "f006d659",
   "metadata": {},
   "outputs": [],
   "source": [
    "olatunji == \"TALL\""
   ]
  },
  {
   "cell_type": "code",
   "execution_count": null,
   "id": "42d75bd4",
   "metadata": {},
   "outputs": [],
   "source": [
    "olatunji != \"TALL\""
   ]
  },
  {
   "cell_type": "code",
   "execution_count": null,
   "id": "bb71389e",
   "metadata": {},
   "outputs": [],
   "source": [
    "a = 40\n",
    "b= 30"
   ]
  },
  {
   "cell_type": "code",
   "execution_count": null,
   "id": "01de4009",
   "metadata": {},
   "outputs": [],
   "source": [
    "a > b"
   ]
  },
  {
   "cell_type": "code",
   "execution_count": null,
   "id": "c04dac1d",
   "metadata": {},
   "outputs": [],
   "source": [
    "a < b"
   ]
  },
  {
   "cell_type": "markdown",
   "id": "01eb825c",
   "metadata": {},
   "source": [
    "### control flow\n",
    "conditional statement (if,elif,else) these statement help us to make python behave intelligently."
   ]
  },
  {
   "cell_type": "code",
   "execution_count": null,
   "id": "6c733b60",
   "metadata": {},
   "outputs": [],
   "source": [
    "age=17\n",
    "\n",
    "if age >= 18:\n",
    "    print(\"You're an adult\")\n",
    "# using the else if statement\n",
    "elif (age > 15) & (age < 18):\n",
    "    print(\"You're an adolescent\")\n",
    "else:\n",
    "    print(\"You're not an adult\")"
   ]
  },
  {
   "cell_type": "code",
   "execution_count": null,
   "id": "736e27ef",
   "metadata": {},
   "outputs": [],
   "source": [
    "# built in function\n",
    "#print\n",
    "print(\"We are learning python together\")\n",
    "\n",
    "#len(text) to ptint the numbers of the text or words\n",
    "students = \"chaviva\"\n",
    "len(students)\n",
    "\n",
    "#round- rounds to a particular significant value\n",
    "round(999/ 2)\n",
    "#type -check the data type of an object\n",
    "type(students)\n",
    "\n",
    "#input- get input from user\n",
    "name = input(\"What is your name: \")\n",
    "print(\"Your name is: \", name)"
   ]
  },
  {
   "cell_type": "code",
   "execution_count": null,
   "id": "0d37ce4b",
   "metadata": {},
   "outputs": [],
   "source": [
    "for i in range(1,5):\n",
    "      print(i)"
   ]
  },
  {
   "cell_type": "code",
   "execution_count": null,
   "id": "74c102dd",
   "metadata": {},
   "outputs": [],
   "source": [
    "for students in students:\n",
    "    print(students)"
   ]
  },
  {
   "cell_type": "code",
   "execution_count": null,
   "id": "0a5e0218",
   "metadata": {
    "scrolled": true
   },
   "outputs": [],
   "source": [
    "for character in students:\n",
    "    print(character, end=\" \")"
   ]
  },
  {
   "cell_type": "code",
   "execution_count": null,
   "id": "6c48f4a2",
   "metadata": {
    "scrolled": false
   },
   "outputs": [],
   "source": [
    "#declaring a variable to sum my total \n",
    "total = 0\n",
    "for i in range(100):\n",
    "    # checking if the numbers are even\n",
    "    if i % 2 == 0:\n",
    "        \n",
    "        total = total + i\n",
    "print(total)"
   ]
  },
  {
   "cell_type": "code",
   "execution_count": null,
   "id": "c4b7aa7c",
   "metadata": {},
   "outputs": [],
   "source": [
    "#this is a list containing fruit\n",
    "fruits = [\"apple\",\"banana\",\"cherry\"]"
   ]
  },
  {
   "cell_type": "code",
   "execution_count": null,
   "id": "5a3dec0b",
   "metadata": {},
   "outputs": [],
   "source": [
    "fruits"
   ]
  },
  {
   "cell_type": "code",
   "execution_count": null,
   "id": "a3c732af",
   "metadata": {},
   "outputs": [],
   "source": [
    "fruits[2] #apple is 0 because python starts counting from 0"
   ]
  },
  {
   "cell_type": "code",
   "execution_count": null,
   "id": "92163323",
   "metadata": {},
   "outputs": [],
   "source": [
    "#slicing , we can slice our list\n",
    "print(fruits[0:2]) #gives the first two item\n",
    "print(fruits[0:3]) #gives the three item on the list\n",
    "print(fruits[0:]) #starts from the index 0 and print till the end\n",
    "print(fruits[:]) #prints everything on the list\n",
    "print [0:6:3] #prints \n",
    "print(fruits[-1]) #prints the last item on the list"
   ]
  },
  {
   "cell_type": "code",
   "execution_count": null,
   "id": "21be3a21",
   "metadata": {},
   "outputs": [],
   "source": [
    "for fruit in fruits:\n",
    "    print(fruit)"
   ]
  },
  {
   "cell_type": "code",
   "execution_count": null,
   "id": "424b8722",
   "metadata": {},
   "outputs": [],
   "source": [
    "fruits.append(\"Mango\") #this command adds item to the end of the list"
   ]
  },
  {
   "cell_type": "code",
   "execution_count": null,
   "id": "d4a18c14",
   "metadata": {},
   "outputs": [],
   "source": [
    "fruits"
   ]
  },
  {
   "cell_type": "code",
   "execution_count": null,
   "id": "e1693ca7",
   "metadata": {},
   "outputs": [],
   "source": [
    "fruits.append(\"pineapple\")"
   ]
  },
  {
   "cell_type": "code",
   "execution_count": null,
   "id": "6a483ffd",
   "metadata": {},
   "outputs": [],
   "source": [
    "#to remove an object from a list, you simply type fruits.remove(\"the object\"),to remove the whole list,type fruits.clear(\"the object\")"
   ]
  },
  {
   "cell_type": "code",
   "execution_count": null,
   "id": "776eb2ba",
   "metadata": {},
   "outputs": [],
   "source": [
    "fruits.count(\"apple\")"
   ]
  },
  {
   "cell_type": "code",
   "execution_count": null,
   "id": "04997d1b",
   "metadata": {},
   "outputs": [],
   "source": [
    "fruits.insert(0, \"pawpaw\") #this code adds an object to the  firstlist pushing the other ones"
   ]
  },
  {
   "cell_type": "markdown",
   "id": "b8dea054",
   "metadata": {},
   "source": [
    "##STRINGS OPERATIONS\n",
    "Strings are important concepts in python."
   ]
  },
  {
   "cell_type": "code",
   "execution_count": null,
   "id": "a923dc5d",
   "metadata": {},
   "outputs": [],
   "source": [
    "fruits"
   ]
  },
  {
   "cell_type": "code",
   "execution_count": null,
   "id": "6c2637e7",
   "metadata": {},
   "outputs": [],
   "source": [
    "fruit = \"Mango\"\n"
   ]
  },
  {
   "cell_type": "code",
   "execution_count": null,
   "id": "bfd0ef57",
   "metadata": {},
   "outputs": [],
   "source": [
    "fruit == \"banana\""
   ]
  },
  {
   "cell_type": "code",
   "execution_count": 23,
   "id": "15c2ce9d",
   "metadata": {},
   "outputs": [],
   "source": [
    "student = \"Dimeji Danels\""
   ]
  },
  {
   "cell_type": "code",
   "execution_count": null,
   "id": "e199ecb5",
   "metadata": {},
   "outputs": [],
   "source": [
    "student"
   ]
  },
  {
   "cell_type": "markdown",
   "id": "e71ee9e9",
   "metadata": {},
   "source": [
    "### THIS METHOD COUNTS THE OCCURENCE OF VALUES IN THE STRING"
   ]
  },
  {
   "cell_type": "code",
   "execution_count": null,
   "id": "883fc98d",
   "metadata": {},
   "outputs": [],
   "source": [
    "student.count(\"D\")"
   ]
  },
  {
   "cell_type": "code",
   "execution_count": null,
   "id": "7dde1129",
   "metadata": {},
   "outputs": [],
   "source": [
    "#this method replaces any value in the sting with another value\n",
    "student_= student.replace(\" \",\"_\")"
   ]
  },
  {
   "cell_type": "code",
   "execution_count": null,
   "id": "33efe736",
   "metadata": {},
   "outputs": [],
   "source": [
    "student"
   ]
  },
  {
   "cell_type": "code",
   "execution_count": null,
   "id": "aa1cc9e1",
   "metadata": {},
   "outputs": [],
   "source": [
    "student_list = student_.split(\"_\")"
   ]
  },
  {
   "cell_type": "code",
   "execution_count": null,
   "id": "374d884f",
   "metadata": {},
   "outputs": [],
   "source": [
    "student"
   ]
  },
  {
   "cell_type": "code",
   "execution_count": null,
   "id": "decb7692",
   "metadata": {},
   "outputs": [],
   "source": [
    "student_list[0] = \"lizzy\""
   ]
  },
  {
   "cell_type": "code",
   "execution_count": null,
   "id": "f8e99dff",
   "metadata": {},
   "outputs": [],
   "source": [
    "student_list"
   ]
  },
  {
   "cell_type": "code",
   "execution_count": null,
   "id": "52ee1b78",
   "metadata": {},
   "outputs": [],
   "source": [
    "student.lower()"
   ]
  },
  {
   "cell_type": "code",
   "execution_count": 25,
   "id": "697fdc1b",
   "metadata": {},
   "outputs": [
    {
     "data": {
      "text/plain": [
       "'DIMEJI DANELS'"
      ]
     },
     "execution_count": 25,
     "metadata": {},
     "output_type": "execute_result"
    }
   ],
   "source": [
    "student.upper()"
   ]
  },
  {
   "cell_type": "markdown",
   "id": "a302cb11",
   "metadata": {},
   "source": [
    "# functions \n",
    "fuctions allows us to reuse block of codes, it allows for clearer and concised coding practice\n",
    "function in python are usually started with the 'def' keyword"
   ]
  },
  {
   "cell_type": "code",
   "execution_count": 30,
   "id": "bb47cf0f",
   "metadata": {},
   "outputs": [],
   "source": [
    "def greet():\n",
    "    print(\"Hello Good Morning!!!,Welcome to Gomycode, how was your night?\")"
   ]
  },
  {
   "cell_type": "code",
   "execution_count": 36,
   "id": "312b5b8f",
   "metadata": {},
   "outputs": [
    {
     "name": "stdout",
     "output_type": "stream",
     "text": [
      "Hello Good Morning!!!,Welcome to Gomycode, how was your night? chaviva\n"
     ]
    }
   ],
   "source": [
    "greet(\"chaviva\")"
   ]
  },
  {
   "cell_type": "code",
   "execution_count": 37,
   "id": "f6ce12ab",
   "metadata": {},
   "outputs": [],
   "source": [
    "def greet(name):\n",
    "    print(\"Hello Good Morning!!!,Welcome to Gomycode, how was your night?\",name)"
   ]
  },
  {
   "cell_type": "code",
   "execution_count": null,
   "id": "86292ab0",
   "metadata": {},
   "outputs": [],
   "source": [
    "##THIS IS TO INSERT NAME(PARAMETER) INSIDE THE FUNCTION"
   ]
  },
  {
   "cell_type": "code",
   "execution_count": 39,
   "id": "9f6e450b",
   "metadata": {},
   "outputs": [
    {
     "name": "stdout",
     "output_type": "stream",
     "text": [
      "Hello Good Morning!!!,Welcome to Gomycode, how was your night? chaviva\n"
     ]
    }
   ],
   "source": [
    "greet(\"chaviva\")"
   ]
  },
  {
   "cell_type": "code",
   "execution_count": 1,
   "id": "08864bee",
   "metadata": {},
   "outputs": [
    {
     "name": "stdout",
     "output_type": "stream",
     "text": [
      "x is True\n"
     ]
    }
   ],
   "source": [
    "x = (2>5) == (3==6)\n",
    "if x :\n",
    "    print('x is True')\n",
    "else:\n",
    "    prin('x is not True')"
   ]
  },
  {
   "cell_type": "code",
   "execution_count": 2,
   "id": "b8e87bf9",
   "metadata": {},
   "outputs": [
    {
     "name": "stdout",
     "output_type": "stream",
     "text": [
      "Good evening\n"
     ]
    }
   ],
   "source": [
    "x=19\n",
    "if x < 10:\n",
    "    print (\"Good morning\")\n",
    "elif x<12: \n",
    "    print (\"Soon time for lunch\")\n",
    "elif x<18: \n",
    "    print (\"Good day\")\n",
    "elif x<22: \n",
    "    print (\"Good evening\")\n",
    "else: \n",
    "    print (\"Good night\")"
   ]
  },
  {
   "cell_type": "code",
   "execution_count": 3,
   "id": "e389a4dd",
   "metadata": {},
   "outputs": [
    {
     "data": {
      "text/plain": [
       "4"
      ]
     },
     "execution_count": 3,
     "metadata": {},
     "output_type": "execute_result"
    }
   ],
   "source": [
    "9 // 2"
   ]
  },
  {
   "cell_type": "code",
   "execution_count": 1,
   "id": "1d0a5b6c",
   "metadata": {},
   "outputs": [
    {
     "name": "stdout",
     "output_type": "stream",
     "text": [
      "False\n"
     ]
    }
   ],
   "source": [
    "print((2>5) == (6>2))\n",
    "\n",
    "\n"
   ]
  },
  {
   "cell_type": "code",
   "execution_count": 3,
   "id": "f4fe52fd",
   "metadata": {},
   "outputs": [],
   "source": [
    "def greet():\n",
    "    print(\"hello good morning!!!,welcome to gomycode\")"
   ]
  },
  {
   "cell_type": "code",
   "execution_count": 4,
   "id": "90c27d24",
   "metadata": {},
   "outputs": [
    {
     "name": "stdout",
     "output_type": "stream",
     "text": [
      "hello good morning!!!,welcome to gomycode\n"
     ]
    }
   ],
   "source": [
    "greet()"
   ]
  },
  {
   "cell_type": "code",
   "execution_count": 5,
   "id": "07d2c256",
   "metadata": {},
   "outputs": [],
   "source": [
    "def greet(name):\n",
    "    return(\"Hello welcome to gomycode\", name)"
   ]
  },
  {
   "cell_type": "code",
   "execution_count": 6,
   "id": "9db99e07",
   "metadata": {},
   "outputs": [
    {
     "data": {
      "text/plain": [
       "('Hello welcome to gomycode', 'olatunde')"
      ]
     },
     "execution_count": 6,
     "metadata": {},
     "output_type": "execute_result"
    }
   ],
   "source": [
    "greet(\"olatunde\")"
   ]
  },
  {
   "cell_type": "code",
   "execution_count": 9,
   "id": "2c529033",
   "metadata": {},
   "outputs": [],
   "source": [
    "greetings = greet(\"Temitope\")"
   ]
  },
  {
   "cell_type": "code",
   "execution_count": 10,
   "id": "b5c0de7b",
   "metadata": {},
   "outputs": [
    {
     "data": {
      "text/plain": [
       "('Hello welcome to gomycode', 'Temitope')"
      ]
     },
     "execution_count": 10,
     "metadata": {},
     "output_type": "execute_result"
    }
   ],
   "source": [
    "greetings"
   ]
  },
  {
   "cell_type": "code",
   "execution_count": 12,
   "id": "9796bd1f",
   "metadata": {},
   "outputs": [],
   "source": [
    "def greet(name):\n",
    "    return f\"hello welcome to gomycode {name}\" #this returns the output of the"
   ]
  },
  {
   "cell_type": "code",
   "execution_count": 13,
   "id": "545af48b",
   "metadata": {},
   "outputs": [
    {
     "data": {
      "text/plain": [
       "'hello welcome to gomycode chief'"
      ]
     },
     "execution_count": 13,
     "metadata": {},
     "output_type": "execute_result"
    }
   ],
   "source": [
    "greet(\"chief\")"
   ]
  },
  {
   "cell_type": "code",
   "execution_count": 14,
   "id": "45d12985",
   "metadata": {},
   "outputs": [
    {
     "name": "stdout",
     "output_type": "stream",
     "text": [
      "('Hello welcome to gomycode', 'Temitope')\n"
     ]
    }
   ],
   "source": [
    "print(greetings)"
   ]
  },
  {
   "cell_type": "markdown",
   "id": "5d9dc840",
   "metadata": {},
   "source": [
    "Write a program that takes in a birthday (dd,\n",
    "mm, yy) and returns:\n",
    "– The age\n",
    "– Number of days until next birthday"
   ]
  },
  {
   "cell_type": "code",
   "execution_count": 15,
   "id": "e2440b0b",
   "metadata": {},
   "outputs": [],
   "source": [
    "#global and local variables\n",
    "x = 10 #this is a global variable\n",
    "def number():\n",
    "    y = 5 #this value is local to this function\n",
    "    x = 2 #this value is local to this function\n",
    "    return y + x\n"
   ]
  },
  {
   "cell_type": "code",
   "execution_count": 16,
   "id": "c63cf621",
   "metadata": {},
   "outputs": [
    {
     "data": {
      "text/plain": [
       "7"
      ]
     },
     "execution_count": 16,
     "metadata": {},
     "output_type": "execute_result"
    }
   ],
   "source": [
    "number()"
   ]
  },
  {
   "cell_type": "code",
   "execution_count": 17,
   "id": "50f38907",
   "metadata": {},
   "outputs": [],
   "source": [
    "word = \"python is fun\""
   ]
  },
  {
   "cell_type": "code",
   "execution_count": 18,
   "id": "8c441760",
   "metadata": {},
   "outputs": [
    {
     "data": {
      "text/plain": [
       "['python', 'is', 'fun']"
      ]
     },
     "execution_count": 18,
     "metadata": {},
     "output_type": "execute_result"
    }
   ],
   "source": [
    "word.split()"
   ]
  },
  {
   "cell_type": "code",
   "execution_count": 7,
   "id": "799699e7",
   "metadata": {},
   "outputs": [],
   "source": [
    "text = \"how are you feeling today\""
   ]
  },
  {
   "cell_type": "code",
   "execution_count": 8,
   "id": "5baecab2",
   "metadata": {},
   "outputs": [
    {
     "data": {
      "text/plain": [
       "'how are you feeling today'"
      ]
     },
     "execution_count": 8,
     "metadata": {},
     "output_type": "execute_result"
    }
   ],
   "source": [
    "text"
   ]
  },
  {
   "cell_type": "code",
   "execution_count": 9,
   "id": "821debfa",
   "metadata": {},
   "outputs": [
    {
     "data": {
      "text/plain": [
       "'HOW ARE YOU FEELING TODAY'"
      ]
     },
     "execution_count": 9,
     "metadata": {},
     "output_type": "execute_result"
    }
   ],
   "source": [
    "text.upper()"
   ]
  },
  {
   "cell_type": "code",
   "execution_count": 22,
   "id": "e460d938",
   "metadata": {},
   "outputs": [
    {
     "name": "stdout",
     "output_type": "stream",
     "text": [
      "h\n",
      "o\n",
      "w\n",
      " \n",
      "a\n",
      "r\n",
      "e\n",
      " \n",
      "y\n",
      "o\n",
      "u\n",
      " \n",
      "f\n",
      "e\n",
      "e\n",
      "l\n",
      "i\n",
      "n\n",
      "g\n",
      " \n",
      "t\n",
      "o\n",
      "d\n",
      "a\n",
      "y\n"
     ]
    }
   ],
   "source": [
    "for i in text:\n",
    "    print(i)"
   ]
  },
  {
   "cell_type": "code",
   "execution_count": 10,
   "id": "038c1802",
   "metadata": {},
   "outputs": [
    {
     "data": {
      "text/plain": [
       "25"
      ]
     },
     "execution_count": 10,
     "metadata": {},
     "output_type": "execute_result"
    }
   ],
   "source": [
    "len(text)"
   ]
  },
  {
   "cell_type": "code",
   "execution_count": 11,
   "id": "e66d90d6",
   "metadata": {},
   "outputs": [],
   "source": [
    "text_list = text.split()"
   ]
  },
  {
   "cell_type": "code",
   "execution_count": 12,
   "id": "f55d9539",
   "metadata": {},
   "outputs": [
    {
     "name": "stdout",
     "output_type": "stream",
     "text": [
      "feeling\n",
      "today\n"
     ]
    }
   ],
   "source": [
    "text_2 = \"\"\n",
    "for i in text_list:\n",
    "    if len(i) > 3:\n",
    "        print(i)"
   ]
  },
  {
   "cell_type": "code",
   "execution_count": 13,
   "id": "3ca64d4e",
   "metadata": {},
   "outputs": [],
   "source": [
    "text_2 = []\n",
    "for i in text_list:\n",
    "    if len(i) > 3:\n",
    "        text_2.append(i)"
   ]
  },
  {
   "cell_type": "code",
   "execution_count": 14,
   "id": "bb7c4f57",
   "metadata": {},
   "outputs": [
    {
     "data": {
      "text/plain": [
       "['feeling', 'today']"
      ]
     },
     "execution_count": 14,
     "metadata": {},
     "output_type": "execute_result"
    }
   ],
   "source": [
    "text_2"
   ]
  },
  {
   "cell_type": "code",
   "execution_count": null,
   "id": "556f426d",
   "metadata": {},
   "outputs": [],
   "source": [
    "#list slicing with steps\n",
    "text_list[::-1] [#start:stop:step] this method reads the message from the last to the first"
   ]
  },
  {
   "cell_type": "code",
   "execution_count": null,
   "id": "e0544873",
   "metadata": {},
   "outputs": [],
   "source": [
    "text_list[3::2] #this method start"
   ]
  },
  {
   "cell_type": "code",
   "execution_count": 15,
   "id": "6f075f30",
   "metadata": {},
   "outputs": [],
   "source": [
    "#write a python program to sum all the items in a list\n",
    "numbers = [2, 4, 6, 7, 8, 9 ,10]"
   ]
  },
  {
   "cell_type": "code",
   "execution_count": 16,
   "id": "3cdc3ba0",
   "metadata": {},
   "outputs": [
    {
     "name": "stdout",
     "output_type": "stream",
     "text": [
      "2\n",
      "6\n",
      "12\n",
      "19\n",
      "27\n",
      "36\n",
      "46\n"
     ]
    }
   ],
   "source": [
    "#adding all numbers in a list\n",
    "total = 0 #the o calculate 0+2=2, 2+4=6 6+6=12 12+7=19 and so on  the 0 can be a different number\n",
    "for i in numbers:\n",
    "    total = total + i\n",
    "    print(total)"
   ]
  },
  {
   "cell_type": "markdown",
   "id": "595619ea",
   "metadata": {},
   "source": [
    "# tuples\n",
    "this python data structures is not changeable(mutable) once decleared,they are denoted by round brackets\n",
    "()brackets are used to call a method or function\n",
    "[] are used for creating list and slicing , indexing\n",
    ". the dot is used to access the method of an object\n",
    "def are used to declear a function\n",
    ": colon is used to start a block of code and used in slicing\n",
    "= is used for assigning variables\n",
    "{} used for creating a set and dictionary\n",
    "__==used to check equality(maybe the right is equal to the left\n",
    "for is used for iteration(going over a sequence)\n",
    "--# is used for comments\n",
    "\"\"\" used for multiline comments"
   ]
  },
  {
   "cell_type": "code",
   "execution_count": 17,
   "id": "4d569576",
   "metadata": {},
   "outputs": [],
   "source": [
    "points =(3,5)"
   ]
  },
  {
   "cell_type": "code",
   "execution_count": 18,
   "id": "6f7818ca",
   "metadata": {},
   "outputs": [],
   "source": [
    "point_list = list(points)"
   ]
  },
  {
   "cell_type": "code",
   "execution_count": 19,
   "id": "4de05f04",
   "metadata": {},
   "outputs": [
    {
     "data": {
      "text/plain": [
       "[3, 5]"
      ]
     },
     "execution_count": 19,
     "metadata": {},
     "output_type": "execute_result"
    }
   ],
   "source": [
    "point_list"
   ]
  },
  {
   "cell_type": "code",
   "execution_count": 20,
   "id": "524d24a7",
   "metadata": {},
   "outputs": [
    {
     "data": {
      "text/plain": [
       "(3, 5)"
      ]
     },
     "execution_count": 20,
     "metadata": {},
     "output_type": "execute_result"
    }
   ],
   "source": [
    "points"
   ]
  },
  {
   "cell_type": "code",
   "execution_count": 21,
   "id": "1c10cd24",
   "metadata": {},
   "outputs": [
    {
     "data": {
      "text/plain": [
       "1"
      ]
     },
     "execution_count": 21,
     "metadata": {},
     "output_type": "execute_result"
    }
   ],
   "source": [
    "points.count(5)"
   ]
  },
  {
   "cell_type": "code",
   "execution_count": 23,
   "id": "15c63cf6",
   "metadata": {},
   "outputs": [
    {
     "data": {
      "text/plain": [
       "0"
      ]
     },
     "execution_count": 23,
     "metadata": {},
     "output_type": "execute_result"
    }
   ],
   "source": [
    "points.index(3) #the position of the number in the list according to how it is arranged(index)"
   ]
  },
  {
   "cell_type": "markdown",
   "id": "2430c1f1",
   "metadata": {},
   "source": [
    "# dictionaries\n",
    "dictionaries are python data structure that store values using key pair values,stores values that have relationship"
   ]
  },
  {
   "cell_type": "code",
   "execution_count": 1,
   "id": "fedd3442",
   "metadata": {},
   "outputs": [],
   "source": [
    "person = {\"name\": \"Alice\", \"age\":30, \"sex\": \"Female\" }"
   ]
  },
  {
   "cell_type": "code",
   "execution_count": 2,
   "id": "d435e13b",
   "metadata": {},
   "outputs": [
    {
     "data": {
      "text/plain": [
       "{'name': 'Alice', 'age': 30, 'sex': 'Female'}"
      ]
     },
     "execution_count": 2,
     "metadata": {},
     "output_type": "execute_result"
    }
   ],
   "source": [
    "person"
   ]
  },
  {
   "cell_type": "code",
   "execution_count": 3,
   "id": "00aa9889",
   "metadata": {},
   "outputs": [
    {
     "data": {
      "text/plain": [
       "'Alice'"
      ]
     },
     "execution_count": 3,
     "metadata": {},
     "output_type": "execute_result"
    }
   ],
   "source": [
    "person[\"name\"]"
   ]
  },
  {
   "cell_type": "code",
   "execution_count": 4,
   "id": "7369e44f",
   "metadata": {},
   "outputs": [
    {
     "data": {
      "text/plain": [
       "'Female'"
      ]
     },
     "execution_count": 4,
     "metadata": {},
     "output_type": "execute_result"
    }
   ],
   "source": [
    "person[\"sex\"]"
   ]
  },
  {
   "cell_type": "code",
   "execution_count": 5,
   "id": "ea916c99",
   "metadata": {},
   "outputs": [],
   "source": [
    "person[\"sex\"] = \"i prefer not to say\""
   ]
  },
  {
   "cell_type": "code",
   "execution_count": 6,
   "id": "a8d9807e",
   "metadata": {},
   "outputs": [
    {
     "data": {
      "text/plain": [
       "{'name': 'Alice', 'age': 30, 'sex': 'i prefer not to say'}"
      ]
     },
     "execution_count": 6,
     "metadata": {},
     "output_type": "execute_result"
    }
   ],
   "source": [
    "person"
   ]
  },
  {
   "cell_type": "code",
   "execution_count": 7,
   "id": "687f7ea6",
   "metadata": {},
   "outputs": [],
   "source": [
    "import pandas as pd"
   ]
  },
  {
   "cell_type": "code",
   "execution_count": 8,
   "id": "ce9375e5",
   "metadata": {},
   "outputs": [
    {
     "data": {
      "text/html": [
       "<div>\n",
       "<style scoped>\n",
       "    .dataframe tbody tr th:only-of-type {\n",
       "        vertical-align: middle;\n",
       "    }\n",
       "\n",
       "    .dataframe tbody tr th {\n",
       "        vertical-align: top;\n",
       "    }\n",
       "\n",
       "    .dataframe thead th {\n",
       "        text-align: right;\n",
       "    }\n",
       "</style>\n",
       "<table border=\"1\" class=\"dataframe\">\n",
       "  <thead>\n",
       "    <tr style=\"text-align: right;\">\n",
       "      <th></th>\n",
       "      <th>name</th>\n",
       "      <th>age</th>\n",
       "      <th>sex</th>\n",
       "    </tr>\n",
       "  </thead>\n",
       "  <tbody>\n",
       "    <tr>\n",
       "      <th>0</th>\n",
       "      <td>Alice</td>\n",
       "      <td>30</td>\n",
       "      <td>i prefer not to say</td>\n",
       "    </tr>\n",
       "  </tbody>\n",
       "</table>\n",
       "</div>"
      ],
      "text/plain": [
       "    name  age                  sex\n",
       "0  Alice   30  i prefer not to say"
      ]
     },
     "execution_count": 8,
     "metadata": {},
     "output_type": "execute_result"
    }
   ],
   "source": [
    "pd.DataFrame(person,index=range(1))"
   ]
  },
  {
   "cell_type": "code",
   "execution_count": 9,
   "id": "f45058d6",
   "metadata": {},
   "outputs": [
    {
     "data": {
      "text/plain": [
       "{'name': 'Alice', 'age': 30, 'sex': 'i prefer not to say'}"
      ]
     },
     "execution_count": 9,
     "metadata": {},
     "output_type": "execute_result"
    }
   ],
   "source": [
    "person"
   ]
  },
  {
   "cell_type": "code",
   "execution_count": 10,
   "id": "1f93073a",
   "metadata": {},
   "outputs": [],
   "source": [
    "person_1 = person.copy()"
   ]
  },
  {
   "cell_type": "code",
   "execution_count": 12,
   "id": "21ace4c8",
   "metadata": {},
   "outputs": [
    {
     "data": {
      "text/plain": [
       "{'name': 'Alice', 'age': 30, 'sex': 'i prefer not to say'}"
      ]
     },
     "execution_count": 12,
     "metadata": {},
     "output_type": "execute_result"
    }
   ],
   "source": [
    "person_1"
   ]
  },
  {
   "cell_type": "code",
   "execution_count": 14,
   "id": "ed55dc26",
   "metadata": {},
   "outputs": [],
   "source": [
    "person_1[\"name\"] = \"Tunde\""
   ]
  },
  {
   "cell_type": "code",
   "execution_count": 9,
   "id": "21cc3886",
   "metadata": {},
   "outputs": [
    {
     "name": "stdout",
     "output_type": "stream",
     "text": [
      "what quantity of pizza do you need?5\n",
      "Total balance is $ 25\n"
     ]
    }
   ],
   "source": [
    "small_pizza = 15\n",
    "medium_pizza = 20\n",
    "large_pizza = 25\n",
    "pepperoni_small_size= 2\n",
    "pepperoni_medium_large = 3\n",
    "cheese = 1\n",
    "import easygui\n",
    "size = easygui.enterbox(\"What pizza size do you want? choose 'L' for large, 'M'for medium,'S' for small\" ). lower ()\n",
    "quantity = input('what quantity of pizza do you need?').lower()\n",
    "if size == 'l':\n",
    "    print(\"Total balance is $\",large_pizza) # total balance to define the price\n",
    "elif size == 'm':\n",
    "    print(\"Total balance is $\",medium_pizza)\n",
    "elif size =='s':\n",
    "    print(\"Total balance is $\",small_pizza)\n",
    "elif size == 'l' & add_pepperoni == 'y':    \n",
    "     print(\"your balance is\")        "
   ]
  },
  {
   "cell_type": "code",
   "execution_count": 15,
   "id": "23165658",
   "metadata": {},
   "outputs": [
    {
     "data": {
      "text/plain": [
       "{'name': 'Tunde', 'age': 30, 'sex': 'i prefer not to say'}"
      ]
     },
     "execution_count": 15,
     "metadata": {},
     "output_type": "execute_result"
    }
   ],
   "source": [
    "person_1"
   ]
  },
  {
   "cell_type": "code",
   "execution_count": 16,
   "id": "7f01f1f4",
   "metadata": {},
   "outputs": [],
   "source": [
    "#adding key value pair to the dictionary\n",
    "person_1[\"hairstyle\"] = \"cornrow\""
   ]
  },
  {
   "cell_type": "code",
   "execution_count": 17,
   "id": "9ca8e6ae",
   "metadata": {},
   "outputs": [
    {
     "data": {
      "text/plain": [
       "{'name': 'Tunde',\n",
       " 'age': 30,\n",
       " 'sex': 'i prefer not to say',\n",
       " 'hairstyle': 'cornrow'}"
      ]
     },
     "execution_count": 17,
     "metadata": {},
     "output_type": "execute_result"
    }
   ],
   "source": [
    "person_1"
   ]
  },
  {
   "cell_type": "code",
   "execution_count": 19,
   "id": "5b2bfbd3",
   "metadata": {},
   "outputs": [
    {
     "data": {
      "text/plain": [
       "'cornrow'"
      ]
     },
     "execution_count": 19,
     "metadata": {},
     "output_type": "execute_result"
    }
   ],
   "source": [
    "#the get method prints out the value of the key passed into\n",
    "person_1.get(\"hairstyle\") "
   ]
  },
  {
   "cell_type": "code",
   "execution_count": 20,
   "id": "afb27ba4",
   "metadata": {},
   "outputs": [
    {
     "data": {
      "text/plain": [
       "dict_items([('name', 'Tunde'), ('age', 30), ('sex', 'i prefer not to say'), ('hairstyle', 'cornrow')])"
      ]
     },
     "execution_count": 20,
     "metadata": {},
     "output_type": "execute_result"
    }
   ],
   "source": [
    "#the item method prints the key and the values o the elements in the dictionary\n",
    "person_1.items()"
   ]
  },
  {
   "cell_type": "code",
   "execution_count": 21,
   "id": "b1ce3df6",
   "metadata": {},
   "outputs": [
    {
     "data": {
      "text/plain": [
       "dict_keys(['name', 'age', 'sex', 'hairstyle'])"
      ]
     },
     "execution_count": 21,
     "metadata": {},
     "output_type": "execute_result"
    }
   ],
   "source": [
    "#the key metoods prints out the keys in our dictionary\n",
    "person_1.keys()"
   ]
  },
  {
   "cell_type": "code",
   "execution_count": 22,
   "id": "e2e10d7d",
   "metadata": {},
   "outputs": [
    {
     "data": {
      "text/plain": [
       "'cornrow'"
      ]
     },
     "execution_count": 22,
     "metadata": {},
     "output_type": "execute_result"
    }
   ],
   "source": [
    "#the pop method removes the key and value of the key poped\n",
    "person_1.pop(\"hairstyle\")"
   ]
  },
  {
   "cell_type": "code",
   "execution_count": 25,
   "id": "063e383a",
   "metadata": {},
   "outputs": [
    {
     "data": {
      "text/plain": [
       "{'name': 'Tunde', 'age': 30, 'sex': 'i prefer not to say'}"
      ]
     },
     "execution_count": 25,
     "metadata": {},
     "output_type": "execute_result"
    }
   ],
   "source": [
    "person_1"
   ]
  },
  {
   "cell_type": "code",
   "execution_count": 24,
   "id": "aa353737",
   "metadata": {},
   "outputs": [
    {
     "data": {
      "text/plain": [
       "{'name': 'Tunde', 'age': 30, 'sex': 'i prefer not to say'}"
      ]
     },
     "execution_count": 24,
     "metadata": {},
     "output_type": "execute_result"
    }
   ],
   "source": [
    "person_1"
   ]
  },
  {
   "cell_type": "code",
   "execution_count": null,
   "id": "b87f44b9",
   "metadata": {},
   "outputs": [],
   "source": []
  },
  {
   "cell_type": "code",
   "execution_count": 19,
   "id": "40180e67",
   "metadata": {},
   "outputs": [
    {
     "name": "stdout",
     "output_type": "stream",
     "text": [
      "Collecting easygui\n",
      "  Obtaining dependency information for easygui from https://files.pythonhosted.org/packages/8e/a7/b276ff776533b423710a285c8168b52551cb2ab0855443131fdc7fd8c16f/easygui-0.98.3-py2.py3-none-any.whl.metadata\n",
      "  Downloading easygui-0.98.3-py2.py3-none-any.whl.metadata (8.4 kB)\n",
      "Downloading easygui-0.98.3-py2.py3-none-any.whl (92 kB)\n",
      "   ---------------------------------------- 0.0/92.7 kB ? eta -:--:--\n",
      "   ---------------------------------------- 0.0/92.7 kB ? eta -:--:--\n",
      "   ---------------------------------------- 0.0/92.7 kB ? eta -:--:--\n",
      "   ---------------------------------------- 0.0/92.7 kB ? eta -:--:--\n",
      "   ---------------------------------------- 0.0/92.7 kB ? eta -:--:--\n",
      "   ---------------------------------------- 0.0/92.7 kB ? eta -:--:--\n",
      "   ---------------------------------------- 0.0/92.7 kB ? eta -:--:--\n",
      "   ---------------------------------------- 0.0/92.7 kB ? eta -:--:--\n",
      "   ---------------------------------------- 0.0/92.7 kB ? eta -:--:--\n",
      "   ---------------------------------------- 0.0/92.7 kB ? eta -:--:--\n",
      "   ---------------------------------------- 0.0/92.7 kB ? eta -:--:--\n",
      "   ---------------------------------------- 0.0/92.7 kB ? eta -:--:--\n",
      "   ---------------------------------------- 0.0/92.7 kB ? eta -:--:--\n",
      "   ---------------------------------------- 0.0/92.7 kB ? eta -:--:--\n",
      "   ---------------------------------------- 0.0/92.7 kB ? eta -:--:--\n",
      "   ---------------------------------------- 0.0/92.7 kB ? eta -:--:--\n",
      "   ---------------------------------------- 0.0/92.7 kB ? eta -:--:--\n",
      "   ---------------------------------------- 0.0/92.7 kB ? eta -:--:--\n",
      "   ---------------------------------------- 0.0/92.7 kB ? eta -:--:--\n",
      "   ---------------------------------------- 0.0/92.7 kB ? eta -:--:--\n",
      "   ---------------------------------------- 0.0/92.7 kB ? eta -:--:--\n",
      "   ---------------------------------------- 0.0/92.7 kB ? eta -:--:--\n",
      "   ---------------------------------------- 0.0/92.7 kB ? eta -:--:--\n",
      "   ---------------------------------------- 0.0/92.7 kB ? eta -:--:--\n",
      "   ---------------------------------------- 0.0/92.7 kB ? eta -:--:--\n",
      "   ---------------------------------------- 0.0/92.7 kB ? eta -:--:--\n",
      "   ---------------------------------------- 0.0/92.7 kB ? eta -:--:--\n",
      "   ---------------------------------------- 0.0/92.7 kB ? eta -:--:--\n",
      "   ---------------------------------------- 0.0/92.7 kB ? eta -:--:--\n",
      "   ---------------------------------------- 0.0/92.7 kB ? eta -:--:--\n",
      "   ---------------------------------------- 0.0/92.7 kB ? eta -:--:--\n",
      "   ---------------------------------------- 0.0/92.7 kB ? eta -:--:--\n",
      "   ---------------------------------------- 0.0/92.7 kB ? eta -:--:--\n",
      "   ---------------------------------------- 0.0/92.7 kB ? eta -:--:--\n",
      "   ---------------------------------------- 0.0/92.7 kB ? eta -:--:--\n",
      "   ---------------------------------------- 0.0/92.7 kB ? eta -:--:--\n",
      "   ---------------------------------------- 0.0/92.7 kB ? eta -:--:--\n",
      "   ---------------------------------------- 0.0/92.7 kB ? eta -:--:--\n",
      "   ---------------------------------------- 0.0/92.7 kB ? eta -:--:--\n",
      "   ---------------------------------------- 0.0/92.7 kB ? eta -:--:--\n",
      "   ---------------------------------------- 0.0/92.7 kB ? eta -:--:--\n",
      "   ---------------------------------------- 0.0/92.7 kB ? eta -:--:--\n",
      "   ---------------------------------------- 0.0/92.7 kB ? eta -:--:--\n",
      "   ---------------------------------------- 0.0/92.7 kB ? eta -:--:--\n",
      "   ---------------------------------------- 0.0/92.7 kB ? eta -:--:--\n",
      "   ---------------------------------------- 0.0/92.7 kB ? eta -:--:--\n",
      "   ---------------------------------------- 0.0/92.7 kB ? eta -:--:--\n",
      "   ---------------------------------------- 0.0/92.7 kB ? eta -:--:--\n",
      "   ---------------------------------------- 0.0/92.7 kB ? eta -:--:--\n",
      "   ---------------------------------------- 0.0/92.7 kB ? eta -:--:--\n",
      "   ---------------------------------------- 0.0/92.7 kB ? eta -:--:--\n",
      "   ---------------------------------------- 0.0/92.7 kB ? eta -:--:--\n",
      "   ---------------------------------------- 0.0/92.7 kB ? eta -:--:--\n",
      "   ---------------------------------------- 0.0/92.7 kB ? eta -:--:--\n",
      "   ---------------------------------------- 0.0/92.7 kB ? eta -:--:--\n",
      "   ---------------------------------------- 0.0/92.7 kB ? eta -:--:--\n",
      "   ---------------------------------------- 0.0/92.7 kB ? eta -:--:--\n",
      "   ---------------------------------------- 0.0/92.7 kB ? eta -:--:--\n",
      "   ---------------------------------------- 0.0/92.7 kB ? eta -:--:--\n",
      "   ---------------------------------------- 0.0/92.7 kB ? eta -:--:--\n",
      "   ---------------------------------------- 0.0/92.7 kB ? eta -:--:--\n",
      "   ---------------------------------------- 0.0/92.7 kB ? eta -:--:--\n",
      "   ---------------------------------------- 0.0/92.7 kB ? eta -:--:--\n",
      "   ---------------------------------------- 0.0/92.7 kB ? eta -:--:--\n",
      "   ---------------------------------------- 0.0/92.7 kB ? eta -:--:--\n",
      "   ---------------------------------------- 0.0/92.7 kB ? eta -:--:--\n",
      "   ---------------------------------------- 0.0/92.7 kB ? eta -:--:--\n",
      "   ---------------------------------------- 0.0/92.7 kB ? eta -:--:--\n",
      "   ---------------------------------------- 0.0/92.7 kB ? eta -:--:--\n",
      "   ---------------------------------------- 0.0/92.7 kB ? eta -:--:--\n",
      "   ---------------------------------------- 0.0/92.7 kB ? eta -:--:--\n",
      "   ---------------------------------------- 0.0/92.7 kB ? eta -:--:--\n",
      "   ---------------------------------------- 0.0/92.7 kB ? eta -:--:--\n",
      "   ---------------------------------------- 0.0/92.7 kB ? eta -:--:--\n",
      "   ---------------------------------------- 0.0/92.7 kB ? eta -:--:--\n",
      "   ---------------------------------------- 0.0/92.7 kB ? eta -:--:--\n",
      "   ---------------------------------------- 0.0/92.7 kB ? eta -:--:--\n",
      "   ---------------------------------------- 0.0/92.7 kB ? eta -:--:--\n",
      "   ---------------------------------------- 0.0/92.7 kB ? eta -:--:--\n",
      "   ---------------------------------------- 0.0/92.7 kB ? eta -:--:--\n",
      "   ---------------------------------------- 0.0/92.7 kB ? eta -:--:--\n",
      "   ---------------------------------------- 0.0/92.7 kB ? eta -:--:--\n",
      "   ---------------------------------------- 0.0/92.7 kB ? eta -:--:--\n",
      "   ---------------------------------------- 0.0/92.7 kB ? eta -:--:--\n",
      "   ---------------------------------------- 0.0/92.7 kB ? eta -:--:--\n",
      "   ---------------------------------------- 0.0/92.7 kB ? eta -:--:--\n",
      "   ---------------------------------------- 0.0/92.7 kB ? eta -:--:--\n",
      "   ---------------------------------------- 0.0/92.7 kB ? eta -:--:--\n",
      "   ---------------------------------------- 0.0/92.7 kB ? eta -:--:--\n",
      "   ---------------------------------------- 0.0/92.7 kB ? eta -:--:--\n",
      "   ---------------------------------------- 0.0/92.7 kB ? eta -:--:--\n",
      "   ---------------------------------------- 0.0/92.7 kB ? eta -:--:--\n",
      "   ---------------------------------------- 0.0/92.7 kB ? eta -:--:--\n",
      "   ---------------------------------------- 0.0/92.7 kB ? eta -:--:--\n",
      "   ---------------------------------------- 0.0/92.7 kB ? eta -:--:--\n",
      "   ---------------------------------------- 0.0/92.7 kB ? eta -:--:--\n",
      "   ---------------------------------------- 0.0/92.7 kB ? eta -:--:--\n",
      "   ---------------------------------------- 0.0/92.7 kB ? eta -:--:--\n",
      "   ---------------------------------------- 0.0/92.7 kB ? eta -:--:--\n",
      "   ---------------------------------------- 0.0/92.7 kB ? eta -:--:--\n",
      "   ---------------------------------------- 0.0/92.7 kB ? eta -:--:--\n",
      "   ---------------------------------------- 0.0/92.7 kB ? eta -:--:--\n",
      "   ---------------------------------------- 0.0/92.7 kB ? eta -:--:--\n",
      "   ---------------------------------------- 0.0/92.7 kB ? eta -:--:--\n",
      "   ---------------------------------------- 0.0/92.7 kB ? eta -:--:--\n",
      "   ---------------------------------------- 0.0/92.7 kB ? eta -:--:--\n",
      "   ---------------------------------------- 0.0/92.7 kB ? eta -:--:--\n",
      "   ---------------------------------------- 0.0/92.7 kB ? eta -:--:--\n",
      "   ---------------------------------------- 0.0/92.7 kB ? eta -:--:--\n",
      "   ---------------------------------------- 0.0/92.7 kB ? eta -:--:--\n",
      "   ---------------------------------------- 0.0/92.7 kB ? eta -:--:--\n",
      "   ---- ----------------------------------- 10.2/92.7 kB ? eta -:--:--\n",
      "   ---- ----------------------------------- 10.2/92.7 kB ? eta -:--:--\n",
      "   ---- ----------------------------------- 10.2/92.7 kB ? eta -:--:--\n",
      "   ---- ----------------------------------- 10.2/92.7 kB ? eta -:--:--\n",
      "   ---- ----------------------------------- 10.2/92.7 kB ? eta -:--:--\n",
      "   ---- ----------------------------------- 10.2/92.7 kB ? eta -:--:--\n",
      "   ---- ----------------------------------- 10.2/92.7 kB ? eta -:--:--\n",
      "   ---- ----------------------------------- 10.2/92.7 kB ? eta -:--:--\n",
      "   ---- ----------------------------------- 10.2/92.7 kB ? eta -:--:--\n",
      "   ---- ----------------------------------- 10.2/92.7 kB ? eta -:--:--\n",
      "   ---- ----------------------------------- 10.2/92.7 kB ? eta -:--:--\n",
      "   ---- ----------------------------------- 10.2/92.7 kB ? eta -:--:--\n",
      "   ---- ----------------------------------- 10.2/92.7 kB ? eta -:--:--\n",
      "   ---- ----------------------------------- 10.2/92.7 kB ? eta -:--:--\n",
      "   ---- ----------------------------------- 10.2/92.7 kB ? eta -:--:--\n",
      "   ---- ----------------------------------- 10.2/92.7 kB ? eta -:--:--\n",
      "   ---- ----------------------------------- 10.2/92.7 kB ? eta -:--:--\n",
      "   ---- ----------------------------------- 10.2/92.7 kB ? eta -:--:--\n",
      "   ---- ----------------------------------- 10.2/92.7 kB ? eta -:--:--\n",
      "   ---- ----------------------------------- 10.2/92.7 kB ? eta -:--:--\n",
      "   ---- ----------------------------------- 10.2/92.7 kB ? eta -:--:--\n",
      "   ---- ----------------------------------- 10.2/92.7 kB ? eta -:--:--\n",
      "   ---- ----------------------------------- 10.2/92.7 kB ? eta -:--:--\n",
      "   ---- ----------------------------------- 10.2/92.7 kB ? eta -:--:--\n",
      "   ---- ----------------------------------- 10.2/92.7 kB ? eta -:--:--\n",
      "   ---- ----------------------------------- 10.2/92.7 kB ? eta -:--:--\n",
      "   ---- ----------------------------------- 10.2/92.7 kB ? eta -:--:--\n",
      "   ---- ----------------------------------- 10.2/92.7 kB ? eta -:--:--\n",
      "   ---- ----------------------------------- 10.2/92.7 kB ? eta -:--:--\n",
      "   ---- ----------------------------------- 10.2/92.7 kB ? eta -:--:--\n",
      "   ---- ----------------------------------- 10.2/92.7 kB ? eta -:--:--\n",
      "   ---- ----------------------------------- 10.2/92.7 kB ? eta -:--:--\n",
      "   ---- ----------------------------------- 10.2/92.7 kB ? eta -:--:--\n",
      "   ------------- -------------------------- 30.7/92.7 kB 14.1 kB/s eta 0:00:05\n",
      "   ------------- -------------------------- 30.7/92.7 kB 14.1 kB/s eta 0:00:05\n",
      "   ------------- -------------------------- 30.7/92.7 kB 14.1 kB/s eta 0:00:05\n",
      "   ------------- -------------------------- 30.7/92.7 kB 14.1 kB/s eta 0:00:05\n",
      "   ------------- -------------------------- 30.7/92.7 kB 14.1 kB/s eta 0:00:05\n",
      "   ------------- -------------------------- 30.7/92.7 kB 14.1 kB/s eta 0:00:05\n",
      "   ------------- -------------------------- 30.7/92.7 kB 14.1 kB/s eta 0:00:05\n",
      "   ------------- -------------------------- 30.7/92.7 kB 14.1 kB/s eta 0:00:05\n",
      "   ------------- -------------------------- 30.7/92.7 kB 14.1 kB/s eta 0:00:05\n",
      "   ------------- -------------------------- 30.7/92.7 kB 14.1 kB/s eta 0:00:05\n",
      "   ------------- -------------------------- 30.7/92.7 kB 14.1 kB/s eta 0:00:05\n",
      "   ------------- -------------------------- 30.7/92.7 kB 14.1 kB/s eta 0:00:05\n",
      "   ------------- -------------------------- 30.7/92.7 kB 14.1 kB/s eta 0:00:05\n",
      "   ----------------- ---------------------- 41.0/92.7 kB 15.0 kB/s eta 0:00:04\n",
      "   ----------------- ---------------------- 41.0/92.7 kB 15.0 kB/s eta 0:00:04\n",
      "   ----------------- ---------------------- 41.0/92.7 kB 15.0 kB/s eta 0:00:04\n",
      "   ----------------- ---------------------- 41.0/92.7 kB 15.0 kB/s eta 0:00:04\n",
      "   ----------------- ---------------------- 41.0/92.7 kB 15.0 kB/s eta 0:00:04\n",
      "   ----------------- ---------------------- 41.0/92.7 kB 15.0 kB/s eta 0:00:04\n",
      "   ----------------- ---------------------- 41.0/92.7 kB 15.0 kB/s eta 0:00:04\n",
      "   ----------------- ---------------------- 41.0/92.7 kB 15.0 kB/s eta 0:00:04\n",
      "   ----------------- ---------------------- 41.0/92.7 kB 15.0 kB/s eta 0:00:04\n",
      "   ----------------- ---------------------- 41.0/92.7 kB 15.0 kB/s eta 0:00:04\n",
      "   ----------------- ---------------------- 41.0/92.7 kB 15.0 kB/s eta 0:00:04\n",
      "   ----------------- ---------------------- 41.0/92.7 kB 15.0 kB/s eta 0:00:04\n",
      "   ----------------- ---------------------- 41.0/92.7 kB 15.0 kB/s eta 0:00:04\n",
      "   ----------------- ---------------------- 41.0/92.7 kB 15.0 kB/s eta 0:00:04\n",
      "   ----------------- ---------------------- 41.0/92.7 kB 15.0 kB/s eta 0:00:04\n",
      "   -------------------------- ------------- 61.4/92.7 kB 19.0 kB/s eta 0:00:02\n",
      "   -------------------------- ------------- 61.4/92.7 kB 19.0 kB/s eta 0:00:02\n",
      "   -------------------------- ------------- 61.4/92.7 kB 19.0 kB/s eta 0:00:02\n",
      "   -------------------------- ------------- 61.4/92.7 kB 19.0 kB/s eta 0:00:02\n",
      "   -------------------------- ------------- 61.4/92.7 kB 19.0 kB/s eta 0:00:02\n",
      "   -------------------------- ------------- 61.4/92.7 kB 19.0 kB/s eta 0:00:02\n",
      "   -------------------------- ------------- 61.4/92.7 kB 19.0 kB/s eta 0:00:02\n",
      "   -------------------------- ------------- 61.4/92.7 kB 19.0 kB/s eta 0:00:02\n",
      "   -------------------------- ------------- 61.4/92.7 kB 19.0 kB/s eta 0:00:02\n",
      "   -------------------------- ------------- 61.4/92.7 kB 19.0 kB/s eta 0:00:02\n",
      "   -------------------------- ------------- 61.4/92.7 kB 19.0 kB/s eta 0:00:02\n",
      "   ----------------------------------- ---- 81.9/92.7 kB 22.3 kB/s eta 0:00:01\n",
      "   ---------------------------------------  92.2/92.7 kB 25.2 kB/s eta 0:00:01\n",
      "   ---------------------------------------- 92.7/92.7 kB 25.0 kB/s eta 0:00:00\n",
      "Installing collected packages: easygui\n",
      "Successfully installed easygui-0.98.3\n",
      "Note: you may need to restart the kernel to use updated packages.\n"
     ]
    }
   ],
   "source": [
    "pip install easygui"
   ]
  },
  {
   "cell_type": "markdown",
   "id": "58d2bb4f",
   "metadata": {},
   "source": []
  },
  {
   "cell_type": "code",
   "execution_count": 26,
   "id": "ce51316d",
   "metadata": {},
   "outputs": [],
   "source": [
    "#update value of a key to a new value\n",
    "person_1.update({\"name\":\"chaviva\"})\n"
   ]
  },
  {
   "cell_type": "code",
   "execution_count": 27,
   "id": "a315031f",
   "metadata": {},
   "outputs": [
    {
     "data": {
      "text/plain": [
       "{'name': 'chaviva', 'age': 30, 'sex': 'i prefer not to say'}"
      ]
     },
     "execution_count": 27,
     "metadata": {},
     "output_type": "execute_result"
    }
   ],
   "source": [
    "person_1"
   ]
  },
  {
   "cell_type": "code",
   "execution_count": 29,
   "id": "aa9576a5",
   "metadata": {},
   "outputs": [
    {
     "data": {
      "text/plain": [
       "dict_values(['chaviva', 30, 'i prefer not to say'])"
      ]
     },
     "execution_count": 29,
     "metadata": {},
     "output_type": "execute_result"
    }
   ],
   "source": [
    "#this returns the values in the dictionary\n",
    "person_1.values()"
   ]
  },
  {
   "cell_type": "code",
   "execution_count": 33,
   "id": "cc473d43",
   "metadata": {},
   "outputs": [
    {
     "name": "stdout",
     "output_type": "stream",
     "text": [
      "name Alice\n",
      "age 30\n",
      "sex i prefer not to say\n"
     ]
    }
   ],
   "source": [
    "#dictionary iteration\n",
    "for i,y in person.items():\n",
    "    print(i,y)"
   ]
  },
  {
   "cell_type": "code",
   "execution_count": 35,
   "id": "60bf0a0d",
   "metadata": {},
   "outputs": [
    {
     "name": "stdout",
     "output_type": "stream",
     "text": [
      "name\n",
      "age\n",
      "sex\n"
     ]
    }
   ],
   "source": [
    "for i in person.keys():\n",
    "    print(i)"
   ]
  },
  {
   "cell_type": "code",
   "execution_count": null,
   "id": "d3bc6a85",
   "metadata": {},
   "outputs": [],
   "source": []
  },
  {
   "cell_type": "markdown",
   "id": "8929e8b2",
   "metadata": {},
   "source": [
    "# SETS\n",
    "Sets are unordered collections of unique elements.\n",
    "they are commonly used to perform mathematical set operations like union,intersection, and difference.set uses curly braces. it brings out the key values"
   ]
  },
  {
   "cell_type": "code",
   "execution_count": 14,
   "id": "4442066c",
   "metadata": {},
   "outputs": [],
   "source": [
    "my_set = {1,1,1,2,2,2,3,3,3,4,4,5}"
   ]
  },
  {
   "cell_type": "code",
   "execution_count": 15,
   "id": "87d3465a",
   "metadata": {},
   "outputs": [
    {
     "data": {
      "text/plain": [
       "{1, 2, 3, 4, 5}"
      ]
     },
     "execution_count": 15,
     "metadata": {},
     "output_type": "execute_result"
    }
   ],
   "source": [
    "my_set"
   ]
  },
  {
   "cell_type": "code",
   "execution_count": 16,
   "id": "d435277c",
   "metadata": {},
   "outputs": [
    {
     "data": {
      "text/plain": [
       "{'Brorokini', 'olatunde'}"
      ]
     },
     "execution_count": 16,
     "metadata": {},
     "output_type": "execute_result"
    }
   ],
   "source": [
    "#making  set out of a list\n",
    "set([\"olatunde\", \"Brorokini\", \"olatunde\"])"
   ]
  },
  {
   "cell_type": "code",
   "execution_count": 17,
   "id": "ac65c92f",
   "metadata": {},
   "outputs": [],
   "source": [
    "my_set.add(8)"
   ]
  },
  {
   "cell_type": "code",
   "execution_count": 8,
   "id": "e22899a2",
   "metadata": {},
   "outputs": [
    {
     "data": {
      "text/plain": [
       "{1, 2, 3, 4, 5, 8}"
      ]
     },
     "execution_count": 8,
     "metadata": {},
     "output_type": "execute_result"
    }
   ],
   "source": [
    "my_set"
   ]
  },
  {
   "cell_type": "code",
   "execution_count": 9,
   "id": "7c62f626",
   "metadata": {},
   "outputs": [],
   "source": [
    "#this method will clear all the element in the set\n",
    "my_set.clear()"
   ]
  },
  {
   "cell_type": "code",
   "execution_count": 18,
   "id": "fd45cbfe",
   "metadata": {},
   "outputs": [
    {
     "data": {
      "text/plain": [
       "{1, 2, 3, 4, 5, 8}"
      ]
     },
     "execution_count": 18,
     "metadata": {},
     "output_type": "execute_result"
    }
   ],
   "source": [
    "my_set"
   ]
  },
  {
   "cell_type": "code",
   "execution_count": 19,
   "id": "7ab8fc8b",
   "metadata": {},
   "outputs": [],
   "source": [
    "set_copy = my_set.copy()"
   ]
  },
  {
   "cell_type": "code",
   "execution_count": 20,
   "id": "aa1f3459",
   "metadata": {},
   "outputs": [
    {
     "data": {
      "text/plain": [
       "{1, 2, 3, 4, 5, 8}"
      ]
     },
     "execution_count": 20,
     "metadata": {},
     "output_type": "execute_result"
    }
   ],
   "source": [
    "set_copy"
   ]
  },
  {
   "cell_type": "code",
   "execution_count": 21,
   "id": "28cb7efd",
   "metadata": {},
   "outputs": [],
   "source": [
    "set_copy.add(10)"
   ]
  },
  {
   "cell_type": "code",
   "execution_count": 22,
   "id": "f5f618bd",
   "metadata": {},
   "outputs": [
    {
     "data": {
      "text/plain": [
       "{1, 2, 3, 4, 5, 8, 10}"
      ]
     },
     "execution_count": 22,
     "metadata": {},
     "output_type": "execute_result"
    }
   ],
   "source": [
    "set_copy"
   ]
  },
  {
   "cell_type": "code",
   "execution_count": 32,
   "id": "cdcdf5d4",
   "metadata": {},
   "outputs": [
    {
     "data": {
      "text/plain": [
       "{1, 2, 3, 4, 5, 8}"
      ]
     },
     "execution_count": 32,
     "metadata": {},
     "output_type": "execute_result"
    }
   ],
   "source": [
    "#this method will return the common element in both set\n",
    "set_copy.intersection(my_set)"
   ]
  },
  {
   "cell_type": "code",
   "execution_count": 28,
   "id": "942096f8",
   "metadata": {
    "scrolled": true
   },
   "outputs": [
    {
     "data": {
      "text/plain": [
       "{1, 2, 3, 4, 5, 8, 10}"
      ]
     },
     "execution_count": 28,
     "metadata": {},
     "output_type": "execute_result"
    }
   ],
   "source": [
    "my_set.union(set_copy)"
   ]
  },
  {
   "cell_type": "code",
   "execution_count": 23,
   "id": "f4cec8f5",
   "metadata": {},
   "outputs": [
    {
     "data": {
      "text/plain": [
       "{10}"
      ]
     },
     "execution_count": 23,
     "metadata": {},
     "output_type": "execute_result"
    }
   ],
   "source": [
    "#this method will allow us to get the difference in the set\n",
    "set_copy.difference(my_set)"
   ]
  },
  {
   "cell_type": "code",
   "execution_count": 30,
   "id": "0602b672",
   "metadata": {},
   "outputs": [],
   "source": [
    "set_copy.update([11,12,13,14])"
   ]
  },
  {
   "cell_type": "code",
   "execution_count": 31,
   "id": "465f1baa",
   "metadata": {},
   "outputs": [
    {
     "name": "stdout",
     "output_type": "stream",
     "text": [
      "{1, 2, 3, 4, 5, 8, 10, 11, 12, 13, 14}\n",
      "{1, 2, 3, 4, 5, 8}\n"
     ]
    }
   ],
   "source": [
    "print(set_copy)\n",
    "print(my_set)"
   ]
  },
  {
   "cell_type": "code",
   "execution_count": 24,
   "id": "54d43ebc",
   "metadata": {},
   "outputs": [],
   "source": [
    "#created a list of student names\n",
    "students = [\"olatunde\", \"Borokinni\", \"olatunde\", \"Dimeji\", \"oyebode\", \"chief\", \"chief\", \"chaviva\", \"chaviva\",\n",
    "            \"riches\", \"riches\", \"emma\", \"emma\", \"lizzy\", \"lizzy\", \"OG_Praise\", \"OG_Praise\"]"
   ]
  },
  {
   "cell_type": "code",
   "execution_count": null,
   "id": "74f145cb",
   "metadata": {},
   "outputs": [],
   "source": []
  },
  {
   "cell_type": "code",
   "execution_count": 26,
   "id": "beb6c058",
   "metadata": {},
   "outputs": [],
   "source": [
    "output = set() #decleared an empty set\n",
    "for name in students:#iterate through the student list\n",
    "    output.add(name)#added value to the set"
   ]
  },
  {
   "cell_type": "code",
   "execution_count": 27,
   "id": "31d3bfda",
   "metadata": {},
   "outputs": [
    {
     "data": {
      "text/plain": [
       "{'Borokinni',\n",
       " 'Dimeji',\n",
       " 'OG_Praise',\n",
       " 'chaviva',\n",
       " 'chief',\n",
       " 'emma',\n",
       " 'lizzy',\n",
       " 'olatunde',\n",
       " 'oyebode',\n",
       " 'riches'}"
      ]
     },
     "execution_count": 27,
     "metadata": {},
     "output_type": "execute_result"
    }
   ],
   "source": [
    "output"
   ]
  },
  {
   "cell_type": "code",
   "execution_count": null,
   "id": "1f79d3a2",
   "metadata": {},
   "outputs": [],
   "source": []
  },
  {
   "cell_type": "markdown",
   "id": "e54e7cd4",
   "metadata": {},
   "source": [
    "# Random module\n",
    "python's random module is a powerful tool for generating random data.it can be used for various purposes, such as generating random numbers , shuffling sequences, and making decisions based on randomness"
   ]
  },
  {
   "cell_type": "code",
   "execution_count": 1,
   "id": "d6d0a0aa",
   "metadata": {},
   "outputs": [],
   "source": [
    "import random"
   ]
  },
  {
   "cell_type": "code",
   "execution_count": 2,
   "id": "bccd9f83",
   "metadata": {},
   "outputs": [
    {
     "data": {
      "text/plain": [
       "9.883"
      ]
     },
     "execution_count": 2,
     "metadata": {},
     "output_type": "execute_result"
    }
   ],
   "source": [
    "abs(9.883)"
   ]
  },
  {
   "cell_type": "code",
   "execution_count": 3,
   "id": "ca4f613c",
   "metadata": {},
   "outputs": [],
   "source": [
    "import math"
   ]
  },
  {
   "cell_type": "code",
   "execution_count": 5,
   "id": "c4adbba2",
   "metadata": {},
   "outputs": [
    {
     "data": {
      "text/plain": [
       "3.0"
      ]
     },
     "execution_count": 5,
     "metadata": {},
     "output_type": "execute_result"
    }
   ],
   "source": [
    "math.sqrt(9)"
   ]
  },
  {
   "cell_type": "code",
   "execution_count": 6,
   "id": "147e09ca",
   "metadata": {},
   "outputs": [
    {
     "data": {
      "text/plain": [
       "2"
      ]
     },
     "execution_count": 6,
     "metadata": {},
     "output_type": "execute_result"
    }
   ],
   "source": [
    "math.floor(9/4)"
   ]
  },
  {
   "cell_type": "code",
   "execution_count": 7,
   "id": "3a4365dd",
   "metadata": {},
   "outputs": [],
   "source": [
    "import random"
   ]
  },
  {
   "cell_type": "code",
   "execution_count": 8,
   "id": "bad9cc6b",
   "metadata": {},
   "outputs": [
    {
     "data": {
      "text/plain": [
       "0.27846439414486435"
      ]
     },
     "execution_count": 8,
     "metadata": {},
     "output_type": "execute_result"
    }
   ],
   "source": [
    "#the random method generate floating point\n",
    "#number between 0 and 1\n",
    "random.random()"
   ]
  },
  {
   "cell_type": "code",
   "execution_count": 9,
   "id": "306f0f26",
   "metadata": {},
   "outputs": [],
   "source": [
    "random_num = random.random()"
   ]
  },
  {
   "cell_type": "code",
   "execution_count": 10,
   "id": "f4b1dbfb",
   "metadata": {},
   "outputs": [
    {
     "data": {
      "text/plain": [
       "0.8903475808866067"
      ]
     },
     "execution_count": 10,
     "metadata": {},
     "output_type": "execute_result"
    }
   ],
   "source": [
    "random_num"
   ]
  },
  {
   "cell_type": "markdown",
   "id": "3f9d83ab",
   "metadata": {},
   "source": [
    "# Random choices\n",
    "we use the choice () function to make random selections from a sequence such as a list"
   ]
  },
  {
   "cell_type": "code",
   "execution_count": 11,
   "id": "65d08518",
   "metadata": {},
   "outputs": [],
   "source": [
    "fruits = [\"apple\",\"banana\",\"cherry\",\"date\",\"elderberry\"]"
   ]
  },
  {
   "cell_type": "code",
   "execution_count": 14,
   "id": "312f6b43",
   "metadata": {},
   "outputs": [
    {
     "data": {
      "text/plain": [
       "'banana'"
      ]
     },
     "execution_count": 14,
     "metadata": {},
     "output_type": "execute_result"
    }
   ],
   "source": [
    "random_fruit = random.choice(fruits)\n",
    "random_fruit"
   ]
  },
  {
   "cell_type": "code",
   "execution_count": 57,
   "id": "89fa1f91",
   "metadata": {},
   "outputs": [
    {
     "data": {
      "text/plain": [
       "['elderberry', 'date']"
      ]
     },
     "execution_count": 57,
     "metadata": {},
     "output_type": "execute_result"
    }
   ],
   "source": [
    "#it brings out two random fruits in the list #k is the number of value to be used .k is constant \n",
    "random.choices(fruits, k=2)"
   ]
  },
  {
   "cell_type": "markdown",
   "id": "e15241a3",
   "metadata": {},
   "source": [
    "# shuffling random method\n",
    "The shuffle() method can be used to randomly reorder the elements of a sequence in place"
   ]
  },
  {
   "cell_type": "code",
   "execution_count": 18,
   "id": "97ffadd2",
   "metadata": {},
   "outputs": [],
   "source": [
    "cards = [\"ace\",\"2\",\"3\",\"4\",\"5\",\"6\",\"7\",\"8\",\"9\",\"10\",\"jack\",\"queen\"]\n",
    "random.shuffle(cards)"
   ]
  },
  {
   "cell_type": "code",
   "execution_count": 19,
   "id": "091ef18b",
   "metadata": {},
   "outputs": [
    {
     "data": {
      "text/plain": [
       "['9', 'queen', 'ace', '2', 'jack', '5', '10', '3', '7', '4', '6', '8']"
      ]
     },
     "execution_count": 19,
     "metadata": {},
     "output_type": "execute_result"
    }
   ],
   "source": [
    "cards"
   ]
  },
  {
   "cell_type": "code",
   "execution_count": 20,
   "id": "57da3a22",
   "metadata": {},
   "outputs": [],
   "source": [
    "#setting the random seed\n",
    "#you can set a seed for the random number\n",
    "#generator using seed() to ensure reproducibility\n",
    "random.seed(42)\n",
    "random_num = random.random()"
   ]
  },
  {
   "cell_type": "code",
   "execution_count": 21,
   "id": "b5a3bb5d",
   "metadata": {},
   "outputs": [
    {
     "data": {
      "text/plain": [
       "0.6394267984578837"
      ]
     },
     "execution_count": 21,
     "metadata": {},
     "output_type": "execute_result"
    }
   ],
   "source": [
    "random_num"
   ]
  },
  {
   "cell_type": "markdown",
   "id": "dccf0be3",
   "metadata": {},
   "source": [
    "# random real numbers\n",
    "to generate random floating-point numbers within a specified range"
   ]
  },
  {
   "cell_type": "code",
   "execution_count": 32,
   "id": "65a2a188",
   "metadata": {},
   "outputs": [
    {
     "data": {
      "text/plain": [
       "3.4752638653220735"
      ]
     },
     "execution_count": 32,
     "metadata": {},
     "output_type": "execute_result"
    }
   ],
   "source": [
    "\n",
    "random.uniform(1,10)"
   ]
  },
  {
   "cell_type": "code",
   "execution_count": 30,
   "id": "c0e5bb8a",
   "metadata": {},
   "outputs": [
    {
     "data": {
      "text/plain": [
       "6.754841186120954"
      ]
     },
     "execution_count": 30,
     "metadata": {},
     "output_type": "execute_result"
    }
   ],
   "source": [
    "#random.seed(42) # this makes the output fixed it makes the result unchangeable\n",
    "random.seed(42)\n",
    "random.uniform(1,10)"
   ]
  },
  {
   "cell_type": "code",
   "execution_count": 41,
   "id": "9ff51e39",
   "metadata": {},
   "outputs": [
    {
     "data": {
      "text/plain": [
       "5"
      ]
     },
     "execution_count": 41,
     "metadata": {},
     "output_type": "execute_result"
    }
   ],
   "source": [
    "#random integers\n",
    "#the randint()generate random integers within a specified range(inclusive)\n",
    "random.randint(1, 6)"
   ]
  },
  {
   "cell_type": "code",
   "execution_count": 42,
   "id": "afc160bf",
   "metadata": {},
   "outputs": [],
   "source": [
    "random_int = random.randint(1,6)"
   ]
  },
  {
   "cell_type": "code",
   "execution_count": 43,
   "id": "7e122c98",
   "metadata": {},
   "outputs": [
    {
     "data": {
      "text/plain": [
       "1"
      ]
     },
     "execution_count": 43,
     "metadata": {},
     "output_type": "execute_result"
    }
   ],
   "source": [
    "random_int"
   ]
  },
  {
   "cell_type": "code",
   "execution_count": 45,
   "id": "fd0e1a23",
   "metadata": {},
   "outputs": [
    {
     "name": "stdout",
     "output_type": "stream",
     "text": [
      "Heads\n"
     ]
    }
   ],
   "source": [
    "#randomization in games\n",
    "#the random module is commonly used in games\n",
    "#development to introduce randomness in gameplay\n",
    "coin_toss = random.choice([0, 1])\n",
    "if coin_toss == 0:\n",
    "    print(\"Heads\")\n",
    "else:\n",
    "    print(\"Tails\")"
   ]
  },
  {
   "cell_type": "code",
   "execution_count": 55,
   "id": "5375af32",
   "metadata": {},
   "outputs": [
    {
     "name": "stdout",
     "output_type": "stream",
     "text": [
      "Event did not occur\n"
     ]
    }
   ],
   "source": [
    "#stimulate Events\n",
    "#we can use the random numbers to stimulate events with different probability\n",
    "if random.random() < 0.7:\n",
    "    print(\"Event occurred\")\n",
    "else:\n",
    "    print(\"Event did not occur\")"
   ]
  },
  {
   "cell_type": "code",
   "execution_count": 70,
   "id": "483ba22d",
   "metadata": {},
   "outputs": [
    {
     "data": {
      "text/plain": [
       "5"
      ]
     },
     "execution_count": 70,
     "metadata": {},
     "output_type": "execute_result"
    }
   ],
   "source": [
    "random.randrange(1,10,2) #randomly picks a number from one to ten"
   ]
  },
  {
   "cell_type": "code",
   "execution_count": 82,
   "id": "0a4b1fec",
   "metadata": {},
   "outputs": [
    {
     "name": "stdout",
     "output_type": "stream",
     "text": [
      "4\n",
      "6\n",
      "4\n"
     ]
    }
   ],
   "source": [
    "#getting a 3 random values for a ste step #starting from 0 gives you even number,starting from 1 gives an odd number.\n",
    "for i in range(3):\n",
    "    print(random.randrange(0,10,2))"
   ]
  },
  {
   "cell_type": "code",
   "execution_count": 79,
   "id": "4a98d2ce",
   "metadata": {},
   "outputs": [
    {
     "data": {
      "text/plain": [
       "85"
      ]
     },
     "execution_count": 79,
     "metadata": {},
     "output_type": "execute_result"
    }
   ],
   "source": [
    "#this method randrange gives a random number between the start \n",
    "random.randrange(1,100)"
   ]
  },
  {
   "cell_type": "code",
   "execution_count": 83,
   "id": "7ca03136",
   "metadata": {},
   "outputs": [
    {
     "name": "stdout",
     "output_type": "stream",
     "text": [
      "2\n",
      "4\n",
      "4\n"
     ]
    }
   ],
   "source": [
    "for i in range(3):\n",
    "    print(random.randrange(0,10,2))\n"
   ]
  },
  {
   "cell_type": "code",
   "execution_count": 84,
   "id": "7b7e3742",
   "metadata": {},
   "outputs": [
    {
     "name": "stdout",
     "output_type": "stream",
     "text": [
      "365\n",
      "955\n",
      "440\n"
     ]
    }
   ],
   "source": [
    "#generate 3 random integers between 100 and 999 which is divisible by 5\n",
    "for i in range(3):\n",
    "    print(random.randrange(100,999,5))\n"
   ]
  },
  {
   "cell_type": "code",
   "execution_count": 87,
   "id": "cb975316",
   "metadata": {},
   "outputs": [
    {
     "data": {
      "text/plain": [
       "[8, 3]"
      ]
     },
     "execution_count": 87,
     "metadata": {},
     "output_type": "execute_result"
    }
   ],
   "source": [
    "random.sample([0,1,2,3,4,5,6,7,8,9,10], k=2)"
   ]
  },
  {
   "cell_type": "markdown",
   "id": "20a57b60",
   "metadata": {},
   "source": [
    "# while loops\n",
    "A while loop is a fundamental programming construct in python that allows you to repeatedly execute a block of code as long as a specified condition is true. it's used when you want to perform a task repeatedly until a certain condition is met or until a specific number of iteration have been completed...note that you must terminate it yourself unless it will keep running"
   ]
  },
  {
   "cell_type": "code",
   "execution_count": 88,
   "id": "d51532ec",
   "metadata": {},
   "outputs": [
    {
     "name": "stdout",
     "output_type": "stream",
     "text": [
      "0\n",
      "1\n",
      "2\n",
      "3\n",
      "4\n",
      "5\n"
     ]
    }
   ],
   "source": [
    "#every while block of code start with the while statememt\n",
    "count = 0\n",
    "while count <= 5:\n",
    "    print(count)\n",
    "    count = count + 1"
   ]
  },
  {
   "cell_type": "markdown",
   "id": "88cef001",
   "metadata": {},
   "source": [
    "# user input loop\n",
    "repeatedly asking the user for input until they enter 'quit'"
   ]
  },
  {
   "cell_type": "code",
   "execution_count": 90,
   "id": "791137d5",
   "metadata": {},
   "outputs": [
    {
     "name": "stdout",
     "output_type": "stream",
     "text": [
      "Enter 'Quit' to exit: i love you jehovah\n",
      "you entered: i love you jehovah\n",
      "Enter 'Quit' to exit: please help me\n",
      "you entered: please help me\n",
      "Enter 'Quit' to exit: exit\n",
      "you entered: exit\n",
      "Enter 'Quit' to exit: quit\n",
      "Thank you for coming\n"
     ]
    }
   ],
   "source": [
    "while True:\n",
    "    user_input = input(\"Enter 'Quit' to exit: \")\n",
    "    if user_input == \"quit\":\n",
    "        print(\"Thank you for coming\")\n",
    "        break\n",
    "    else:\n",
    "        print(\"you entered:\", user_input)"
   ]
  },
  {
   "cell_type": "markdown",
   "id": "f7faacfd",
   "metadata": {},
   "source": [
    "# using a counter\n",
    "execute a loop a specific specific number of times using a counter"
   ]
  },
  {
   "cell_type": "code",
   "execution_count": 92,
   "id": "a9c7feaa",
   "metadata": {},
   "outputs": [
    {
     "name": "stdout",
     "output_type": "stream",
     "text": [
      "This is a loop iteration 1\n",
      "This is a loop iteration 2\n",
      "This is a loop iteration 3\n",
      "This is a loop iteration 4\n"
     ]
    }
   ],
   "source": [
    "counter = 0\n",
    "while counter <= 3:\n",
    "    print(\"This is a loop iteration\", counter + 1)\n",
    "    counter = counter + 1 #-1 will count the numbers from descending order\n",
    "    "
   ]
  },
  {
   "cell_type": "markdown",
   "id": "ed74865f",
   "metadata": {},
   "source": [
    "# using while loop for summation\n",
    "calculate the sum of number from 1 to 10 using a while loop"
   ]
  },
  {
   "cell_type": "code",
   "execution_count": 93,
   "id": "fab5f42d",
   "metadata": {},
   "outputs": [],
   "source": [
    "total = 0\n",
    "num = 1"
   ]
  },
  {
   "cell_type": "code",
   "execution_count": 94,
   "id": "f2b02246",
   "metadata": {},
   "outputs": [
    {
     "name": "stdout",
     "output_type": "stream",
     "text": [
      "1\n",
      "3\n",
      "6\n",
      "10\n",
      "15\n",
      "21\n",
      "28\n",
      "36\n",
      "45\n",
      "55\n"
     ]
    }
   ],
   "source": [
    "while num <= 10:\n",
    "    total = total + num\n",
    "    num = num + 1\n",
    "    print(total)   #0+1=1 1+2=3 3+3=6 6+4=10 10+5=15 15+6=21 21+7=28 and so on"
   ]
  },
  {
   "cell_type": "code",
   "execution_count": 99,
   "id": "0a19e052",
   "metadata": {},
   "outputs": [
    {
     "name": "stdout",
     "output_type": "stream",
     "text": [
      "65-A\n",
      "66-B\n",
      "67-C\n",
      "68-D\n",
      "69-E\n",
      "70-F\n",
      "71-G\n",
      "72-H\n",
      "73-I\n",
      "74-J\n",
      "75-K\n",
      "76-L\n",
      "77-M\n",
      "78-N\n",
      "79-O\n",
      "80-P\n",
      "81-Q\n",
      "82-R\n",
      "83-S\n",
      "84-T\n",
      "85-U\n",
      "86-V\n",
      "87-W\n",
      "88-X\n",
      "89-Y\n",
      "90-Z\n",
      "Alldone\n"
     ]
    }
   ],
   "source": [
    "#another counter example:getting the unicode character at the counter position\n",
    "counter = 65\n",
    "while counter < 91:\n",
    "    print(str(counter) +\"-\"+ chr(counter))\n",
    "    counter = counter + 1\n",
    "print(\"Alldone\")    "
   ]
  },
  {
   "cell_type": "code",
   "execution_count": 100,
   "id": "fc33a914",
   "metadata": {},
   "outputs": [
    {
     "ename": "SyntaxError",
     "evalue": "expected ':' (4247377167.py, line 1)",
     "output_type": "error",
     "traceback": [
      "\u001b[1;36m  Cell \u001b[1;32mIn[100], line 1\u001b[1;36m\u001b[0m\n\u001b[1;33m    def greetings()\u001b[0m\n\u001b[1;37m                   ^\u001b[0m\n\u001b[1;31mSyntaxError\u001b[0m\u001b[1;31m:\u001b[0m expected ':'\n"
     ]
    }
   ],
   "source": [
    "def greetings()\n",
    "   print(\"hello there\")\n",
    "greetings()"
   ]
  },
  {
   "cell_type": "code",
   "execution_count": null,
   "id": "b326835f",
   "metadata": {},
   "outputs": [],
   "source": []
  },
  {
   "cell_type": "code",
   "execution_count": 101,
   "id": "ef635562",
   "metadata": {},
   "outputs": [
    {
     "name": "stdout",
     "output_type": "stream",
     "text": [
      "25 is higher than 5\n"
     ]
    }
   ],
   "source": [
    "def test_5(a):\n",
    "    if a < 5 :\n",
    "        print(a,\"is lower than 5\")\n",
    "    elif a == 5:\n",
    "        print(a,\"is equal to 5\")\n",
    "    else:\n",
    "        print(a,'is higher than 5')\n",
    "test_5(25) \n"
   ]
  },
  {
   "cell_type": "code",
   "execution_count": 102,
   "id": "b5b0401a",
   "metadata": {},
   "outputs": [
    {
     "name": "stdout",
     "output_type": "stream",
     "text": [
      "first\n",
      "1\n",
      "2\n",
      "3\n",
      "second\n",
      "1\n",
      "2\n",
      "3\n",
      "third\n",
      "1\n",
      "2\n",
      "3\n",
      "Both loops are done\n"
     ]
    }
   ],
   "source": [
    "#Nested for loop\n",
    "for outer in [\"first\",\"second\",\"third\"]:\n",
    "    print(outer)\n",
    "    #inner loop\n",
    "    for inner in range(3):\n",
    "        print(inner + 1)\n",
    "print(\"Both loops are done\")        "
   ]
  },
  {
   "cell_type": "code",
   "execution_count": null,
   "id": "4498f5c2",
   "metadata": {},
   "outputs": [],
   "source": []
  },
  {
   "cell_type": "markdown",
   "id": "09bbc13b",
   "metadata": {},
   "source": [
    "# LAMBDA FUNCTIONS\n",
    "in python,a lambda function is a small,anonymous function that can have any number of arguments , but can only have one expression. lambda function are known as anonymous functions because they do not require a name like a regular function using the def keyword.\n",
    "lambda arguments: expression (this is how the lambda expression is being used)\n",
    "\n"
   ]
  },
  {
   "cell_type": "code",
   "execution_count": 103,
   "id": "42c3621b",
   "metadata": {},
   "outputs": [],
   "source": [
    "add = lambda x , y : x + y"
   ]
  },
  {
   "cell_type": "code",
   "execution_count": 104,
   "id": "9a12c29b",
   "metadata": {},
   "outputs": [
    {
     "data": {
      "text/plain": [
       "8"
      ]
     },
     "execution_count": 104,
     "metadata": {},
     "output_type": "execute_result"
    }
   ],
   "source": [
    "add(3, 5)"
   ]
  },
  {
   "cell_type": "code",
   "execution_count": 105,
   "id": "b908de65",
   "metadata": {},
   "outputs": [],
   "source": [
    "def add(x, y):\n",
    "    return x + y"
   ]
  },
  {
   "cell_type": "code",
   "execution_count": 106,
   "id": "d4a94e92",
   "metadata": {},
   "outputs": [
    {
     "data": {
      "text/plain": [
       "9"
      ]
     },
     "execution_count": 106,
     "metadata": {},
     "output_type": "execute_result"
    }
   ],
   "source": [
    "add(3, 6)"
   ]
  },
  {
   "cell_type": "code",
   "execution_count": 107,
   "id": "5d00ee49",
   "metadata": {},
   "outputs": [],
   "source": [
    "subtract = lambda x , y : x - y\n"
   ]
  },
  {
   "cell_type": "code",
   "execution_count": 109,
   "id": "5bc3490a",
   "metadata": {},
   "outputs": [
    {
     "data": {
      "text/plain": [
       "5"
      ]
     },
     "execution_count": 109,
     "metadata": {},
     "output_type": "execute_result"
    }
   ],
   "source": [
    "subtract(9 , 4) "
   ]
  },
  {
   "cell_type": "code",
   "execution_count": 110,
   "id": "649cbfcb",
   "metadata": {},
   "outputs": [],
   "source": [
    "#this is a standard python function\n",
    "#to use it multiple times\n",
    "def add(x,y):\n",
    "    return x + y\n"
   ]
  },
  {
   "cell_type": "code",
   "execution_count": 111,
   "id": "99f1377a",
   "metadata": {},
   "outputs": [
    {
     "data": {
      "text/plain": [
       "9"
      ]
     },
     "execution_count": 111,
     "metadata": {},
     "output_type": "execute_result"
    }
   ],
   "source": [
    "add(3, 6)"
   ]
  },
  {
   "cell_type": "markdown",
   "id": "c20b1082",
   "metadata": {},
   "source": [
    "# using lambda with built in functions "
   ]
  },
  {
   "cell_type": "code",
   "execution_count": 113,
   "id": "6ebe4f2b",
   "metadata": {},
   "outputs": [],
   "source": [
    "points =[(1,9), (4,1), (5,3), (2,7)]"
   ]
  },
  {
   "cell_type": "code",
   "execution_count": 114,
   "id": "22ad3c24",
   "metadata": {},
   "outputs": [
    {
     "data": {
      "text/plain": [
       "[(1, 9), (2, 7), (4, 1), (5, 3)]"
      ]
     },
     "execution_count": 114,
     "metadata": {},
     "output_type": "execute_result"
    }
   ],
   "source": [
    "sorted(points)"
   ]
  },
  {
   "cell_type": "code",
   "execution_count": 116,
   "id": "6718ba94",
   "metadata": {},
   "outputs": [],
   "source": [
    "#sorting a list(by default it's sorted ascendingly)\n",
    "list1 = [20,30,40,50,10,22,65,70,80,12]"
   ]
  },
  {
   "cell_type": "code",
   "execution_count": 117,
   "id": "43f5d29d",
   "metadata": {},
   "outputs": [
    {
     "data": {
      "text/plain": [
       "[80, 70, 65, 50, 40, 30, 22, 20, 12, 10]"
      ]
     },
     "execution_count": 117,
     "metadata": {},
     "output_type": "execute_result"
    }
   ],
   "source": [
    "sorted(list1, reverse= True) #reverse = true makes it sort descendingly"
   ]
  },
  {
   "cell_type": "code",
   "execution_count": 118,
   "id": "92bb81ed",
   "metadata": {},
   "outputs": [
    {
     "data": {
      "text/plain": [
       "[10, 12, 20, 22, 30, 40, 50, 65, 70, 80]"
      ]
     },
     "execution_count": 118,
     "metadata": {},
     "output_type": "execute_result"
    }
   ],
   "source": [
    "sorted(list1) "
   ]
  },
  {
   "cell_type": "code",
   "execution_count": null,
   "id": "824600ca",
   "metadata": {},
   "outputs": [],
   "source": []
  },
  {
   "cell_type": "code",
   "execution_count": 119,
   "id": "e353d61f",
   "metadata": {},
   "outputs": [
    {
     "data": {
      "text/plain": [
       "[(4, 1), (5, 3), (2, 7), (1, 9)]"
      ]
     },
     "execution_count": 119,
     "metadata": {},
     "output_type": "execute_result"
    }
   ],
   "source": [
    "sorted(points, key=lambda x: x[1])"
   ]
  },
  {
   "cell_type": "code",
   "execution_count": 121,
   "id": "cda0ed32",
   "metadata": {},
   "outputs": [],
   "source": [
    "#this is a standard python function\n",
    "def concat(x,y,z):\n",
    "    return \" \".join([x,y,z])"
   ]
  },
  {
   "cell_type": "code",
   "execution_count": 122,
   "id": "06aaa6f3",
   "metadata": {},
   "outputs": [
    {
     "data": {
      "text/plain": [
       "'Tunero Chief Emmanuel'"
      ]
     },
     "execution_count": 122,
     "metadata": {},
     "output_type": "execute_result"
    }
   ],
   "source": [
    "concat(\"Tunero\", \"Chief\", \"Emmanuel\")"
   ]
  },
  {
   "cell_type": "markdown",
   "id": "0960d7fc",
   "metadata": {},
   "source": []
  },
  {
   "cell_type": "markdown",
   "id": "0b9daa1d",
   "metadata": {},
   "source": [
    "# LAMBDA IN HIGH ORDER FUNCTIONS "
   ]
  },
  {
   "cell_type": "code",
   "execution_count": 123,
   "id": "c6175c56",
   "metadata": {},
   "outputs": [],
   "source": [
    "#USING LAMBDA WITH FILTER TO GET EVEN NUMBERS FROM A list\n"
   ]
  },
  {
   "cell_type": "code",
   "execution_count": 124,
   "id": "3bf3dd54",
   "metadata": {},
   "outputs": [],
   "source": [
    "numbers = [1,2,3,4,5,6,7,8,9,10]"
   ]
  },
  {
   "cell_type": "code",
   "execution_count": 126,
   "id": "671b1d1b",
   "metadata": {},
   "outputs": [
    {
     "data": {
      "text/plain": [
       "[2, 4, 6, 8, 10]"
      ]
     },
     "execution_count": 126,
     "metadata": {},
     "output_type": "execute_result"
    }
   ],
   "source": [
    "#getting all the even numbers from the number of list using lambda\n",
    "list(filter(lambda x: x % 2 == 0,numbers)) #unwrapping a function #(% modulus sign means it divides the number without a decimal)"
   ]
  },
  {
   "cell_type": "code",
   "execution_count": 127,
   "id": "46d195b1",
   "metadata": {},
   "outputs": [],
   "source": [
    "#same output as the first but different method \n",
    "meji = []\n",
    "for i in numbers:\n",
    "    if i % 2 ==0:\n",
    "        meji.append(i)"
   ]
  },
  {
   "cell_type": "code",
   "execution_count": 128,
   "id": "9198d52c",
   "metadata": {},
   "outputs": [
    {
     "data": {
      "text/plain": [
       "[2, 4, 6, 8, 10]"
      ]
     },
     "execution_count": 128,
     "metadata": {},
     "output_type": "execute_result"
    }
   ],
   "source": [
    "meji"
   ]
  },
  {
   "cell_type": "code",
   "execution_count": 129,
   "id": "282902fa",
   "metadata": {},
   "outputs": [],
   "source": [
    "#using lambda expressions\n",
    "names = [\"Adams\", \"Ma\", \"Dimeola\",\"Zandusky\"]\n",
    "#names.sort(key = lambda anything : anything.lower())\n",
    "#print names"
   ]
  },
  {
   "cell_type": "code",
   "execution_count": 131,
   "id": "cbec4ca8",
   "metadata": {},
   "outputs": [],
   "source": [
    "names.sort(key= lambda x: x.lower())"
   ]
  },
  {
   "cell_type": "code",
   "execution_count": 132,
   "id": "167ce587",
   "metadata": {},
   "outputs": [
    {
     "data": {
      "text/plain": [
       "['Adams', 'Dimeola', 'Ma', 'Zandusky']"
      ]
     },
     "execution_count": 132,
     "metadata": {},
     "output_type": "execute_result"
    }
   ],
   "source": [
    "names"
   ]
  },
  {
   "cell_type": "code",
   "execution_count": 133,
   "id": "a04fc7af",
   "metadata": {},
   "outputs": [
    {
     "data": {
      "text/plain": [
       "['Bode', 'Richie', 'chaviva']"
      ]
     },
     "execution_count": 133,
     "metadata": {},
     "output_type": "execute_result"
    }
   ],
   "source": [
    "#using lambda expression (the sort function sort unicode wise)\n",
    "names = [\"Bode\",\"Richie\",\"chaviva\"]  \n",
    "names.sort()\n",
    "names\n"
   ]
  },
  {
   "cell_type": "code",
   "execution_count": 134,
   "id": "69fa842e",
   "metadata": {},
   "outputs": [
    {
     "name": "stdout",
     "output_type": "stream",
     "text": [
      "$99.00\n",
      "$123,456,789.10\n"
     ]
    }
   ],
   "source": [
    "#more lambda examples\n",
    "#show number in currency format\n",
    "currency = lambda n : f\"${n:,.2f}\" #format to two decimal places\n",
    "#show number in percent format.\n",
    "#percent = lambda n : f\"{n:.2%}\"\n",
    "\n",
    "#test currency function\n",
    "print(currency(99))\n",
    "print(currency(123456789.09876543))\n",
    "\n",
    "#test percent function\n",
    "#print(percnt(0.065))\n",
    "#print(percent(.5))"
   ]
  },
  {
   "cell_type": "code",
   "execution_count": 135,
   "id": "14e94cad",
   "metadata": {},
   "outputs": [],
   "source": [
    "name =\"chaviva otabor\""
   ]
  },
  {
   "cell_type": "code",
   "execution_count": 137,
   "id": "a46f6ddb",
   "metadata": {},
   "outputs": [
    {
     "name": "stdout",
     "output_type": "stream",
     "text": [
      "This is my name chaviva otabor\n"
     ]
    }
   ],
   "source": [
    "print(f\"This is my name {name}\") #THIS IS HOW FORMATTING WORKS"
   ]
  },
  {
   "cell_type": "code",
   "execution_count": 140,
   "id": "954863c8",
   "metadata": {},
   "outputs": [
    {
     "name": "stdout",
     "output_type": "stream",
     "text": [
      "['A', 'a', 'B', 'b', 'C', 'c', 'd', 'e']\n"
     ]
    }
   ],
   "source": [
    "#USING THE KEY PARAMETER WITH THE LOWER METHOD RETURNS IT ALPHABETICALLY\n",
    "names = [\"A\",\"B\",\"C\",\"a\", \"b\",\"c\",\"d\",\"e\"]\n",
    "names.sort(key=lambda x: x.lower())\n",
    "print(names)"
   ]
  },
  {
   "cell_type": "markdown",
   "id": "46891f94",
   "metadata": {},
   "source": [
    "# MAP FUNCTIONS\n",
    "THE map functions in python is a built in function that allows you to apply a given function to each item of an iterable(such as list,tuple,string) and returns an iterable map object which can be converted to other iterable typles like lists or tuples.it is a powerful tool for performing the same operations on multiple elements of a collection."
   ]
  },
  {
   "cell_type": "code",
   "execution_count": 141,
   "id": "0ae44331",
   "metadata": {},
   "outputs": [],
   "source": [
    "def square(x):\n",
    "    return x ** 2"
   ]
  },
  {
   "cell_type": "code",
   "execution_count": 142,
   "id": "9cf7de81",
   "metadata": {},
   "outputs": [
    {
     "data": {
      "text/plain": [
       "16"
      ]
     },
     "execution_count": 142,
     "metadata": {},
     "output_type": "execute_result"
    }
   ],
   "source": [
    "square(4)"
   ]
  },
  {
   "cell_type": "code",
   "execution_count": 143,
   "id": "2f222357",
   "metadata": {},
   "outputs": [
    {
     "data": {
      "text/plain": [
       "[1, 4, 9, 16, 25]"
      ]
     },
     "execution_count": 143,
     "metadata": {},
     "output_type": "execute_result"
    }
   ],
   "source": [
    "numbers=[1,2,3,4,5]\n",
    "list(map(square,numbers))"
   ]
  },
  {
   "cell_type": "markdown",
   "id": "742e327a",
   "metadata": {},
   "source": [
    "# using map() with lambda functions"
   ]
  },
  {
   "cell_type": "code",
   "execution_count": 144,
   "id": "a5120256",
   "metadata": {},
   "outputs": [
    {
     "data": {
      "text/plain": [
       "[2, 4, 6, 8, 10]"
      ]
     },
     "execution_count": 144,
     "metadata": {},
     "output_type": "execute_result"
    }
   ],
   "source": [
    "#using lamba function with a map function\n",
    "list(map(lambda x: x*2, numbers))"
   ]
  },
  {
   "cell_type": "markdown",
   "id": "a5fef605",
   "metadata": {},
   "source": [
    "# APPLYING MAP() TO ITERABLE "
   ]
  },
  {
   "cell_type": "code",
   "execution_count": 145,
   "id": "27b3fdc3",
   "metadata": {},
   "outputs": [],
   "source": [
    "#USING MAP WITH TWO LISTS\n",
    "lists1 = [1,2,3]\n",
    "lists2 = [10,20,30]"
   ]
  },
  {
   "cell_type": "code",
   "execution_count": 147,
   "id": "47454190",
   "metadata": {},
   "outputs": [
    {
     "data": {
      "text/plain": [
       "[11, 22, 33]"
      ]
     },
     "execution_count": 147,
     "metadata": {},
     "output_type": "execute_result"
    }
   ],
   "source": [
    "list(map(lambda x,y: x + y, lists1, lists2))"
   ]
  },
  {
   "cell_type": "markdown",
   "id": "aced064a",
   "metadata": {},
   "source": [
    "# MAPPING CHARACTER TO THEIR ASCII VALUES"
   ]
  },
  {
   "cell_type": "code",
   "execution_count": 148,
   "id": "ea364903",
   "metadata": {},
   "outputs": [],
   "source": [
    "#USING MAP TO GET ASCII VALUES OF CHARACTERS IN A STRING\n",
    "text = \"Hello\""
   ]
  },
  {
   "cell_type": "code",
   "execution_count": 149,
   "id": "f27380a4",
   "metadata": {},
   "outputs": [
    {
     "data": {
      "text/plain": [
       "<map at 0x182800ef9d0>"
      ]
     },
     "execution_count": 149,
     "metadata": {},
     "output_type": "execute_result"
    }
   ],
   "source": [
    "map(ord,text)"
   ]
  },
  {
   "cell_type": "code",
   "execution_count": 151,
   "id": "ed066c0c",
   "metadata": {},
   "outputs": [
    {
     "data": {
      "text/plain": [
       "[72, 101, 108, 108, 111]"
      ]
     },
     "execution_count": 151,
     "metadata": {},
     "output_type": "execute_result"
    }
   ],
   "source": [
    "list(map(ord, text))"
   ]
  },
  {
   "cell_type": "markdown",
   "id": "c1e098e7",
   "metadata": {},
   "source": [
    "# OBJECT ORIENTED PROGRAMMING IN PYTHON\n",
    "OBJECT ORIENTED PROGRAMMING IS A PROGRAMMING PARADIGM THAT USES OBJECTS TO STRUCTURE AND ORANIZE CODE. EVERYTHING IN OOP IS TREATED AS AN OBJECT,WHICH IS AN INSTANCE OF A CLASS. A CLASS DEFINES THE BLUEPRINT FOR CREATING OBJECTS INCLUDING THEIR PROPERTIES (ATTRIBUTES) AND BEHAVIOURS(METHOD OR FUNCTIONS)"
   ]
  },
  {
   "cell_type": "code",
   "execution_count": 181,
   "id": "f81c1495",
   "metadata": {},
   "outputs": [],
   "source": [
    "class item:\n",
    "    pass"
   ]
  },
  {
   "cell_type": "code",
   "execution_count": 187,
   "id": "684cdd5b",
   "metadata": {},
   "outputs": [],
   "source": [
    "item1  = item() #creating an object o the item class\n",
    "item1.name =\"phone\"  #assingning a name to the object\n",
    "item1.price = 100 #assigning price to the object\n",
    "item1.quantity = 5 #assigning quantity to the object"
   ]
  },
  {
   "cell_type": "code",
   "execution_count": 185,
   "id": "531406c0",
   "metadata": {},
   "outputs": [],
   "source": [
    "#giving a class method\n",
    "class item:\n",
    "    def calculate_total_price(self, x, y): #self signiies the item information\n",
    "        return x * y"
   ]
  },
  {
   "cell_type": "code",
   "execution_count": 188,
   "id": "b00449bd",
   "metadata": {},
   "outputs": [
    {
     "name": "stdout",
     "output_type": "stream",
     "text": [
      "phone\n",
      "100\n",
      "5\n"
     ]
    },
    {
     "data": {
      "text/plain": [
       "500"
      ]
     },
     "execution_count": 188,
     "metadata": {},
     "output_type": "execute_result"
    }
   ],
   "source": [
    "print (item1.name)\n",
    "print (item1.price)\n",
    "print (item1.quantity)\n",
    "item1.calculate_total_price(item1.price, item1.quantity)"
   ]
  },
  {
   "cell_type": "code",
   "execution_count": 191,
   "id": "029f443e",
   "metadata": {},
   "outputs": [],
   "source": [
    "item2 = item()\n",
    "item2.name = \"laptop\"\n",
    "item2.price = 1000\n",
    "item2.quantity = 3"
   ]
  },
  {
   "cell_type": "code",
   "execution_count": 192,
   "id": "2e8cbd56",
   "metadata": {},
   "outputs": [
    {
     "data": {
      "text/plain": [
       "3000"
      ]
     },
     "execution_count": 192,
     "metadata": {},
     "output_type": "execute_result"
    }
   ],
   "source": [
    "item2.calculate_total_price(item2.price, item2.quantity)"
   ]
  },
  {
   "cell_type": "code",
   "execution_count": 161,
   "id": "5e0fde7b",
   "metadata": {},
   "outputs": [
    {
     "name": "stdout",
     "output_type": "stream",
     "text": [
      "phone\n"
     ]
    }
   ],
   "source": [
    "print(item1.name)"
   ]
  },
  {
   "cell_type": "code",
   "execution_count": null,
   "id": "c1e2dd59",
   "metadata": {},
   "outputs": [],
   "source": [
    "class Human:\n",
    "    def drink(self):\n",
    "        return \"Human drink something\""
   ]
  },
  {
   "cell_type": "code",
   "execution_count": 153,
   "id": "c71cc7ec",
   "metadata": {},
   "outputs": [],
   "source": [
    "class Human:\n",
    "    pass"
   ]
  },
  {
   "cell_type": "code",
   "execution_count": 154,
   "id": "c0c01bd5",
   "metadata": {},
   "outputs": [],
   "source": [
    "black = Human()\n",
    "black.name = \"dimeji\"\n",
    "black.ear = 2\n",
    "black.eyes = 2\n",
    "black.fingers = 10\n",
    "black.color = \"black\""
   ]
  },
  {
   "cell_type": "code",
   "execution_count": 155,
   "id": "13e58ddb",
   "metadata": {},
   "outputs": [
    {
     "name": "stdout",
     "output_type": "stream",
     "text": [
      "dimeji\n"
     ]
    }
   ],
   "source": [
    "print(black.name)"
   ]
  },
  {
   "cell_type": "code",
   "execution_count": 189,
   "id": "d9efcc20",
   "metadata": {},
   "outputs": [],
   "source": [
    "import numpy as np\n"
   ]
  },
  {
   "cell_type": "code",
   "execution_count": 190,
   "id": "bebc3554",
   "metadata": {},
   "outputs": [
    {
     "data": {
      "text/plain": [
       "array([[ 4,  5],\n",
       "       [10, 11]])"
      ]
     },
     "execution_count": 190,
     "metadata": {},
     "output_type": "execute_result"
    }
   ],
   "source": [
    "arr = np.array([[1, 2, 3], [4, 5, 6], [7, 8, 9], [10, 11, 12]])\n",
    "arr[1::2, :2]"
   ]
  },
  {
   "cell_type": "code",
   "execution_count": 207,
   "id": "a7d83f01",
   "metadata": {},
   "outputs": [],
   "source": [
    "class Item:\n",
    "    def __init__(self): #this is dunder method to declare an instance/object of a class\n",
    "        print(\"I am created\")\n",
    "    def calculate_total_price(self, x,y):\n",
    "        return x * y"
   ]
  },
  {
   "cell_type": "code",
   "execution_count": 208,
   "id": "e282772f",
   "metadata": {},
   "outputs": [
    {
     "name": "stdout",
     "output_type": "stream",
     "text": [
      "I am created\n"
     ]
    }
   ],
   "source": [
    "item1 = Item()"
   ]
  },
  {
   "cell_type": "code",
   "execution_count": 209,
   "id": "8449beac",
   "metadata": {},
   "outputs": [
    {
     "name": "stdout",
     "output_type": "stream",
     "text": [
      "I am created\n"
     ]
    }
   ],
   "source": [
    "item2 = Item()"
   ]
  },
  {
   "cell_type": "code",
   "execution_count": 210,
   "id": "928abad9",
   "metadata": {},
   "outputs": [],
   "source": [
    "class Item:\n",
    "    def __init__(self,name,price,quantity):\n",
    "        self.name = name\n",
    "        self.price = price\n",
    "        self.quantity = quantity\n",
    "    def calculate_total_price(self, x,y):\n",
    "        return x * y\n",
    "        "
   ]
  },
  {
   "cell_type": "code",
   "execution_count": 211,
   "id": "3364ca38",
   "metadata": {},
   "outputs": [],
   "source": [
    "item1 = Item(\"phone\", 1000,5)\n",
    "item2 = Item(\"laptop\", 3000,3)"
   ]
  },
  {
   "cell_type": "code",
   "execution_count": 212,
   "id": "4ccd9114",
   "metadata": {
    "scrolled": true
   },
   "outputs": [
    {
     "name": "stdout",
     "output_type": "stream",
     "text": [
      "laptop\n",
      "3000\n",
      "3\n"
     ]
    }
   ],
   "source": [
    "print(item2.name)\n",
    "print(item2.price)\n",
    "print(item2.quantity)"
   ]
  },
  {
   "cell_type": "code",
   "execution_count": 226,
   "id": "f906e7b5",
   "metadata": {},
   "outputs": [],
   "source": [
    "#Giving parameter a default value\n",
    "class Item:\n",
    "    def __init__(self,name: str, price:float, quantity=0):\n",
    "        self.name = name\n",
    "        self.price = price\n",
    "        self.quantity = quantity\n",
    "    def calculate_total_price(self):\n",
    "            return self.price * self.quantity"
   ]
  },
  {
   "cell_type": "code",
   "execution_count": 258,
   "id": "7ef0fd5c",
   "metadata": {},
   "outputs": [],
   "source": [
    "item1 = Item('phone', 1000, 5)\n",
    "item2 = Item ('laptop', 3000, 3)"
   ]
  },
  {
   "cell_type": "code",
   "execution_count": 250,
   "id": "2ee34951",
   "metadata": {},
   "outputs": [
    {
     "data": {
      "text/plain": [
       "5000"
      ]
     },
     "execution_count": 250,
     "metadata": {},
     "output_type": "execute_result"
    }
   ],
   "source": [
    "item1.calculate_total_price()"
   ]
  },
  {
   "cell_type": "code",
   "execution_count": 256,
   "id": "3661d535",
   "metadata": {},
   "outputs": [],
   "source": [
    "#Giving class an attribute\n",
    "class Item:\n",
    "    pay_rate = 0.8\n",
    "    def __init__(self,name: str, price:float, quantity=0):\n",
    "        assert price >=0, f'price{price} is not greater than or equal to zero'\n",
    "        assert price >=0, f'quantity{quantity} is not greater than or equal to zero'\n",
    "        self.name = name\n",
    "        self.price = price\n",
    "        self.quantity = quantity\n",
    "    def calculate_total_price(self):\n",
    "        return self.price * self.quantity\n",
    "    def apply_discount(self):\n",
    "            self.price = self.price * Item.pay_rate\n",
    "        "
   ]
  },
  {
   "cell_type": "code",
   "execution_count": 259,
   "id": "d7ce5c89",
   "metadata": {},
   "outputs": [],
   "source": [
    "item1 = Item('phone', 1000, 5)\n",
    "item2 = Item ('laptop', 3000, 3)"
   ]
  },
  {
   "cell_type": "code",
   "execution_count": 260,
   "id": "a668465f",
   "metadata": {},
   "outputs": [],
   "source": [
    "item1.apply_discount()"
   ]
  },
  {
   "cell_type": "code",
   "execution_count": 261,
   "id": "ad412554",
   "metadata": {},
   "outputs": [
    {
     "data": {
      "text/plain": [
       "800.0"
      ]
     },
     "execution_count": 261,
     "metadata": {},
     "output_type": "execute_result"
    }
   ],
   "source": [
    "item1.price"
   ]
  },
  {
   "cell_type": "code",
   "execution_count": 262,
   "id": "01ab82d0",
   "metadata": {},
   "outputs": [],
   "source": [
    "#Giving class an attribute\n",
    "class Item:\n",
    "    pay_rate = 0.8\n",
    "    all = []\n",
    "    def __init__(self,name: str, price:float, quantity=0):\n",
    "        assert price >=0, f'price{price} is not greater than or equal to zero'\n",
    "        assert price >=0, f'quantity{quantity} is not greater than or equal to zero'\n",
    "        self.name = name\n",
    "        self.price = price\n",
    "        self.quantity = quantity\n",
    "        Item.all.append(self)\n",
    "    def calculate_total_price(self):\n",
    "        return self.price * self.quantity\n",
    "    def apply_discount(self):\n",
    "            self.price = self.price * Item.pay_rate\n",
    "        "
   ]
  },
  {
   "cell_type": "code",
   "execution_count": 263,
   "id": "3ca7faba",
   "metadata": {},
   "outputs": [],
   "source": [
    "item1 = Item('phone', 1000, 5)\n",
    "item2 = Item ('laptop', 3000, 3)\n",
    "item3 = Item ('cable', 10, 5)\n",
    "item4 = Item ('mouse', 50, 7)\n",
    "item5 = Item ('keyboard', 75, 5)"
   ]
  },
  {
   "cell_type": "code",
   "execution_count": 266,
   "id": "cc906596",
   "metadata": {},
   "outputs": [
    {
     "name": "stdout",
     "output_type": "stream",
     "text": [
      "<class '__main__.Item'>\n"
     ]
    }
   ],
   "source": [
    "print (Item)"
   ]
  },
  {
   "cell_type": "markdown",
   "id": "835708c1",
   "metadata": {},
   "source": [
    "# Create a Car class with two instance attributes: .color,which stores\n",
    " the name of the car’s color as a string, and .mileage, which stores\n",
    " the number of miles on the car as an integer. Then instantiate\n",
    " two Car objects—a blue car with 20,000 miles, and a red car with\n",
    " 30,000miles, and print out their colors and mileage."
   ]
  },
  {
   "cell_type": "code",
   "execution_count": 2,
   "id": "00618b8f",
   "metadata": {},
   "outputs": [
    {
     "name": "stdout",
     "output_type": "stream",
     "text": [
      "Blue 20000\n",
      "Red 30000\n"
     ]
    }
   ],
   "source": [
    "class Car:\n",
    "    def __init__(self,color:str, mileage:int):\n",
    "        self.color = color\n",
    "        self.mileage = mileage\n",
    "        \n",
    "car1 =Car(\"Blue\", 20000)\n",
    "car2 =Car(\"Red\", 30000)\n",
    "\n",
    "print(car1.color,car1.mileage)\n",
    "print(car2.color,car2.mileage)"
   ]
  },
  {
   "cell_type": "markdown",
   "id": "af799acd",
   "metadata": {},
   "source": [
    "# Modify the Car class with an instance method called .drive() that\n",
    " takes a number as an argument and adds that number to the\n",
    " .mileage attribute. Test that your solution works by instantiating\n",
    " a car with 0 miles, then call .drive(100) and print the .mileage\n",
    " attribute to check that it is set to 100"
   ]
  },
  {
   "cell_type": "code",
   "execution_count": 3,
   "id": "5e62a623",
   "metadata": {},
   "outputs": [],
   "source": [
    "class Car:\n",
    "    def __init__(self,color:str, mileage:int):\n",
    "        self.color = color\n",
    "        self.mileage = mileage\n",
    "        \n",
    "    def drive(self, x):\n",
    "        return x + self.mileage\n",
    "        \n",
    "car1 =Car(\"Blue\", 20000)\n",
    "car2 =Car(\"Red\", 30000)\n",
    "\n",
    "car3 =Car(\"Yellow\", 0)\n",
    "\n",
    "# print(car1.color,car1.mileage)\n",
    "# print(car2.color,car2.mileage)"
   ]
  },
  {
   "cell_type": "code",
   "execution_count": 7,
   "id": "c96b9310",
   "metadata": {},
   "outputs": [
    {
     "data": {
      "text/plain": [
       "100"
      ]
     },
     "execution_count": 7,
     "metadata": {},
     "output_type": "execute_result"
    }
   ],
   "source": [
    "car3.drive(100)"
   ]
  },
  {
   "cell_type": "code",
   "execution_count": 8,
   "id": "ef9959e9",
   "metadata": {},
   "outputs": [
    {
     "data": {
      "text/plain": [
       "0"
      ]
     },
     "execution_count": 8,
     "metadata": {},
     "output_type": "execute_result"
    }
   ],
   "source": [
    "car3.mileage"
   ]
  },
  {
   "cell_type": "code",
   "execution_count": 9,
   "id": "c91d2d39",
   "metadata": {},
   "outputs": [],
   "source": [
    "class Car: #the class name\n",
    "    def __init__(self,color:str, mileage:int):  #instntiate the instance/object\n",
    "        self.color = color\n",
    "        self.mileage = mileage\n",
    "        \n",
    "    def drive(self, x): \n",
    "        self.mileage = x + self.mileage #his will override the original mileage value\n",
    "        \n",
    "car1 =Car(\"Blue\", 20000)\n",
    "car2 =Car(\"Red\", 30000)\n",
    "\n",
    "car3 =Car(\"Yellow\", 0)\n",
    "\n",
    "# print(car1.color,car1.mileage)\n",
    "# print(car2.color,car2.mileage"
   ]
  },
  {
   "cell_type": "code",
   "execution_count": 10,
   "id": "60487574",
   "metadata": {},
   "outputs": [],
   "source": [
    "car3 =Car(\"yellow\", 0)"
   ]
  },
  {
   "cell_type": "code",
   "execution_count": 11,
   "id": "e152c3b6",
   "metadata": {},
   "outputs": [],
   "source": [
    "car3.drive(100)"
   ]
  },
  {
   "cell_type": "code",
   "execution_count": 12,
   "id": "14849321",
   "metadata": {},
   "outputs": [
    {
     "data": {
      "text/plain": [
       "100"
      ]
     },
     "execution_count": 12,
     "metadata": {},
     "output_type": "execute_result"
    }
   ],
   "source": [
    "car3.mileage"
   ]
  },
  {
   "cell_type": "code",
   "execution_count": 23,
   "id": "1063db70",
   "metadata": {},
   "outputs": [],
   "source": [
    "class Car: #the class name\n",
    "    fuel_consumption = 0\n",
    "    def __init__(self,color:str, mileage:int ,fuel:float):  #instntiate the instance/object\n",
    "        self.color = color\n",
    "        self.mileage = mileage\n",
    "        self.fuel =fuel\n",
    "        \n",
    "    def drive(self, x): \n",
    "        self.mileage = x + self.mileage #his will override the original mileage value\n",
    "\n",
    "    def fuel_con(self):        \n",
    "        Car.fuel_consumption =self.mileage / self.fuel"
   ]
  },
  {
   "cell_type": "code",
   "execution_count": 24,
   "id": "08d5a4b5",
   "metadata": {},
   "outputs": [],
   "source": [
    "Car4 = Car(\"Black\",24000,48)"
   ]
  },
  {
   "cell_type": "code",
   "execution_count": 26,
   "id": "1b036361",
   "metadata": {},
   "outputs": [],
   "source": [
    "Car4.fuel_con()"
   ]
  },
  {
   "cell_type": "code",
   "execution_count": 27,
   "id": "d873dd77",
   "metadata": {},
   "outputs": [
    {
     "data": {
      "text/plain": [
       "500.0"
      ]
     },
     "execution_count": 27,
     "metadata": {},
     "output_type": "execute_result"
    }
   ],
   "source": [
    "Car4.fuel_consumption"
   ]
  },
  {
   "cell_type": "markdown",
   "id": "3096bbe7",
   "metadata": {},
   "source": [
    "# creating a class and an object "
   ]
  },
  {
   "cell_type": "code",
   "execution_count": 38,
   "id": "8eef9c61",
   "metadata": {},
   "outputs": [],
   "source": [
    "class Dog:\n",
    "    def __init__(self,name,breed):\n",
    "        self.name = name\n",
    "        self.breed = breed\n",
    "        \n",
    "    def bark(self):\n",
    "        return \"Woof!\"\n",
    "    "
   ]
  },
  {
   "cell_type": "code",
   "execution_count": 39,
   "id": "2673e2b5",
   "metadata": {},
   "outputs": [],
   "source": [
    "#create an object(instance)of the class\n",
    "my_dog = Dog(\"Buddy\", \"Golden Retriever\")    \n",
    "        "
   ]
  },
  {
   "cell_type": "code",
   "execution_count": 41,
   "id": "3adcd672",
   "metadata": {},
   "outputs": [
    {
     "data": {
      "text/plain": [
       "'Woof!'"
      ]
     },
     "execution_count": 41,
     "metadata": {},
     "output_type": "execute_result"
    }
   ],
   "source": [
    "my_dog.bark()"
   ]
  },
  {
   "cell_type": "code",
   "execution_count": 42,
   "id": "7e565297",
   "metadata": {},
   "outputs": [
    {
     "data": {
      "text/plain": [
       "'Golden Retriever'"
      ]
     },
     "execution_count": 42,
     "metadata": {},
     "output_type": "execute_result"
    }
   ],
   "source": [
    "my_dog.breed"
   ]
  },
  {
   "cell_type": "markdown",
   "id": "ac1a5c61",
   "metadata": {},
   "source": [
    "# INHERITANCE\n",
    "INHERITANCE CONCEPT IN OOP IS A PROCESS WHERE THE CHILD CLASS INHERIT ATTRIBUTES AND METHODS FROM THE PARENT CLASS. THE CHILD CLASS IS ALSO CALLED THE SUBCLASS or derived class and the existing class is called the superclass or base class."
   ]
  },
  {
   "cell_type": "code",
   "execution_count": 29,
   "id": "30f2e278",
   "metadata": {},
   "outputs": [],
   "source": [
    "#define a superclass(base class)\n",
    "class Animal:\n",
    "    def __init__(self, name):\n",
    "        self.name = name\n",
    "    def speak(self):\n",
    "        return \"This Animal can make a sound\" #tis method will be overridden"
   ]
  },
  {
   "cell_type": "code",
   "execution_count": 30,
   "id": "0616ab45",
   "metadata": {},
   "outputs": [],
   "source": [
    "#define a subclass\n",
    "class Dog(Animal):\n",
    "    pass"
   ]
  },
  {
   "cell_type": "code",
   "execution_count": 31,
   "id": "79118188",
   "metadata": {},
   "outputs": [],
   "source": [
    "class Cat(Animal):\n",
    "    pass"
   ]
  },
  {
   "cell_type": "code",
   "execution_count": 32,
   "id": "9745c8ab",
   "metadata": {},
   "outputs": [],
   "source": [
    "my_dog = Dog(\"Buddy\")"
   ]
  },
  {
   "cell_type": "code",
   "execution_count": 33,
   "id": "439f1b44",
   "metadata": {},
   "outputs": [
    {
     "data": {
      "text/plain": [
       "'This Animal can make a sound'"
      ]
     },
     "execution_count": 33,
     "metadata": {},
     "output_type": "execute_result"
    }
   ],
   "source": [
    "my_dog.speak()"
   ]
  },
  {
   "cell_type": "code",
   "execution_count": 34,
   "id": "d1f2cf22",
   "metadata": {},
   "outputs": [
    {
     "data": {
      "text/plain": [
       "'Buddy'"
      ]
     },
     "execution_count": 34,
     "metadata": {},
     "output_type": "execute_result"
    }
   ],
   "source": [
    "my_dog.name"
   ]
  },
  {
   "cell_type": "markdown",
   "id": "fcf07e66",
   "metadata": {},
   "source": [
    "# NUMPY (NUMERICAL PYTHON)\n",
    "NUMPY is a powerful python library for numerical and scientific computing.numpy stands for numerical python and provides support for large, multi dimensonal arrays and matrices along with a wide range of mathematical functions to operate on these arrays.to access the functionalities of numpy,we must import the library"
   ]
  },
  {
   "cell_type": "code",
   "execution_count": 4,
   "id": "b3474ccf",
   "metadata": {},
   "outputs": [],
   "source": [
    "#to create a numpy array,you can use the numpy.array\n",
    "import numpy as np\n",
    "#creating a one dimensional array\n",
    "arr1=np.array([1,2,3,4,5])"
   ]
  },
  {
   "cell_type": "code",
   "execution_count": 5,
   "id": "876623bc",
   "metadata": {},
   "outputs": [
    {
     "data": {
      "text/plain": [
       "array([1, 2, 3, 4, 5])"
      ]
     },
     "execution_count": 5,
     "metadata": {},
     "output_type": "execute_result"
    }
   ],
   "source": [
    "arr1"
   ]
  },
  {
   "cell_type": "code",
   "execution_count": 6,
   "id": "463cacf9",
   "metadata": {},
   "outputs": [
    {
     "data": {
      "text/plain": [
       "numpy.ndarray"
      ]
     },
     "execution_count": 6,
     "metadata": {},
     "output_type": "execute_result"
    }
   ],
   "source": [
    "type(arr1)"
   ]
  },
  {
   "cell_type": "code",
   "execution_count": 7,
   "id": "fca21fca",
   "metadata": {},
   "outputs": [],
   "source": [
    "list1 = [10,20,30,40,50]"
   ]
  },
  {
   "cell_type": "markdown",
   "id": "98c9c8b1",
   "metadata": {},
   "source": [
    "### The numpy array method changes the object passed into it to an n-dimensional array. meaning numpy operations can be applied on the array, n is the number operations can be applied on the array,n is the number of dimensions the array has"
   ]
  },
  {
   "cell_type": "code",
   "execution_count": 8,
   "id": "15c21d65",
   "metadata": {},
   "outputs": [],
   "source": [
    "#creating a one dimensional array\n",
    "arr2 = np.array(list1)"
   ]
  },
  {
   "cell_type": "code",
   "execution_count": 9,
   "id": "4ee08e4d",
   "metadata": {},
   "outputs": [
    {
     "data": {
      "text/plain": [
       "array([ 2,  4,  6,  8, 10])"
      ]
     },
     "execution_count": 9,
     "metadata": {},
     "output_type": "execute_result"
    }
   ],
   "source": [
    "#array allows broadcasting.\n",
    "arr1 *2 "
   ]
  },
  {
   "cell_type": "code",
   "execution_count": 10,
   "id": "8bcaa481",
   "metadata": {},
   "outputs": [
    {
     "data": {
      "text/plain": [
       "[10, 20, 30, 40, 50, 10, 20, 30, 40, 50]"
      ]
     },
     "execution_count": 10,
     "metadata": {},
     "output_type": "execute_result"
    }
   ],
   "source": [
    "list1 *2"
   ]
  },
  {
   "cell_type": "code",
   "execution_count": 11,
   "id": "38bb8bc6",
   "metadata": {},
   "outputs": [
    {
     "name": "stdout",
     "output_type": "stream",
     "text": [
      "10\n",
      "20\n",
      "30\n",
      "40\n",
      "50\n"
     ]
    }
   ],
   "source": [
    "\n",
    "# to perform the same operation  on list\n",
    "list1\n",
    "for i in list1:\n",
    "    print(i)"
   ]
  },
  {
   "cell_type": "code",
   "execution_count": 12,
   "id": "72985930",
   "metadata": {},
   "outputs": [
    {
     "data": {
      "text/plain": [
       "[10, 20, 30, 40, 50]"
      ]
     },
     "execution_count": 12,
     "metadata": {},
     "output_type": "execute_result"
    }
   ],
   "source": [
    "[x for x in list1] #simplier method for printing out a list"
   ]
  },
  {
   "cell_type": "code",
   "execution_count": 13,
   "id": "c590d7c1",
   "metadata": {},
   "outputs": [
    {
     "data": {
      "text/plain": [
       "['p', 'r', 'a', 'i', 's', 'e']"
      ]
     },
     "execution_count": 13,
     "metadata": {},
     "output_type": "execute_result"
    }
   ],
   "source": [
    "name = \"praise\"\n",
    "[i for i in name]"
   ]
  },
  {
   "cell_type": "code",
   "execution_count": 14,
   "id": "3f5a4ec9",
   "metadata": {},
   "outputs": [
    {
     "data": {
      "text/plain": [
       "[15, 17, 0, 8, 18, 4]"
      ]
     },
     "execution_count": 14,
     "metadata": {},
     "output_type": "execute_result"
    }
   ],
   "source": [
    "alpha =\"abcdefghijklmnopqrstuvwxyz\"\n",
    "name = \"praise\"\n",
    "[alpha.index(i) for i in name if i in alpha] #operation before iteration, but logical and conditionals after iteration"
   ]
  },
  {
   "cell_type": "code",
   "execution_count": null,
   "id": "3cda915e",
   "metadata": {},
   "outputs": [],
   "source": []
  },
  {
   "cell_type": "code",
   "execution_count": 15,
   "id": "1217600b",
   "metadata": {},
   "outputs": [],
   "source": [
    "#creating a two dimensional array\n",
    "two_dim = np.array ([[1,2,3],[4,5,6]])"
   ]
  },
  {
   "cell_type": "code",
   "execution_count": 16,
   "id": "ba1b8541",
   "metadata": {},
   "outputs": [
    {
     "data": {
      "text/plain": [
       "array([[1, 2, 3],\n",
       "       [4, 5, 6]])"
      ]
     },
     "execution_count": 16,
     "metadata": {},
     "output_type": "execute_result"
    }
   ],
   "source": [
    "two_dim"
   ]
  },
  {
   "cell_type": "code",
   "execution_count": 17,
   "id": "03d5d32a",
   "metadata": {},
   "outputs": [],
   "source": [
    "#creating an array of zeros\n",
    "zero = np.zeros(5)"
   ]
  },
  {
   "cell_type": "code",
   "execution_count": 18,
   "id": "65990aac",
   "metadata": {},
   "outputs": [
    {
     "data": {
      "text/plain": [
       "array([0., 0., 0., 0., 0.])"
      ]
     },
     "execution_count": 18,
     "metadata": {},
     "output_type": "execute_result"
    }
   ],
   "source": [
    "zero"
   ]
  },
  {
   "cell_type": "code",
   "execution_count": 19,
   "id": "cf41e584",
   "metadata": {},
   "outputs": [
    {
     "data": {
      "text/plain": [
       "array(0)"
      ]
     },
     "execution_count": 19,
     "metadata": {},
     "output_type": "execute_result"
    }
   ],
   "source": [
    "np.zeros_like(10)"
   ]
  },
  {
   "cell_type": "code",
   "execution_count": 20,
   "id": "8c820a1a",
   "metadata": {},
   "outputs": [],
   "source": [
    "#creting an array of ones\n",
    "ones = np.ones(3)"
   ]
  },
  {
   "cell_type": "code",
   "execution_count": 21,
   "id": "bfebd71a",
   "metadata": {},
   "outputs": [
    {
     "data": {
      "text/plain": [
       "array([1., 1., 1.])"
      ]
     },
     "execution_count": 21,
     "metadata": {},
     "output_type": "execute_result"
    }
   ],
   "source": [
    "ones"
   ]
  },
  {
   "cell_type": "code",
   "execution_count": 22,
   "id": "99a4da90",
   "metadata": {},
   "outputs": [
    {
     "data": {
      "text/plain": [
       "array([1, 1, 1, 1, 1])"
      ]
     },
     "execution_count": 22,
     "metadata": {},
     "output_type": "execute_result"
    }
   ],
   "source": [
    "np.ones_like([1,2,3,4,5])"
   ]
  },
  {
   "cell_type": "code",
   "execution_count": 23,
   "id": "256ff21a",
   "metadata": {},
   "outputs": [],
   "source": [
    "#creating an identity matrix\n",
    "identity_matrix = np.eye(3)"
   ]
  },
  {
   "cell_type": "code",
   "execution_count": 24,
   "id": "0e0b4818",
   "metadata": {},
   "outputs": [
    {
     "ename": "NameError",
     "evalue": "name 'identity_marix' is not defined",
     "output_type": "error",
     "traceback": [
      "\u001b[1;31m---------------------------------------------------------------------------\u001b[0m",
      "\u001b[1;31mNameError\u001b[0m                                 Traceback (most recent call last)",
      "Cell \u001b[1;32mIn[24], line 1\u001b[0m\n\u001b[1;32m----> 1\u001b[0m identity_marix\n",
      "\u001b[1;31mNameError\u001b[0m: name 'identity_marix' is not defined"
     ]
    }
   ],
   "source": [
    "identity_marix"
   ]
  },
  {
   "cell_type": "markdown",
   "id": "78c11d21",
   "metadata": {},
   "source": [
    "# ARRAY ATTRIBUTES\n",
    "YOU CAN ACCESS VARIOUS ATTRIBUTES OF A NUMPY ARRAY"
   ]
  },
  {
   "cell_type": "code",
   "execution_count": 25,
   "id": "543c23fd",
   "metadata": {},
   "outputs": [
    {
     "data": {
      "text/plain": [
       "(5,)"
      ]
     },
     "execution_count": 25,
     "metadata": {},
     "output_type": "execute_result"
    }
   ],
   "source": [
    "#SHAPE OF THE ARRAY THIS TELLS YOU THR NUMBER OF THE ROWS AND COLUMN\n",
    "arr2.shape"
   ]
  },
  {
   "cell_type": "code",
   "execution_count": 26,
   "id": "dcfc6289",
   "metadata": {},
   "outputs": [
    {
     "data": {
      "text/plain": [
       "array([10, 20, 30, 40, 50])"
      ]
     },
     "execution_count": 26,
     "metadata": {},
     "output_type": "execute_result"
    }
   ],
   "source": [
    "arr2"
   ]
  },
  {
   "cell_type": "code",
   "execution_count": 27,
   "id": "0c6ae16f",
   "metadata": {},
   "outputs": [
    {
     "data": {
      "text/plain": [
       "1"
      ]
     },
     "execution_count": 27,
     "metadata": {},
     "output_type": "execute_result"
    }
   ],
   "source": [
    "arr2.ndim  #ndim attributes check the dimension of the array"
   ]
  },
  {
   "cell_type": "code",
   "execution_count": 28,
   "id": "2ed80835",
   "metadata": {},
   "outputs": [
    {
     "data": {
      "text/plain": [
       "(2, 3)"
      ]
     },
     "execution_count": 28,
     "metadata": {},
     "output_type": "execute_result"
    }
   ],
   "source": [
    "two_dim.shape"
   ]
  },
  {
   "cell_type": "code",
   "execution_count": 29,
   "id": "431841b4",
   "metadata": {},
   "outputs": [
    {
     "data": {
      "text/plain": [
       "array([[1, 2, 3],\n",
       "       [4, 5, 6]])"
      ]
     },
     "execution_count": 29,
     "metadata": {},
     "output_type": "execute_result"
    }
   ],
   "source": [
    "two_dim"
   ]
  },
  {
   "cell_type": "code",
   "execution_count": 30,
   "id": "78a3899f",
   "metadata": {},
   "outputs": [
    {
     "data": {
      "text/plain": [
       "dtype('int32')"
      ]
     },
     "execution_count": 30,
     "metadata": {},
     "output_type": "execute_result"
    }
   ],
   "source": [
    "#check the data tyoe o the array\n",
    "arr2.dtype"
   ]
  },
  {
   "cell_type": "code",
   "execution_count": 31,
   "id": "ffb2efc5",
   "metadata": {},
   "outputs": [
    {
     "data": {
      "text/plain": [
       "5"
      ]
     },
     "execution_count": 31,
     "metadata": {},
     "output_type": "execute_result"
    }
   ],
   "source": [
    "arr2.size #it counts all the element in the array(the total number)"
   ]
  },
  {
   "cell_type": "code",
   "execution_count": 32,
   "id": "5a311276",
   "metadata": {},
   "outputs": [
    {
     "data": {
      "text/plain": [
       "6"
      ]
     },
     "execution_count": 32,
     "metadata": {},
     "output_type": "execute_result"
    }
   ],
   "source": [
    "two_dim.size"
   ]
  },
  {
   "cell_type": "markdown",
   "id": "453880cf",
   "metadata": {},
   "source": [
    "# ARRAY INDEXING AND SLICING\n",
    "NUMPY ARRAYS SUPPORT INDEXING AND SLICING SIMILAR TO PYTHON"
   ]
  },
  {
   "cell_type": "code",
   "execution_count": 33,
   "id": "7a4e1c08",
   "metadata": {},
   "outputs": [
    {
     "data": {
      "text/plain": [
       "array([1, 2, 3, 4, 5])"
      ]
     },
     "execution_count": 33,
     "metadata": {},
     "output_type": "execute_result"
    }
   ],
   "source": [
    "arr1"
   ]
  },
  {
   "cell_type": "code",
   "execution_count": 34,
   "id": "ca7ead11",
   "metadata": {},
   "outputs": [
    {
     "data": {
      "text/plain": [
       "1"
      ]
     },
     "execution_count": 34,
     "metadata": {},
     "output_type": "execute_result"
    }
   ],
   "source": [
    "arr1[0]"
   ]
  },
  {
   "cell_type": "code",
   "execution_count": 35,
   "id": "5c7a8eba",
   "metadata": {},
   "outputs": [],
   "source": [
    "element = arr1[4] #access the fifth element at index 4"
   ]
  },
  {
   "cell_type": "code",
   "execution_count": 36,
   "id": "053c208e",
   "metadata": {},
   "outputs": [
    {
     "data": {
      "text/plain": [
       "5"
      ]
     },
     "execution_count": 36,
     "metadata": {},
     "output_type": "execute_result"
    }
   ],
   "source": [
    "element"
   ]
  },
  {
   "cell_type": "code",
   "execution_count": 37,
   "id": "4eb69994",
   "metadata": {},
   "outputs": [
    {
     "data": {
      "text/plain": [
       "array([2, 3, 4])"
      ]
     },
     "execution_count": 37,
     "metadata": {},
     "output_type": "execute_result"
    }
   ],
   "source": [
    "#slicing\n",
    "arr1[1:4]  #start from one and don't put 4"
   ]
  },
  {
   "cell_type": "code",
   "execution_count": 38,
   "id": "6ebd267f",
   "metadata": {},
   "outputs": [
    {
     "data": {
      "text/plain": [
       "array([[1, 2, 3],\n",
       "       [4, 5, 6]])"
      ]
     },
     "execution_count": 38,
     "metadata": {},
     "output_type": "execute_result"
    }
   ],
   "source": [
    "#slicing for two dimensional array\n",
    "two_dim"
   ]
  },
  {
   "cell_type": "code",
   "execution_count": 39,
   "id": "fdaf05b0",
   "metadata": {},
   "outputs": [
    {
     "data": {
      "text/plain": [
       "5"
      ]
     },
     "execution_count": 39,
     "metadata": {},
     "output_type": "execute_result"
    }
   ],
   "source": [
    "two_dim[1,1] #second row and second element #remember that numbers in python start from 0"
   ]
  },
  {
   "cell_type": "code",
   "execution_count": 40,
   "id": "bfe1b0ec",
   "metadata": {},
   "outputs": [
    {
     "data": {
      "text/plain": [
       "array([[1, 2],\n",
       "       [4, 5]])"
      ]
     },
     "execution_count": 40,
     "metadata": {},
     "output_type": "execute_result"
    }
   ],
   "source": [
    "two_dim[0:2, 0:2]"
   ]
  },
  {
   "cell_type": "code",
   "execution_count": 41,
   "id": "89075a30",
   "metadata": {},
   "outputs": [],
   "source": [
    "a = [1,2,3]"
   ]
  },
  {
   "cell_type": "code",
   "execution_count": 42,
   "id": "757d437b",
   "metadata": {},
   "outputs": [],
   "source": [
    "b = a"
   ]
  },
  {
   "cell_type": "code",
   "execution_count": 43,
   "id": "6ca67dbc",
   "metadata": {},
   "outputs": [],
   "source": [
    "a = [4,5,6]"
   ]
  },
  {
   "cell_type": "code",
   "execution_count": 44,
   "id": "3b7ad1a9",
   "metadata": {},
   "outputs": [],
   "source": [
    "b = a"
   ]
  },
  {
   "cell_type": "code",
   "execution_count": 45,
   "id": "3437aef3",
   "metadata": {},
   "outputs": [
    {
     "name": "stdout",
     "output_type": "stream",
     "text": [
      "[4, 5, 6]\n"
     ]
    }
   ],
   "source": [
    "print(b)"
   ]
  },
  {
   "cell_type": "code",
   "execution_count": 46,
   "id": "90e5dfce",
   "metadata": {},
   "outputs": [
    {
     "name": "stdout",
     "output_type": "stream",
     "text": [
      "22\n"
     ]
    }
   ],
   "source": [
    "def fun():\n",
    "    for x in range(22,23,24):\n",
    "        print(x)\n",
    "fun()        "
   ]
  },
  {
   "cell_type": "markdown",
   "id": "6270a6fc",
   "metadata": {},
   "source": [
    "# ARRAY OPERATIONS\n",
    "YOU CAN PERFORM MATHEMATICAL OPERATIONS ON NUMPY ARRAY"
   ]
  },
  {
   "cell_type": "code",
   "execution_count": 48,
   "id": "4cfb9be1",
   "metadata": {},
   "outputs": [
    {
     "data": {
      "text/plain": [
       "array([1, 2, 3, 4, 5])"
      ]
     },
     "execution_count": 48,
     "metadata": {},
     "output_type": "execute_result"
    }
   ],
   "source": [
    "arr1"
   ]
  },
  {
   "cell_type": "code",
   "execution_count": 49,
   "id": "a3c92760",
   "metadata": {},
   "outputs": [
    {
     "data": {
      "text/plain": [
       "array([ 2,  4,  6,  8, 10])"
      ]
     },
     "execution_count": 49,
     "metadata": {},
     "output_type": "execute_result"
    }
   ],
   "source": [
    "#element wise addition\n",
    "arr1 + arr1"
   ]
  },
  {
   "cell_type": "code",
   "execution_count": 50,
   "id": "97cd97d4",
   "metadata": {},
   "outputs": [
    {
     "data": {
      "text/plain": [
       "array([ 20,  40,  60,  80, 100])"
      ]
     },
     "execution_count": 50,
     "metadata": {},
     "output_type": "execute_result"
    }
   ],
   "source": [
    "#element wise multiplication\n",
    "arr2 * 2"
   ]
  },
  {
   "cell_type": "code",
   "execution_count": 51,
   "id": "6f97c4b9",
   "metadata": {},
   "outputs": [],
   "source": [
    "#Transposed an array\n",
    "transposed = two_dim.T"
   ]
  },
  {
   "cell_type": "code",
   "execution_count": 52,
   "id": "8e63efec",
   "metadata": {},
   "outputs": [
    {
     "data": {
      "text/plain": [
       "array([[1, 4],\n",
       "       [2, 5],\n",
       "       [3, 6]])"
      ]
     },
     "execution_count": 52,
     "metadata": {},
     "output_type": "execute_result"
    }
   ],
   "source": [
    "transposed"
   ]
  },
  {
   "cell_type": "markdown",
   "id": "3ad558f0",
   "metadata": {},
   "source": [
    "# Mathematical functions\n",
    "Numpy provides a  wide range of mathematical functions including trigonometric,logarithmic and exponential function"
   ]
  },
  {
   "cell_type": "code",
   "execution_count": 53,
   "id": "d70530f9",
   "metadata": {},
   "outputs": [
    {
     "data": {
      "text/plain": [
       "array([ 0.84147098,  0.90929743,  0.14112001, -0.7568025 , -0.95892427])"
      ]
     },
     "execution_count": 53,
     "metadata": {},
     "output_type": "execute_result"
    }
   ],
   "source": [
    "#trigonomertic function\n",
    "np.sin(arr1)"
   ]
  },
  {
   "cell_type": "code",
   "execution_count": 54,
   "id": "4e5c032f",
   "metadata": {},
   "outputs": [],
   "source": [
    "sin_result = np.sin(arr1)"
   ]
  },
  {
   "cell_type": "code",
   "execution_count": 55,
   "id": "89cfeba6",
   "metadata": {},
   "outputs": [
    {
     "data": {
      "text/plain": [
       "array([ 0.84147098,  0.90929743,  0.14112001, -0.7568025 , -0.95892427])"
      ]
     },
     "execution_count": 55,
     "metadata": {},
     "output_type": "execute_result"
    }
   ],
   "source": [
    "sin_result"
   ]
  },
  {
   "cell_type": "code",
   "execution_count": 56,
   "id": "8e0f8a65",
   "metadata": {},
   "outputs": [],
   "source": [
    "cos_result = np.cos(arr1)"
   ]
  },
  {
   "cell_type": "code",
   "execution_count": 57,
   "id": "266adbf2",
   "metadata": {},
   "outputs": [
    {
     "data": {
      "text/plain": [
       "array([ 0.54030231, -0.41614684, -0.9899925 , -0.65364362,  0.28366219])"
      ]
     },
     "execution_count": 57,
     "metadata": {},
     "output_type": "execute_result"
    }
   ],
   "source": [
    "cos_result"
   ]
  },
  {
   "cell_type": "code",
   "execution_count": 58,
   "id": "122a72f9",
   "metadata": {},
   "outputs": [],
   "source": [
    "tan_result = np.tan(arr1)"
   ]
  },
  {
   "cell_type": "code",
   "execution_count": 59,
   "id": "caad35d2",
   "metadata": {},
   "outputs": [
    {
     "data": {
      "text/plain": [
       "array([ 1.55740772, -2.18503986, -0.14254654,  1.15782128, -3.38051501])"
      ]
     },
     "execution_count": 59,
     "metadata": {},
     "output_type": "execute_result"
    }
   ],
   "source": [
    "tan_result"
   ]
  },
  {
   "cell_type": "code",
   "execution_count": 60,
   "id": "c672c310",
   "metadata": {},
   "outputs": [],
   "source": [
    "#logarithmic functions\n",
    "log_result = np.log(arr1)"
   ]
  },
  {
   "cell_type": "code",
   "execution_count": 61,
   "id": "cf7ab5a0",
   "metadata": {},
   "outputs": [
    {
     "data": {
      "text/plain": [
       "array([0.        , 0.69314718, 1.09861229, 1.38629436, 1.60943791])"
      ]
     },
     "execution_count": 61,
     "metadata": {},
     "output_type": "execute_result"
    }
   ],
   "source": [
    "log_result"
   ]
  },
  {
   "cell_type": "code",
   "execution_count": 62,
   "id": "786bd025",
   "metadata": {},
   "outputs": [],
   "source": [
    "exp_result = np.exp(arr1)"
   ]
  },
  {
   "cell_type": "code",
   "execution_count": 63,
   "id": "0984f468",
   "metadata": {},
   "outputs": [
    {
     "data": {
      "text/plain": [
       "array([  2.71828183,   7.3890561 ,  20.08553692,  54.59815003,\n",
       "       148.4131591 ])"
      ]
     },
     "execution_count": 63,
     "metadata": {},
     "output_type": "execute_result"
    }
   ],
   "source": [
    "exp_result #exponential"
   ]
  },
  {
   "cell_type": "code",
   "execution_count": 64,
   "id": "0ed86014",
   "metadata": {},
   "outputs": [
    {
     "data": {
      "text/plain": [
       "array([1.        , 1.41421356, 1.73205081, 2.        , 2.23606798])"
      ]
     },
     "execution_count": 64,
     "metadata": {},
     "output_type": "execute_result"
    }
   ],
   "source": [
    "np.sqrt(arr1) #square root"
   ]
  },
  {
   "cell_type": "code",
   "execution_count": 65,
   "id": "a801aaf1",
   "metadata": {},
   "outputs": [
    {
     "data": {
      "text/plain": [
       "1.4142135623730951"
      ]
     },
     "execution_count": 65,
     "metadata": {},
     "output_type": "execute_result"
    }
   ],
   "source": [
    "np.std(arr1) #standard deviation"
   ]
  },
  {
   "cell_type": "code",
   "execution_count": 66,
   "id": "621f4d21",
   "metadata": {},
   "outputs": [
    {
     "data": {
      "text/plain": [
       "3.0"
      ]
     },
     "execution_count": 66,
     "metadata": {},
     "output_type": "execute_result"
    }
   ],
   "source": [
    "np.mean(arr1)"
   ]
  },
  {
   "cell_type": "code",
   "execution_count": 67,
   "id": "bcf3b816",
   "metadata": {},
   "outputs": [
    {
     "data": {
      "text/plain": [
       "3.0"
      ]
     },
     "execution_count": 67,
     "metadata": {},
     "output_type": "execute_result"
    }
   ],
   "source": [
    "np.median(arr1)"
   ]
  },
  {
   "cell_type": "code",
   "execution_count": 70,
   "id": "957bc753",
   "metadata": {},
   "outputs": [
    {
     "data": {
      "text/plain": [
       "(array([0., 0., 0., 0., 0.]), array([1., 2., 3., 4., 5.]))"
      ]
     },
     "execution_count": 70,
     "metadata": {},
     "output_type": "execute_result"
    }
   ],
   "source": [
    "np.modf(arr1)"
   ]
  },
  {
   "cell_type": "markdown",
   "id": "f4fe8d17",
   "metadata": {},
   "source": [
    "# ARRAY MANIPULATION\n",
    "YOU CAN MANIPULATE ARRAY BY CHANGING THEIR SHAPE,SIZE OR STRUCTURE"
   ]
  },
  {
   "cell_type": "code",
   "execution_count": 71,
   "id": "23080042",
   "metadata": {},
   "outputs": [
    {
     "data": {
      "text/plain": [
       "array([1, 2, 3, 4, 5])"
      ]
     },
     "execution_count": 71,
     "metadata": {},
     "output_type": "execute_result"
    }
   ],
   "source": [
    "arr1"
   ]
  },
  {
   "cell_type": "code",
   "execution_count": 74,
   "id": "02c98b2d",
   "metadata": {},
   "outputs": [
    {
     "data": {
      "text/plain": [
       "array([[1],\n",
       "       [2],\n",
       "       [3],\n",
       "       [4],\n",
       "       [5]])"
      ]
     },
     "execution_count": 74,
     "metadata": {},
     "output_type": "execute_result"
    }
   ],
   "source": [
    "arr1.reshape(5,1)"
   ]
  },
  {
   "cell_type": "code",
   "execution_count": 79,
   "id": "486cc9c0",
   "metadata": {},
   "outputs": [],
   "source": [
    "more_array = np.array ([[1,2,3],[4,5,6],[7,8,9],[10,11,12]])"
   ]
  },
  {
   "cell_type": "code",
   "execution_count": 80,
   "id": "d1d097fa",
   "metadata": {},
   "outputs": [
    {
     "data": {
      "text/plain": [
       "2"
      ]
     },
     "execution_count": 80,
     "metadata": {},
     "output_type": "execute_result"
    }
   ],
   "source": [
    "more_array.ndim"
   ]
  },
  {
   "cell_type": "code",
   "execution_count": 81,
   "id": "0c233bf0",
   "metadata": {},
   "outputs": [
    {
     "data": {
      "text/plain": [
       "array([ 1,  2,  3,  4,  5, 10, 20, 30, 40, 50])"
      ]
     },
     "execution_count": 81,
     "metadata": {},
     "output_type": "execute_result"
    }
   ],
   "source": [
    "#concatenating an array\n",
    "np.concatenate([arr1,arr2]) #joinning two arrays together"
   ]
  },
  {
   "cell_type": "code",
   "execution_count": 82,
   "id": "6ab67438",
   "metadata": {},
   "outputs": [
    {
     "data": {
      "text/plain": [
       "array([[ 1,  2,  3],\n",
       "       [ 4,  5,  6],\n",
       "       [ 1,  2,  3],\n",
       "       [ 4,  5,  6],\n",
       "       [ 7,  8,  9],\n",
       "       [10, 11, 12]])"
      ]
     },
     "execution_count": 82,
     "metadata": {},
     "output_type": "execute_result"
    }
   ],
   "source": [
    "np.concatenate([two_dim,more_array])"
   ]
  },
  {
   "cell_type": "code",
   "execution_count": 84,
   "id": "ce55434d",
   "metadata": {},
   "outputs": [],
   "source": [
    "bigger_array =  np.concatenate([two_dim,more_array]) #"
   ]
  },
  {
   "cell_type": "code",
   "execution_count": 85,
   "id": "bcc50c4e",
   "metadata": {},
   "outputs": [
    {
     "data": {
      "text/plain": [
       "array([[ 1,  2,  3,  4,  5],\n",
       "       [10, 20, 30, 40, 50]])"
      ]
     },
     "execution_count": 85,
     "metadata": {},
     "output_type": "execute_result"
    }
   ],
   "source": [
    "np.stack([arr1,arr2]) #stack arranges the arrays in steps"
   ]
  },
  {
   "cell_type": "code",
   "execution_count": 1,
   "id": "2338613e",
   "metadata": {},
   "outputs": [],
   "source": [
    "#data = np.genfromtxt(\"Loan_prediction_dataset.csv\",delimeter = \",\", filling_value=0,usecols=8) #working with missing data.(filingvalue)"
   ]
  },
  {
   "cell_type": "markdown",
   "id": "7c36e8fd",
   "metadata": {},
   "source": [
    "# python list vs numpy array"
   ]
  },
  {
   "cell_type": "code",
   "execution_count": 3,
   "id": "ceb2749f",
   "metadata": {},
   "outputs": [],
   "source": [
    "import numpy as np\n",
    "from timeit import Timer\n",
    "\n",
    "size_of_vec = 1000\n",
    "X_list = range(size_of_vec)\n",
    "Y_list = range(size_of_vec)\n",
    "X = np.arange(size_of_vec)\n",
    "Y = np.arange(size_of_vec)\n",
    "list1 = [1,2,3,4]\n",
    "list2 = [4,5,6,7]"
   ]
  },
  {
   "cell_type": "code",
   "execution_count": 4,
   "id": "0dd6f4a9",
   "metadata": {
    "scrolled": false
   },
   "outputs": [
    {
     "name": "stdout",
     "output_type": "stream",
     "text": [
      "0\n",
      "1\n",
      "2\n",
      "3\n",
      "4\n",
      "5\n",
      "6\n",
      "7\n",
      "8\n",
      "9\n",
      "10\n",
      "11\n",
      "12\n",
      "13\n",
      "14\n",
      "15\n",
      "16\n",
      "17\n",
      "18\n",
      "19\n",
      "20\n",
      "21\n",
      "22\n",
      "23\n",
      "24\n",
      "25\n",
      "26\n",
      "27\n",
      "28\n",
      "29\n",
      "30\n",
      "31\n",
      "32\n",
      "33\n",
      "34\n",
      "35\n",
      "36\n",
      "37\n",
      "38\n",
      "39\n",
      "40\n",
      "41\n",
      "42\n",
      "43\n",
      "44\n",
      "45\n",
      "46\n",
      "47\n",
      "48\n",
      "49\n",
      "50\n",
      "51\n",
      "52\n",
      "53\n",
      "54\n",
      "55\n",
      "56\n",
      "57\n",
      "58\n",
      "59\n",
      "60\n",
      "61\n",
      "62\n",
      "63\n",
      "64\n",
      "65\n",
      "66\n",
      "67\n",
      "68\n",
      "69\n",
      "70\n",
      "71\n",
      "72\n",
      "73\n",
      "74\n",
      "75\n",
      "76\n",
      "77\n",
      "78\n",
      "79\n",
      "80\n",
      "81\n",
      "82\n",
      "83\n",
      "84\n",
      "85\n",
      "86\n",
      "87\n",
      "88\n",
      "89\n",
      "90\n",
      "91\n",
      "92\n",
      "93\n",
      "94\n",
      "95\n",
      "96\n",
      "97\n",
      "98\n",
      "99\n",
      "100\n",
      "101\n",
      "102\n",
      "103\n",
      "104\n",
      "105\n",
      "106\n",
      "107\n",
      "108\n",
      "109\n",
      "110\n",
      "111\n",
      "112\n",
      "113\n",
      "114\n",
      "115\n",
      "116\n",
      "117\n",
      "118\n",
      "119\n",
      "120\n",
      "121\n",
      "122\n",
      "123\n",
      "124\n",
      "125\n",
      "126\n",
      "127\n",
      "128\n",
      "129\n",
      "130\n",
      "131\n",
      "132\n",
      "133\n",
      "134\n",
      "135\n",
      "136\n",
      "137\n",
      "138\n",
      "139\n",
      "140\n",
      "141\n",
      "142\n",
      "143\n",
      "144\n",
      "145\n",
      "146\n",
      "147\n",
      "148\n",
      "149\n",
      "150\n",
      "151\n",
      "152\n",
      "153\n",
      "154\n",
      "155\n",
      "156\n",
      "157\n",
      "158\n",
      "159\n",
      "160\n",
      "161\n",
      "162\n",
      "163\n",
      "164\n",
      "165\n",
      "166\n",
      "167\n",
      "168\n",
      "169\n",
      "170\n",
      "171\n",
      "172\n",
      "173\n",
      "174\n",
      "175\n",
      "176\n",
      "177\n",
      "178\n",
      "179\n",
      "180\n",
      "181\n",
      "182\n",
      "183\n",
      "184\n",
      "185\n",
      "186\n",
      "187\n",
      "188\n",
      "189\n",
      "190\n",
      "191\n",
      "192\n",
      "193\n",
      "194\n",
      "195\n",
      "196\n",
      "197\n",
      "198\n",
      "199\n",
      "200\n",
      "201\n",
      "202\n",
      "203\n",
      "204\n",
      "205\n",
      "206\n",
      "207\n",
      "208\n",
      "209\n",
      "210\n",
      "211\n",
      "212\n",
      "213\n",
      "214\n",
      "215\n",
      "216\n",
      "217\n",
      "218\n",
      "219\n",
      "220\n",
      "221\n",
      "222\n",
      "223\n",
      "224\n",
      "225\n",
      "226\n",
      "227\n",
      "228\n",
      "229\n",
      "230\n",
      "231\n",
      "232\n",
      "233\n",
      "234\n",
      "235\n",
      "236\n",
      "237\n",
      "238\n",
      "239\n",
      "240\n",
      "241\n",
      "242\n",
      "243\n",
      "244\n",
      "245\n",
      "246\n",
      "247\n",
      "248\n",
      "249\n",
      "250\n",
      "251\n",
      "252\n",
      "253\n",
      "254\n",
      "255\n",
      "256\n",
      "257\n",
      "258\n",
      "259\n",
      "260\n",
      "261\n",
      "262\n",
      "263\n",
      "264\n",
      "265\n",
      "266\n",
      "267\n",
      "268\n",
      "269\n",
      "270\n",
      "271\n",
      "272\n",
      "273\n",
      "274\n",
      "275\n",
      "276\n",
      "277\n",
      "278\n",
      "279\n",
      "280\n",
      "281\n",
      "282\n",
      "283\n",
      "284\n",
      "285\n",
      "286\n",
      "287\n",
      "288\n",
      "289\n",
      "290\n",
      "291\n",
      "292\n",
      "293\n",
      "294\n",
      "295\n",
      "296\n",
      "297\n",
      "298\n",
      "299\n",
      "300\n",
      "301\n",
      "302\n",
      "303\n",
      "304\n",
      "305\n",
      "306\n",
      "307\n",
      "308\n",
      "309\n",
      "310\n",
      "311\n",
      "312\n",
      "313\n",
      "314\n",
      "315\n",
      "316\n",
      "317\n",
      "318\n",
      "319\n",
      "320\n",
      "321\n",
      "322\n",
      "323\n",
      "324\n",
      "325\n",
      "326\n",
      "327\n",
      "328\n",
      "329\n",
      "330\n",
      "331\n",
      "332\n",
      "333\n",
      "334\n",
      "335\n",
      "336\n",
      "337\n",
      "338\n",
      "339\n",
      "340\n",
      "341\n",
      "342\n",
      "343\n",
      "344\n",
      "345\n",
      "346\n",
      "347\n",
      "348\n",
      "349\n",
      "350\n",
      "351\n",
      "352\n",
      "353\n",
      "354\n",
      "355\n",
      "356\n",
      "357\n",
      "358\n",
      "359\n",
      "360\n",
      "361\n",
      "362\n",
      "363\n",
      "364\n",
      "365\n",
      "366\n",
      "367\n",
      "368\n",
      "369\n",
      "370\n",
      "371\n",
      "372\n",
      "373\n",
      "374\n",
      "375\n",
      "376\n",
      "377\n",
      "378\n",
      "379\n",
      "380\n",
      "381\n",
      "382\n",
      "383\n",
      "384\n",
      "385\n",
      "386\n",
      "387\n",
      "388\n",
      "389\n",
      "390\n",
      "391\n",
      "392\n",
      "393\n",
      "394\n",
      "395\n",
      "396\n",
      "397\n",
      "398\n",
      "399\n",
      "400\n",
      "401\n",
      "402\n",
      "403\n",
      "404\n",
      "405\n",
      "406\n",
      "407\n",
      "408\n",
      "409\n",
      "410\n",
      "411\n",
      "412\n",
      "413\n",
      "414\n",
      "415\n",
      "416\n",
      "417\n",
      "418\n",
      "419\n",
      "420\n",
      "421\n",
      "422\n",
      "423\n",
      "424\n",
      "425\n",
      "426\n",
      "427\n",
      "428\n",
      "429\n",
      "430\n",
      "431\n",
      "432\n",
      "433\n",
      "434\n",
      "435\n",
      "436\n",
      "437\n",
      "438\n",
      "439\n",
      "440\n",
      "441\n",
      "442\n",
      "443\n",
      "444\n",
      "445\n",
      "446\n",
      "447\n",
      "448\n",
      "449\n",
      "450\n",
      "451\n",
      "452\n",
      "453\n",
      "454\n",
      "455\n",
      "456\n",
      "457\n",
      "458\n",
      "459\n",
      "460\n",
      "461\n",
      "462\n",
      "463\n",
      "464\n",
      "465\n",
      "466\n",
      "467\n",
      "468\n",
      "469\n",
      "470\n",
      "471\n",
      "472\n",
      "473\n",
      "474\n",
      "475\n",
      "476\n",
      "477\n",
      "478\n",
      "479\n",
      "480\n",
      "481\n",
      "482\n",
      "483\n",
      "484\n",
      "485\n",
      "486\n",
      "487\n",
      "488\n",
      "489\n",
      "490\n",
      "491\n",
      "492\n",
      "493\n",
      "494\n",
      "495\n",
      "496\n",
      "497\n",
      "498\n",
      "499\n",
      "500\n",
      "501\n",
      "502\n",
      "503\n",
      "504\n",
      "505\n",
      "506\n",
      "507\n",
      "508\n",
      "509\n",
      "510\n",
      "511\n",
      "512\n",
      "513\n",
      "514\n",
      "515\n",
      "516\n",
      "517\n",
      "518\n",
      "519\n",
      "520\n",
      "521\n",
      "522\n",
      "523\n",
      "524\n",
      "525\n",
      "526\n",
      "527\n",
      "528\n",
      "529\n",
      "530\n",
      "531\n",
      "532\n",
      "533\n",
      "534\n",
      "535\n",
      "536\n",
      "537\n",
      "538\n",
      "539\n",
      "540\n",
      "541\n",
      "542\n",
      "543\n",
      "544\n",
      "545\n",
      "546\n",
      "547\n",
      "548\n",
      "549\n",
      "550\n",
      "551\n",
      "552\n",
      "553\n",
      "554\n",
      "555\n",
      "556\n",
      "557\n",
      "558\n",
      "559\n",
      "560\n",
      "561\n",
      "562\n",
      "563\n",
      "564\n",
      "565\n",
      "566\n",
      "567\n",
      "568\n",
      "569\n",
      "570\n",
      "571\n",
      "572\n",
      "573\n",
      "574\n",
      "575\n",
      "576\n",
      "577\n",
      "578\n",
      "579\n",
      "580\n",
      "581\n",
      "582\n",
      "583\n",
      "584\n",
      "585\n",
      "586\n",
      "587\n",
      "588\n",
      "589\n",
      "590\n",
      "591\n",
      "592\n",
      "593\n",
      "594\n",
      "595\n",
      "596\n",
      "597\n",
      "598\n",
      "599\n",
      "600\n",
      "601\n",
      "602\n",
      "603\n",
      "604\n",
      "605\n",
      "606\n",
      "607\n",
      "608\n",
      "609\n",
      "610\n",
      "611\n",
      "612\n",
      "613\n",
      "614\n",
      "615\n",
      "616\n",
      "617\n",
      "618\n",
      "619\n",
      "620\n",
      "621\n",
      "622\n",
      "623\n",
      "624\n",
      "625\n",
      "626\n",
      "627\n",
      "628\n",
      "629\n",
      "630\n",
      "631\n",
      "632\n",
      "633\n",
      "634\n",
      "635\n",
      "636\n",
      "637\n",
      "638\n",
      "639\n",
      "640\n",
      "641\n",
      "642\n",
      "643\n",
      "644\n",
      "645\n",
      "646\n",
      "647\n",
      "648\n",
      "649\n",
      "650\n",
      "651\n",
      "652\n",
      "653\n",
      "654\n",
      "655\n",
      "656\n",
      "657\n",
      "658\n",
      "659\n",
      "660\n",
      "661\n",
      "662\n",
      "663\n",
      "664\n",
      "665\n",
      "666\n",
      "667\n",
      "668\n",
      "669\n",
      "670\n",
      "671\n",
      "672\n",
      "673\n",
      "674\n",
      "675\n",
      "676\n",
      "677\n",
      "678\n",
      "679\n",
      "680\n",
      "681\n",
      "682\n",
      "683\n",
      "684\n",
      "685\n",
      "686\n",
      "687\n",
      "688\n",
      "689\n",
      "690\n",
      "691\n",
      "692\n",
      "693\n",
      "694\n",
      "695\n",
      "696\n",
      "697\n",
      "698\n",
      "699\n",
      "700\n",
      "701\n",
      "702\n",
      "703\n",
      "704\n",
      "705\n",
      "706\n",
      "707\n",
      "708\n",
      "709\n",
      "710\n",
      "711\n",
      "712\n",
      "713\n",
      "714\n",
      "715\n",
      "716\n",
      "717\n",
      "718\n",
      "719\n",
      "720\n",
      "721\n",
      "722\n",
      "723\n",
      "724\n",
      "725\n",
      "726\n",
      "727\n",
      "728\n",
      "729\n",
      "730\n",
      "731\n",
      "732\n",
      "733\n",
      "734\n",
      "735\n",
      "736\n",
      "737\n",
      "738\n",
      "739\n",
      "740\n",
      "741\n",
      "742\n",
      "743\n",
      "744\n",
      "745\n",
      "746\n",
      "747\n",
      "748\n",
      "749\n",
      "750\n",
      "751\n",
      "752\n",
      "753\n",
      "754\n",
      "755\n",
      "756\n",
      "757\n",
      "758\n",
      "759\n",
      "760\n",
      "761\n",
      "762\n",
      "763\n",
      "764\n",
      "765\n",
      "766\n",
      "767\n",
      "768\n",
      "769\n",
      "770\n",
      "771\n",
      "772\n",
      "773\n",
      "774\n",
      "775\n",
      "776\n",
      "777\n",
      "778\n",
      "779\n",
      "780\n",
      "781\n",
      "782\n",
      "783\n",
      "784\n",
      "785\n",
      "786\n",
      "787\n",
      "788\n",
      "789\n",
      "790\n",
      "791\n",
      "792\n",
      "793\n",
      "794\n",
      "795\n",
      "796\n",
      "797\n",
      "798\n",
      "799\n",
      "800\n",
      "801\n",
      "802\n",
      "803\n",
      "804\n",
      "805\n",
      "806\n",
      "807\n",
      "808\n",
      "809\n",
      "810\n",
      "811\n",
      "812\n",
      "813\n",
      "814\n",
      "815\n",
      "816\n",
      "817\n",
      "818\n",
      "819\n",
      "820\n",
      "821\n",
      "822\n",
      "823\n",
      "824\n",
      "825\n",
      "826\n",
      "827\n",
      "828\n",
      "829\n",
      "830\n",
      "831\n",
      "832\n",
      "833\n",
      "834\n",
      "835\n",
      "836\n",
      "837\n",
      "838\n",
      "839\n",
      "840\n",
      "841\n",
      "842\n",
      "843\n",
      "844\n",
      "845\n",
      "846\n",
      "847\n",
      "848\n",
      "849\n",
      "850\n",
      "851\n",
      "852\n",
      "853\n",
      "854\n",
      "855\n",
      "856\n",
      "857\n",
      "858\n",
      "859\n",
      "860\n",
      "861\n",
      "862\n",
      "863\n",
      "864\n",
      "865\n",
      "866\n",
      "867\n",
      "868\n",
      "869\n",
      "870\n",
      "871\n",
      "872\n",
      "873\n",
      "874\n",
      "875\n",
      "876\n",
      "877\n",
      "878\n",
      "879\n",
      "880\n",
      "881\n",
      "882\n",
      "883\n",
      "884\n",
      "885\n",
      "886\n",
      "887\n",
      "888\n",
      "889\n",
      "890\n",
      "891\n",
      "892\n",
      "893\n",
      "894\n",
      "895\n",
      "896\n",
      "897\n",
      "898\n",
      "899\n",
      "900\n",
      "901\n",
      "902\n",
      "903\n",
      "904\n",
      "905\n",
      "906\n",
      "907\n",
      "908\n",
      "909\n",
      "910\n",
      "911\n",
      "912\n",
      "913\n",
      "914\n",
      "915\n",
      "916\n",
      "917\n",
      "918\n",
      "919\n",
      "920\n",
      "921\n",
      "922\n",
      "923\n",
      "924\n",
      "925\n",
      "926\n",
      "927\n",
      "928\n",
      "929\n",
      "930\n",
      "931\n",
      "932\n",
      "933\n",
      "934\n",
      "935\n",
      "936\n",
      "937\n",
      "938\n",
      "939\n",
      "940\n",
      "941\n",
      "942\n",
      "943\n",
      "944\n",
      "945\n",
      "946\n",
      "947\n",
      "948\n",
      "949\n",
      "950\n",
      "951\n",
      "952\n",
      "953\n",
      "954\n",
      "955\n",
      "956\n",
      "957\n",
      "958\n",
      "959\n",
      "960\n",
      "961\n",
      "962\n",
      "963\n",
      "964\n",
      "965\n",
      "966\n",
      "967\n",
      "968\n",
      "969\n",
      "970\n",
      "971\n",
      "972\n",
      "973\n",
      "974\n",
      "975\n",
      "976\n",
      "977\n",
      "978\n",
      "979\n",
      "980\n",
      "981\n",
      "982\n",
      "983\n",
      "984\n",
      "985\n",
      "986\n",
      "987\n",
      "988\n",
      "989\n",
      "990\n",
      "991\n",
      "992\n",
      "993\n",
      "994\n",
      "995\n",
      "996\n",
      "997\n",
      "998\n",
      "999\n"
     ]
    }
   ],
   "source": [
    "for i in range(size_of_vec):\n",
    "    print(i)"
   ]
  },
  {
   "cell_type": "code",
   "execution_count": 5,
   "id": "19ba02e0",
   "metadata": {
    "scrolled": false
   },
   "outputs": [
    {
     "data": {
      "text/plain": [
       "[1,\n",
       " 3,\n",
       " 5,\n",
       " 7,\n",
       " 9,\n",
       " 11,\n",
       " 13,\n",
       " 15,\n",
       " 17,\n",
       " 19,\n",
       " 21,\n",
       " 23,\n",
       " 25,\n",
       " 27,\n",
       " 29,\n",
       " 31,\n",
       " 33,\n",
       " 35,\n",
       " 37,\n",
       " 39,\n",
       " 41,\n",
       " 43,\n",
       " 45,\n",
       " 47,\n",
       " 49,\n",
       " 51,\n",
       " 53,\n",
       " 55,\n",
       " 57,\n",
       " 59,\n",
       " 61,\n",
       " 63,\n",
       " 65,\n",
       " 67,\n",
       " 69,\n",
       " 71,\n",
       " 73,\n",
       " 75,\n",
       " 77,\n",
       " 79,\n",
       " 81,\n",
       " 83,\n",
       " 85,\n",
       " 87,\n",
       " 89,\n",
       " 91,\n",
       " 93,\n",
       " 95,\n",
       " 97,\n",
       " 99,\n",
       " 101,\n",
       " 103,\n",
       " 105,\n",
       " 107,\n",
       " 109,\n",
       " 111,\n",
       " 113,\n",
       " 115,\n",
       " 117,\n",
       " 119,\n",
       " 121,\n",
       " 123,\n",
       " 125,\n",
       " 127,\n",
       " 129,\n",
       " 131,\n",
       " 133,\n",
       " 135,\n",
       " 137,\n",
       " 139,\n",
       " 141,\n",
       " 143,\n",
       " 145,\n",
       " 147,\n",
       " 149,\n",
       " 151,\n",
       " 153,\n",
       " 155,\n",
       " 157,\n",
       " 159,\n",
       " 161,\n",
       " 163,\n",
       " 165,\n",
       " 167,\n",
       " 169,\n",
       " 171,\n",
       " 173,\n",
       " 175,\n",
       " 177,\n",
       " 179,\n",
       " 181,\n",
       " 183,\n",
       " 185,\n",
       " 187,\n",
       " 189,\n",
       " 191,\n",
       " 193,\n",
       " 195,\n",
       " 197,\n",
       " 199,\n",
       " 201,\n",
       " 203,\n",
       " 205,\n",
       " 207,\n",
       " 209,\n",
       " 211,\n",
       " 213,\n",
       " 215,\n",
       " 217,\n",
       " 219,\n",
       " 221,\n",
       " 223,\n",
       " 225,\n",
       " 227,\n",
       " 229,\n",
       " 231,\n",
       " 233,\n",
       " 235,\n",
       " 237,\n",
       " 239,\n",
       " 241,\n",
       " 243,\n",
       " 245,\n",
       " 247,\n",
       " 249,\n",
       " 251,\n",
       " 253,\n",
       " 255,\n",
       " 257,\n",
       " 259,\n",
       " 261,\n",
       " 263,\n",
       " 265,\n",
       " 267,\n",
       " 269,\n",
       " 271,\n",
       " 273,\n",
       " 275,\n",
       " 277,\n",
       " 279,\n",
       " 281,\n",
       " 283,\n",
       " 285,\n",
       " 287,\n",
       " 289,\n",
       " 291,\n",
       " 293,\n",
       " 295,\n",
       " 297,\n",
       " 299,\n",
       " 301,\n",
       " 303,\n",
       " 305,\n",
       " 307,\n",
       " 309,\n",
       " 311,\n",
       " 313,\n",
       " 315,\n",
       " 317,\n",
       " 319,\n",
       " 321,\n",
       " 323,\n",
       " 325,\n",
       " 327,\n",
       " 329,\n",
       " 331,\n",
       " 333,\n",
       " 335,\n",
       " 337,\n",
       " 339,\n",
       " 341,\n",
       " 343,\n",
       " 345,\n",
       " 347,\n",
       " 349,\n",
       " 351,\n",
       " 353,\n",
       " 355,\n",
       " 357,\n",
       " 359,\n",
       " 361,\n",
       " 363,\n",
       " 365,\n",
       " 367,\n",
       " 369,\n",
       " 371,\n",
       " 373,\n",
       " 375,\n",
       " 377,\n",
       " 379,\n",
       " 381,\n",
       " 383,\n",
       " 385,\n",
       " 387,\n",
       " 389,\n",
       " 391,\n",
       " 393,\n",
       " 395,\n",
       " 397,\n",
       " 399,\n",
       " 401,\n",
       " 403,\n",
       " 405,\n",
       " 407,\n",
       " 409,\n",
       " 411,\n",
       " 413,\n",
       " 415,\n",
       " 417,\n",
       " 419,\n",
       " 421,\n",
       " 423,\n",
       " 425,\n",
       " 427,\n",
       " 429,\n",
       " 431,\n",
       " 433,\n",
       " 435,\n",
       " 437,\n",
       " 439,\n",
       " 441,\n",
       " 443,\n",
       " 445,\n",
       " 447,\n",
       " 449,\n",
       " 451,\n",
       " 453,\n",
       " 455,\n",
       " 457,\n",
       " 459,\n",
       " 461,\n",
       " 463,\n",
       " 465,\n",
       " 467,\n",
       " 469,\n",
       " 471,\n",
       " 473,\n",
       " 475,\n",
       " 477,\n",
       " 479,\n",
       " 481,\n",
       " 483,\n",
       " 485,\n",
       " 487,\n",
       " 489,\n",
       " 491,\n",
       " 493,\n",
       " 495,\n",
       " 497,\n",
       " 499,\n",
       " 501,\n",
       " 503,\n",
       " 505,\n",
       " 507,\n",
       " 509,\n",
       " 511,\n",
       " 513,\n",
       " 515,\n",
       " 517,\n",
       " 519,\n",
       " 521,\n",
       " 523,\n",
       " 525,\n",
       " 527,\n",
       " 529,\n",
       " 531,\n",
       " 533,\n",
       " 535,\n",
       " 537,\n",
       " 539,\n",
       " 541,\n",
       " 543,\n",
       " 545,\n",
       " 547,\n",
       " 549,\n",
       " 551,\n",
       " 553,\n",
       " 555,\n",
       " 557,\n",
       " 559,\n",
       " 561,\n",
       " 563,\n",
       " 565,\n",
       " 567,\n",
       " 569,\n",
       " 571,\n",
       " 573,\n",
       " 575,\n",
       " 577,\n",
       " 579,\n",
       " 581,\n",
       " 583,\n",
       " 585,\n",
       " 587,\n",
       " 589,\n",
       " 591,\n",
       " 593,\n",
       " 595,\n",
       " 597,\n",
       " 599,\n",
       " 601,\n",
       " 603,\n",
       " 605,\n",
       " 607,\n",
       " 609,\n",
       " 611,\n",
       " 613,\n",
       " 615,\n",
       " 617,\n",
       " 619,\n",
       " 621,\n",
       " 623,\n",
       " 625,\n",
       " 627,\n",
       " 629,\n",
       " 631,\n",
       " 633,\n",
       " 635,\n",
       " 637,\n",
       " 639,\n",
       " 641,\n",
       " 643,\n",
       " 645,\n",
       " 647,\n",
       " 649,\n",
       " 651,\n",
       " 653,\n",
       " 655,\n",
       " 657,\n",
       " 659,\n",
       " 661,\n",
       " 663,\n",
       " 665,\n",
       " 667,\n",
       " 669,\n",
       " 671,\n",
       " 673,\n",
       " 675,\n",
       " 677,\n",
       " 679,\n",
       " 681,\n",
       " 683,\n",
       " 685,\n",
       " 687,\n",
       " 689,\n",
       " 691,\n",
       " 693,\n",
       " 695,\n",
       " 697,\n",
       " 699,\n",
       " 701,\n",
       " 703,\n",
       " 705,\n",
       " 707,\n",
       " 709,\n",
       " 711,\n",
       " 713,\n",
       " 715,\n",
       " 717,\n",
       " 719,\n",
       " 721,\n",
       " 723,\n",
       " 725,\n",
       " 727,\n",
       " 729,\n",
       " 731,\n",
       " 733,\n",
       " 735,\n",
       " 737,\n",
       " 739,\n",
       " 741,\n",
       " 743,\n",
       " 745,\n",
       " 747,\n",
       " 749,\n",
       " 751,\n",
       " 753,\n",
       " 755,\n",
       " 757,\n",
       " 759,\n",
       " 761,\n",
       " 763,\n",
       " 765,\n",
       " 767,\n",
       " 769,\n",
       " 771,\n",
       " 773,\n",
       " 775,\n",
       " 777,\n",
       " 779,\n",
       " 781,\n",
       " 783,\n",
       " 785,\n",
       " 787,\n",
       " 789,\n",
       " 791,\n",
       " 793,\n",
       " 795,\n",
       " 797,\n",
       " 799,\n",
       " 801,\n",
       " 803,\n",
       " 805,\n",
       " 807,\n",
       " 809,\n",
       " 811,\n",
       " 813,\n",
       " 815,\n",
       " 817,\n",
       " 819,\n",
       " 821,\n",
       " 823,\n",
       " 825,\n",
       " 827,\n",
       " 829,\n",
       " 831,\n",
       " 833,\n",
       " 835,\n",
       " 837,\n",
       " 839,\n",
       " 841,\n",
       " 843,\n",
       " 845,\n",
       " 847,\n",
       " 849,\n",
       " 851,\n",
       " 853,\n",
       " 855,\n",
       " 857,\n",
       " 859,\n",
       " 861,\n",
       " 863,\n",
       " 865,\n",
       " 867,\n",
       " 869,\n",
       " 871,\n",
       " 873,\n",
       " 875,\n",
       " 877,\n",
       " 879,\n",
       " 881,\n",
       " 883,\n",
       " 885,\n",
       " 887,\n",
       " 889,\n",
       " 891,\n",
       " 893,\n",
       " 895,\n",
       " 897,\n",
       " 899,\n",
       " 901,\n",
       " 903,\n",
       " 905,\n",
       " 907,\n",
       " 909,\n",
       " 911,\n",
       " 913,\n",
       " 915,\n",
       " 917,\n",
       " 919,\n",
       " 921,\n",
       " 923,\n",
       " 925,\n",
       " 927,\n",
       " 929,\n",
       " 931,\n",
       " 933,\n",
       " 935,\n",
       " 937,\n",
       " 939,\n",
       " 941,\n",
       " 943,\n",
       " 945,\n",
       " 947,\n",
       " 949,\n",
       " 951,\n",
       " 953,\n",
       " 955,\n",
       " 957,\n",
       " 959,\n",
       " 961,\n",
       " 963,\n",
       " 965,\n",
       " 967,\n",
       " 969,\n",
       " 971,\n",
       " 973,\n",
       " 975,\n",
       " 977,\n",
       " 979,\n",
       " 981,\n",
       " 983,\n",
       " 985,\n",
       " 987,\n",
       " 989,\n",
       " 991,\n",
       " 993,\n",
       " 995,\n",
       " 997,\n",
       " 999]"
      ]
     },
     "execution_count": 5,
     "metadata": {},
     "output_type": "execute_result"
    }
   ],
   "source": [
    "[i for i in range(size_of_vec) if i % 2 !=0]"
   ]
  },
  {
   "cell_type": "code",
   "execution_count": 6,
   "id": "fe187104",
   "metadata": {},
   "outputs": [
    {
     "data": {
      "text/plain": [
       "array([  0,   1,   2,   3,   4,   5,   6,   7,   8,   9,  10,  11,  12,\n",
       "        13,  14,  15,  16,  17,  18,  19,  20,  21,  22,  23,  24,  25,\n",
       "        26,  27,  28,  29,  30,  31,  32,  33,  34,  35,  36,  37,  38,\n",
       "        39,  40,  41,  42,  43,  44,  45,  46,  47,  48,  49,  50,  51,\n",
       "        52,  53,  54,  55,  56,  57,  58,  59,  60,  61,  62,  63,  64,\n",
       "        65,  66,  67,  68,  69,  70,  71,  72,  73,  74,  75,  76,  77,\n",
       "        78,  79,  80,  81,  82,  83,  84,  85,  86,  87,  88,  89,  90,\n",
       "        91,  92,  93,  94,  95,  96,  97,  98,  99, 100, 101, 102, 103,\n",
       "       104, 105, 106, 107, 108, 109, 110, 111, 112, 113, 114, 115, 116,\n",
       "       117, 118, 119, 120, 121, 122, 123, 124, 125, 126, 127, 128, 129,\n",
       "       130, 131, 132, 133, 134, 135, 136, 137, 138, 139, 140, 141, 142,\n",
       "       143, 144, 145, 146, 147, 148, 149, 150, 151, 152, 153, 154, 155,\n",
       "       156, 157, 158, 159, 160, 161, 162, 163, 164, 165, 166, 167, 168,\n",
       "       169, 170, 171, 172, 173, 174, 175, 176, 177, 178, 179, 180, 181,\n",
       "       182, 183, 184, 185, 186, 187, 188, 189, 190, 191, 192, 193, 194,\n",
       "       195, 196, 197, 198, 199, 200, 201, 202, 203, 204, 205, 206, 207,\n",
       "       208, 209, 210, 211, 212, 213, 214, 215, 216, 217, 218, 219, 220,\n",
       "       221, 222, 223, 224, 225, 226, 227, 228, 229, 230, 231, 232, 233,\n",
       "       234, 235, 236, 237, 238, 239, 240, 241, 242, 243, 244, 245, 246,\n",
       "       247, 248, 249, 250, 251, 252, 253, 254, 255, 256, 257, 258, 259,\n",
       "       260, 261, 262, 263, 264, 265, 266, 267, 268, 269, 270, 271, 272,\n",
       "       273, 274, 275, 276, 277, 278, 279, 280, 281, 282, 283, 284, 285,\n",
       "       286, 287, 288, 289, 290, 291, 292, 293, 294, 295, 296, 297, 298,\n",
       "       299, 300, 301, 302, 303, 304, 305, 306, 307, 308, 309, 310, 311,\n",
       "       312, 313, 314, 315, 316, 317, 318, 319, 320, 321, 322, 323, 324,\n",
       "       325, 326, 327, 328, 329, 330, 331, 332, 333, 334, 335, 336, 337,\n",
       "       338, 339, 340, 341, 342, 343, 344, 345, 346, 347, 348, 349, 350,\n",
       "       351, 352, 353, 354, 355, 356, 357, 358, 359, 360, 361, 362, 363,\n",
       "       364, 365, 366, 367, 368, 369, 370, 371, 372, 373, 374, 375, 376,\n",
       "       377, 378, 379, 380, 381, 382, 383, 384, 385, 386, 387, 388, 389,\n",
       "       390, 391, 392, 393, 394, 395, 396, 397, 398, 399, 400, 401, 402,\n",
       "       403, 404, 405, 406, 407, 408, 409, 410, 411, 412, 413, 414, 415,\n",
       "       416, 417, 418, 419, 420, 421, 422, 423, 424, 425, 426, 427, 428,\n",
       "       429, 430, 431, 432, 433, 434, 435, 436, 437, 438, 439, 440, 441,\n",
       "       442, 443, 444, 445, 446, 447, 448, 449, 450, 451, 452, 453, 454,\n",
       "       455, 456, 457, 458, 459, 460, 461, 462, 463, 464, 465, 466, 467,\n",
       "       468, 469, 470, 471, 472, 473, 474, 475, 476, 477, 478, 479, 480,\n",
       "       481, 482, 483, 484, 485, 486, 487, 488, 489, 490, 491, 492, 493,\n",
       "       494, 495, 496, 497, 498, 499, 500, 501, 502, 503, 504, 505, 506,\n",
       "       507, 508, 509, 510, 511, 512, 513, 514, 515, 516, 517, 518, 519,\n",
       "       520, 521, 522, 523, 524, 525, 526, 527, 528, 529, 530, 531, 532,\n",
       "       533, 534, 535, 536, 537, 538, 539, 540, 541, 542, 543, 544, 545,\n",
       "       546, 547, 548, 549, 550, 551, 552, 553, 554, 555, 556, 557, 558,\n",
       "       559, 560, 561, 562, 563, 564, 565, 566, 567, 568, 569, 570, 571,\n",
       "       572, 573, 574, 575, 576, 577, 578, 579, 580, 581, 582, 583, 584,\n",
       "       585, 586, 587, 588, 589, 590, 591, 592, 593, 594, 595, 596, 597,\n",
       "       598, 599, 600, 601, 602, 603, 604, 605, 606, 607, 608, 609, 610,\n",
       "       611, 612, 613, 614, 615, 616, 617, 618, 619, 620, 621, 622, 623,\n",
       "       624, 625, 626, 627, 628, 629, 630, 631, 632, 633, 634, 635, 636,\n",
       "       637, 638, 639, 640, 641, 642, 643, 644, 645, 646, 647, 648, 649,\n",
       "       650, 651, 652, 653, 654, 655, 656, 657, 658, 659, 660, 661, 662,\n",
       "       663, 664, 665, 666, 667, 668, 669, 670, 671, 672, 673, 674, 675,\n",
       "       676, 677, 678, 679, 680, 681, 682, 683, 684, 685, 686, 687, 688,\n",
       "       689, 690, 691, 692, 693, 694, 695, 696, 697, 698, 699, 700, 701,\n",
       "       702, 703, 704, 705, 706, 707, 708, 709, 710, 711, 712, 713, 714,\n",
       "       715, 716, 717, 718, 719, 720, 721, 722, 723, 724, 725, 726, 727,\n",
       "       728, 729, 730, 731, 732, 733, 734, 735, 736, 737, 738, 739, 740,\n",
       "       741, 742, 743, 744, 745, 746, 747, 748, 749, 750, 751, 752, 753,\n",
       "       754, 755, 756, 757, 758, 759, 760, 761, 762, 763, 764, 765, 766,\n",
       "       767, 768, 769, 770, 771, 772, 773, 774, 775, 776, 777, 778, 779,\n",
       "       780, 781, 782, 783, 784, 785, 786, 787, 788, 789, 790, 791, 792,\n",
       "       793, 794, 795, 796, 797, 798, 799, 800, 801, 802, 803, 804, 805,\n",
       "       806, 807, 808, 809, 810, 811, 812, 813, 814, 815, 816, 817, 818,\n",
       "       819, 820, 821, 822, 823, 824, 825, 826, 827, 828, 829, 830, 831,\n",
       "       832, 833, 834, 835, 836, 837, 838, 839, 840, 841, 842, 843, 844,\n",
       "       845, 846, 847, 848, 849, 850, 851, 852, 853, 854, 855, 856, 857,\n",
       "       858, 859, 860, 861, 862, 863, 864, 865, 866, 867, 868, 869, 870,\n",
       "       871, 872, 873, 874, 875, 876, 877, 878, 879, 880, 881, 882, 883,\n",
       "       884, 885, 886, 887, 888, 889, 890, 891, 892, 893, 894, 895, 896,\n",
       "       897, 898, 899, 900, 901, 902, 903, 904, 905, 906, 907, 908, 909,\n",
       "       910, 911, 912, 913, 914, 915, 916, 917, 918, 919, 920, 921, 922,\n",
       "       923, 924, 925, 926, 927, 928, 929, 930, 931, 932, 933, 934, 935,\n",
       "       936, 937, 938, 939, 940, 941, 942, 943, 944, 945, 946, 947, 948,\n",
       "       949, 950, 951, 952, 953, 954, 955, 956, 957, 958, 959, 960, 961,\n",
       "       962, 963, 964, 965, 966, 967, 968, 969, 970, 971, 972, 973, 974,\n",
       "       975, 976, 977, 978, 979, 980, 981, 982, 983, 984, 985, 986, 987,\n",
       "       988, 989, 990, 991, 992, 993, 994, 995, 996, 997, 998, 999])"
      ]
     },
     "execution_count": 6,
     "metadata": {},
     "output_type": "execute_result"
    }
   ],
   "source": [
    "np.arange(size_of_vec)"
   ]
  },
  {
   "cell_type": "code",
   "execution_count": null,
   "id": "6ef8e3e3",
   "metadata": {},
   "outputs": [],
   "source": []
  },
  {
   "cell_type": "code",
   "execution_count": null,
   "id": "b25e15dd",
   "metadata": {},
   "outputs": [],
   "source": []
  },
  {
   "cell_type": "code",
   "execution_count": 7,
   "id": "3cbc4271",
   "metadata": {},
   "outputs": [
    {
     "data": {
      "text/plain": [
       "range(0, 1000)"
      ]
     },
     "execution_count": 7,
     "metadata": {},
     "output_type": "execute_result"
    }
   ],
   "source": [
    "X_list"
   ]
  },
  {
   "cell_type": "code",
   "execution_count": 8,
   "id": "76f0021d",
   "metadata": {},
   "outputs": [
    {
     "data": {
      "text/plain": [
       "range(0, 1000)"
      ]
     },
     "execution_count": 8,
     "metadata": {},
     "output_type": "execute_result"
    }
   ],
   "source": [
    "Y_list"
   ]
  },
  {
   "cell_type": "code",
   "execution_count": 10,
   "id": "88b4b263",
   "metadata": {},
   "outputs": [
    {
     "name": "stdout",
     "output_type": "stream",
     "text": [
      "pure python version 0.008914700010791421\n",
      "numpy version 3.2999960239976645e-06\n"
     ]
    }
   ],
   "source": [
    "def pure_python_version():\n",
    "    Z = [X_list[i] + Y_list[i] for i in range(len(X_list))]\n",
    "    \n",
    "def numpy_version():\n",
    "    Z = X + Y\n",
    "    \n",
    "timer_obj1 = Timer(\"pure_python_version()\" ,\"from __main__ import pure_python_version\")\n",
    "timer_obj2 = Timer(\"numpy_version\", \"from __main__ import numpy_version\") \n",
    "\n",
    "print(\"pure python version\", timer_obj1.timeit(10))\n",
    "print(\"numpy version\", timer_obj2.timeit(10))"
   ]
  },
  {
   "cell_type": "markdown",
   "id": "e219c7db",
   "metadata": {},
   "source": [
    "# CREATE NUMPY ARRAY FROM PYTHON LIST"
   ]
  },
  {
   "cell_type": "code",
   "execution_count": 11,
   "id": "7ed2b2b1",
   "metadata": {},
   "outputs": [
    {
     "name": "stdout",
     "output_type": "stream",
     "text": [
      "<class 'list'>\n",
      "[165 170 171 172 180 189 178]\n",
      "<class 'numpy.ndarray'>\n"
     ]
    }
   ],
   "source": [
    "heights = [165,170,171,172,180,189,178]\n",
    "print(type(heights))\n",
    "heights_np = np.array(heights)\n",
    "print(heights_np)\n",
    "print(type(heights_np))"
   ]
  },
  {
   "cell_type": "code",
   "execution_count": 12,
   "id": "5a9e3ee5",
   "metadata": {},
   "outputs": [
    {
     "name": "stdout",
     "output_type": "stream",
     "text": [
      "int32\n",
      "weights [[50 45 56 78]\n",
      " [78 89 59 90]\n",
      " [89 78 69 70]\n",
      " [67 59 89 70]\n",
      " [90 89 80 84]\n",
      " [89 59 90 78]]\n"
     ]
    },
    {
     "data": {
      "text/plain": [
       "array([[[50],\n",
       "        [45],\n",
       "        [56],\n",
       "        [78]],\n",
       "\n",
       "       [[78],\n",
       "        [89],\n",
       "        [59],\n",
       "        [90]],\n",
       "\n",
       "       [[89],\n",
       "        [78],\n",
       "        [69],\n",
       "        [70]],\n",
       "\n",
       "       [[67],\n",
       "        [59],\n",
       "        [89],\n",
       "        [70]],\n",
       "\n",
       "       [[90],\n",
       "        [89],\n",
       "        [80],\n",
       "        [84]],\n",
       "\n",
       "       [[89],\n",
       "        [59],\n",
       "        [90],\n",
       "        [78]]])"
      ]
     },
     "execution_count": 12,
     "metadata": {},
     "output_type": "execute_result"
    }
   ],
   "source": [
    "weights = np.array([[50,45,56,78],[78,89,59,90],[89,78,69,70],\n",
    "                   [67,59,89,70],[90,89,80,84],[89,59,90,78]])\n",
    "\n",
    "print(weights.dtype)\n",
    "print(\"weights\",weights)\n",
    "weights_rg =weights.reshape((6,4,1))\n",
    "weights_rg\n",
    "                   "
   ]
  },
  {
   "cell_type": "code",
   "execution_count": 13,
   "id": "c5ed76c7",
   "metadata": {},
   "outputs": [
    {
     "name": "stdout",
     "output_type": "stream",
     "text": [
      "['a' 'b' 'c' 'd' '34' '56']\n"
     ]
    },
    {
     "data": {
      "text/plain": [
       "dtype('<U11')"
      ]
     },
     "execution_count": 13,
     "metadata": {},
     "output_type": "execute_result"
    }
   ],
   "source": [
    "strings = np.array([\"a\",\"b\",\"c\",\"d\",34,56])\n",
    "print(strings)\n",
    "strings.dtype"
   ]
  },
  {
   "cell_type": "code",
   "execution_count": 15,
   "id": "f68802ea",
   "metadata": {},
   "outputs": [
    {
     "data": {
      "text/plain": [
       "['string', 1, 2, 3.5]"
      ]
     },
     "execution_count": 15,
     "metadata": {},
     "output_type": "execute_result"
    }
   ],
   "source": [
    "python_List = [\"string\", 1,2,3.5]\n",
    "python_List"
   ]
  },
  {
   "cell_type": "markdown",
   "id": "6594dcb9",
   "metadata": {},
   "source": [
    "# 3,ATTRIBUTES OF NDARRY OBJECT"
   ]
  },
  {
   "cell_type": "code",
   "execution_count": 16,
   "id": "7e21b082",
   "metadata": {},
   "outputs": [
    {
     "name": "stdout",
     "output_type": "stream",
     "text": [
      "dimension 2\n",
      "shape (6, 4)\n",
      "size 24\n",
      "dtype int32\n",
      "strides (16, 4)\n"
     ]
    }
   ],
   "source": [
    "print(\"dimension\", weights.ndim)\n",
    "print(\"shape\", weights.shape)\n",
    "print(\"size\", weights.size)\n",
    "print(\"dtype\", weights.dtype)\n",
    "print(\"strides\", weights.strides)"
   ]
  },
  {
   "cell_type": "code",
   "execution_count": 17,
   "id": "8a8f47a6",
   "metadata": {},
   "outputs": [
    {
     "data": {
      "text/plain": [
       "2"
      ]
     },
     "execution_count": 17,
     "metadata": {},
     "output_type": "execute_result"
    }
   ],
   "source": [
    "weights.ndim"
   ]
  },
  {
   "cell_type": "code",
   "execution_count": 18,
   "id": "c4cc2ba0",
   "metadata": {},
   "outputs": [
    {
     "data": {
      "text/plain": [
       "array([[[[50]],\n",
       "\n",
       "        [[45]],\n",
       "\n",
       "        [[56]],\n",
       "\n",
       "        [[78]]],\n",
       "\n",
       "\n",
       "       [[[78]],\n",
       "\n",
       "        [[89]],\n",
       "\n",
       "        [[59]],\n",
       "\n",
       "        [[90]]],\n",
       "\n",
       "\n",
       "       [[[89]],\n",
       "\n",
       "        [[78]],\n",
       "\n",
       "        [[69]],\n",
       "\n",
       "        [[70]]],\n",
       "\n",
       "\n",
       "       [[[67]],\n",
       "\n",
       "        [[59]],\n",
       "\n",
       "        [[89]],\n",
       "\n",
       "        [[70]]],\n",
       "\n",
       "\n",
       "       [[[90]],\n",
       "\n",
       "        [[89]],\n",
       "\n",
       "        [[80]],\n",
       "\n",
       "        [[84]]],\n",
       "\n",
       "\n",
       "       [[[89]],\n",
       "\n",
       "        [[59]],\n",
       "\n",
       "        [[90]],\n",
       "\n",
       "        [[78]]]])"
      ]
     },
     "execution_count": 18,
     "metadata": {},
     "output_type": "execute_result"
    }
   ],
   "source": [
    "weights = weights.reshape((6,4,1,1))\n",
    "weights"
   ]
  },
  {
   "cell_type": "markdown",
   "id": "b0b1e846",
   "metadata": {},
   "source": [
    "# miscellaneous numpy arrays\n",
    "1) np.zeros()"
   ]
  },
  {
   "cell_type": "code",
   "execution_count": 20,
   "id": "299a6704",
   "metadata": {},
   "outputs": [
    {
     "name": "stdout",
     "output_type": "stream",
     "text": [
      "[[0 0 0]\n",
      " [0 0 0]]\n"
     ]
    }
   ],
   "source": [
    "x = np.zeros(shape=(2,3), dtype = \"int32\", order = \"C\")\n",
    "print(x)"
   ]
  },
  {
   "cell_type": "markdown",
   "id": "a2b5d680",
   "metadata": {},
   "source": [
    "# 2, np.arrange()"
   ]
  },
  {
   "cell_type": "code",
   "execution_count": 21,
   "id": "c4240ab8",
   "metadata": {},
   "outputs": [
    {
     "data": {
      "text/plain": [
       "array([100, 200, 300, 400, 500, 600, 700, 800, 900])"
      ]
     },
     "execution_count": 21,
     "metadata": {},
     "output_type": "execute_result"
    }
   ],
   "source": [
    "x = np.arange(start=100, stop=1000, step=100, dtype=\"int32\")\n",
    "x"
   ]
  },
  {
   "cell_type": "code",
   "execution_count": 22,
   "id": "5ea459ec",
   "metadata": {},
   "outputs": [
    {
     "name": "stdout",
     "output_type": "stream",
     "text": [
      "[  0   1   2   3   4   5   6   7   8   9  10  11  12  13  14  15  16  17\n",
      "  18  19  20  21  22  23  24  25  26  27  28  29  30  31  32  33  34  35\n",
      "  36  37  38  39  40  41  42  43  44  45  46  47  48  49  50  51  52  53\n",
      "  54  55  56  57  58  59  60  61  62  63  64  65  66  67  68  69  70  71\n",
      "  72  73  74  75  76  77  78  79  80  81  82  83  84  85  86  87  88  89\n",
      "  90  91  92  93  94  95  96  97  98  99 100 101 102 103 104 105 106 107\n",
      " 108 109 110 111 112 113 114 115 116 117 118 119 120 121 122 123 124 125\n",
      " 126 127 128 129 130 131 132 133 134 135 136 137 138 139 140 141 142 143\n",
      " 144 145 146 147 148 149]\n"
     ]
    }
   ],
   "source": [
    "y= np.arange(150)\n",
    "print(y)"
   ]
  },
  {
   "cell_type": "markdown",
   "id": "dc05c51f",
   "metadata": {},
   "source": [
    "# 3,np.linspace()"
   ]
  },
  {
   "cell_type": "code",
   "execution_count": 24,
   "id": "c4b729bb",
   "metadata": {},
   "outputs": [
    {
     "data": {
      "text/plain": [
       "array([10, 10, 11, 12, 12, 13, 14, 14, 15, 16, 16, 17, 18, 18, 19, 20, 21,\n",
       "       21, 22, 23, 23, 24, 25, 25, 26, 27, 27, 28, 29, 30])"
      ]
     },
     "execution_count": 24,
     "metadata": {},
     "output_type": "execute_result"
    }
   ],
   "source": [
    "np.linspace(10,30,30, dtype='int')"
   ]
  },
  {
   "cell_type": "code",
   "execution_count": 25,
   "id": "35e7e025",
   "metadata": {},
   "outputs": [],
   "source": [
    "x_lin=np.linspace(start=10, stop=50, num=30)"
   ]
  },
  {
   "cell_type": "code",
   "execution_count": 26,
   "id": "d5b6b54e",
   "metadata": {},
   "outputs": [
    {
     "data": {
      "text/plain": [
       "array([10.        , 11.37931034, 12.75862069, 14.13793103, 15.51724138,\n",
       "       16.89655172, 18.27586207, 19.65517241, 21.03448276, 22.4137931 ,\n",
       "       23.79310345, 25.17241379, 26.55172414, 27.93103448, 29.31034483,\n",
       "       30.68965517, 32.06896552, 33.44827586, 34.82758621, 36.20689655,\n",
       "       37.5862069 , 38.96551724, 40.34482759, 41.72413793, 43.10344828,\n",
       "       44.48275862, 45.86206897, 47.24137931, 48.62068966, 50.        ])"
      ]
     },
     "execution_count": 26,
     "metadata": {},
     "output_type": "execute_result"
    }
   ],
   "source": [
    "x_lin"
   ]
  },
  {
   "cell_type": "markdown",
   "id": "1872860e",
   "metadata": {},
   "source": [
    "# np.full()"
   ]
  },
  {
   "cell_type": "code",
   "execution_count": 27,
   "id": "32fc0d98",
   "metadata": {},
   "outputs": [
    {
     "data": {
      "text/plain": [
       "array([[4, 4, 4, 4, 4, 4],\n",
       "       [4, 4, 4, 4, 4, 4],\n",
       "       [4, 4, 4, 4, 4, 4],\n",
       "       [4, 4, 4, 4, 4, 4],\n",
       "       [4, 4, 4, 4, 4, 4]])"
      ]
     },
     "execution_count": 27,
     "metadata": {},
     "output_type": "execute_result"
    }
   ],
   "source": [
    "np.full((5,6), 4)"
   ]
  },
  {
   "cell_type": "code",
   "execution_count": 1,
   "id": "98e30ac6",
   "metadata": {},
   "outputs": [
    {
     "ename": "HTTPError",
     "evalue": "HTTP Error 429: Unknown Error",
     "output_type": "error",
     "traceback": [
      "\u001b[1;31m---------------------------------------------------------------------------\u001b[0m",
      "\u001b[1;31mHTTPError\u001b[0m                                 Traceback (most recent call last)",
      "Cell \u001b[1;32mIn[1], line 6\u001b[0m\n\u001b[0;32m      3\u001b[0m \u001b[38;5;66;03m# Load the dataset\u001b[39;00m\n\u001b[0;32m      4\u001b[0m url \u001b[38;5;241m=\u001b[39m \u001b[38;5;124m\"\u001b[39m\u001b[38;5;124mhttps://i.imgur.com/AaBqRR5.png\u001b[39m\u001b[38;5;124m\"\u001b[39m\n\u001b[1;32m----> 6\u001b[0m client_0_bills \u001b[38;5;241m=\u001b[39m pd\u001b[38;5;241m.\u001b[39mread_csv(url)\n\u001b[0;32m      9\u001b[0m \u001b[38;5;66;03m# Display the first ten lines\u001b[39;00m\n\u001b[0;32m     10\u001b[0m \u001b[38;5;28mprint\u001b[39m(client_0_bills\u001b[38;5;241m.\u001b[39mhead(\u001b[38;5;241m10\u001b[39m))\n",
      "File \u001b[1;32m~\\anaconda3\\Lib\\site-packages\\pandas\\io\\parsers\\readers.py:948\u001b[0m, in \u001b[0;36mread_csv\u001b[1;34m(filepath_or_buffer, sep, delimiter, header, names, index_col, usecols, dtype, engine, converters, true_values, false_values, skipinitialspace, skiprows, skipfooter, nrows, na_values, keep_default_na, na_filter, verbose, skip_blank_lines, parse_dates, infer_datetime_format, keep_date_col, date_parser, date_format, dayfirst, cache_dates, iterator, chunksize, compression, thousands, decimal, lineterminator, quotechar, quoting, doublequote, escapechar, comment, encoding, encoding_errors, dialect, on_bad_lines, delim_whitespace, low_memory, memory_map, float_precision, storage_options, dtype_backend)\u001b[0m\n\u001b[0;32m    935\u001b[0m kwds_defaults \u001b[38;5;241m=\u001b[39m _refine_defaults_read(\n\u001b[0;32m    936\u001b[0m     dialect,\n\u001b[0;32m    937\u001b[0m     delimiter,\n\u001b[1;32m   (...)\u001b[0m\n\u001b[0;32m    944\u001b[0m     dtype_backend\u001b[38;5;241m=\u001b[39mdtype_backend,\n\u001b[0;32m    945\u001b[0m )\n\u001b[0;32m    946\u001b[0m kwds\u001b[38;5;241m.\u001b[39mupdate(kwds_defaults)\n\u001b[1;32m--> 948\u001b[0m \u001b[38;5;28;01mreturn\u001b[39;00m _read(filepath_or_buffer, kwds)\n",
      "File \u001b[1;32m~\\anaconda3\\Lib\\site-packages\\pandas\\io\\parsers\\readers.py:611\u001b[0m, in \u001b[0;36m_read\u001b[1;34m(filepath_or_buffer, kwds)\u001b[0m\n\u001b[0;32m    608\u001b[0m _validate_names(kwds\u001b[38;5;241m.\u001b[39mget(\u001b[38;5;124m\"\u001b[39m\u001b[38;5;124mnames\u001b[39m\u001b[38;5;124m\"\u001b[39m, \u001b[38;5;28;01mNone\u001b[39;00m))\n\u001b[0;32m    610\u001b[0m \u001b[38;5;66;03m# Create the parser.\u001b[39;00m\n\u001b[1;32m--> 611\u001b[0m parser \u001b[38;5;241m=\u001b[39m TextFileReader(filepath_or_buffer, \u001b[38;5;241m*\u001b[39m\u001b[38;5;241m*\u001b[39mkwds)\n\u001b[0;32m    613\u001b[0m \u001b[38;5;28;01mif\u001b[39;00m chunksize \u001b[38;5;129;01mor\u001b[39;00m iterator:\n\u001b[0;32m    614\u001b[0m     \u001b[38;5;28;01mreturn\u001b[39;00m parser\n",
      "File \u001b[1;32m~\\anaconda3\\Lib\\site-packages\\pandas\\io\\parsers\\readers.py:1448\u001b[0m, in \u001b[0;36mTextFileReader.__init__\u001b[1;34m(self, f, engine, **kwds)\u001b[0m\n\u001b[0;32m   1445\u001b[0m     \u001b[38;5;28mself\u001b[39m\u001b[38;5;241m.\u001b[39moptions[\u001b[38;5;124m\"\u001b[39m\u001b[38;5;124mhas_index_names\u001b[39m\u001b[38;5;124m\"\u001b[39m] \u001b[38;5;241m=\u001b[39m kwds[\u001b[38;5;124m\"\u001b[39m\u001b[38;5;124mhas_index_names\u001b[39m\u001b[38;5;124m\"\u001b[39m]\n\u001b[0;32m   1447\u001b[0m \u001b[38;5;28mself\u001b[39m\u001b[38;5;241m.\u001b[39mhandles: IOHandles \u001b[38;5;241m|\u001b[39m \u001b[38;5;28;01mNone\u001b[39;00m \u001b[38;5;241m=\u001b[39m \u001b[38;5;28;01mNone\u001b[39;00m\n\u001b[1;32m-> 1448\u001b[0m \u001b[38;5;28mself\u001b[39m\u001b[38;5;241m.\u001b[39m_engine \u001b[38;5;241m=\u001b[39m \u001b[38;5;28mself\u001b[39m\u001b[38;5;241m.\u001b[39m_make_engine(f, \u001b[38;5;28mself\u001b[39m\u001b[38;5;241m.\u001b[39mengine)\n",
      "File \u001b[1;32m~\\anaconda3\\Lib\\site-packages\\pandas\\io\\parsers\\readers.py:1705\u001b[0m, in \u001b[0;36mTextFileReader._make_engine\u001b[1;34m(self, f, engine)\u001b[0m\n\u001b[0;32m   1703\u001b[0m     \u001b[38;5;28;01mif\u001b[39;00m \u001b[38;5;124m\"\u001b[39m\u001b[38;5;124mb\u001b[39m\u001b[38;5;124m\"\u001b[39m \u001b[38;5;129;01mnot\u001b[39;00m \u001b[38;5;129;01min\u001b[39;00m mode:\n\u001b[0;32m   1704\u001b[0m         mode \u001b[38;5;241m+\u001b[39m\u001b[38;5;241m=\u001b[39m \u001b[38;5;124m\"\u001b[39m\u001b[38;5;124mb\u001b[39m\u001b[38;5;124m\"\u001b[39m\n\u001b[1;32m-> 1705\u001b[0m \u001b[38;5;28mself\u001b[39m\u001b[38;5;241m.\u001b[39mhandles \u001b[38;5;241m=\u001b[39m get_handle(\n\u001b[0;32m   1706\u001b[0m     f,\n\u001b[0;32m   1707\u001b[0m     mode,\n\u001b[0;32m   1708\u001b[0m     encoding\u001b[38;5;241m=\u001b[39m\u001b[38;5;28mself\u001b[39m\u001b[38;5;241m.\u001b[39moptions\u001b[38;5;241m.\u001b[39mget(\u001b[38;5;124m\"\u001b[39m\u001b[38;5;124mencoding\u001b[39m\u001b[38;5;124m\"\u001b[39m, \u001b[38;5;28;01mNone\u001b[39;00m),\n\u001b[0;32m   1709\u001b[0m     compression\u001b[38;5;241m=\u001b[39m\u001b[38;5;28mself\u001b[39m\u001b[38;5;241m.\u001b[39moptions\u001b[38;5;241m.\u001b[39mget(\u001b[38;5;124m\"\u001b[39m\u001b[38;5;124mcompression\u001b[39m\u001b[38;5;124m\"\u001b[39m, \u001b[38;5;28;01mNone\u001b[39;00m),\n\u001b[0;32m   1710\u001b[0m     memory_map\u001b[38;5;241m=\u001b[39m\u001b[38;5;28mself\u001b[39m\u001b[38;5;241m.\u001b[39moptions\u001b[38;5;241m.\u001b[39mget(\u001b[38;5;124m\"\u001b[39m\u001b[38;5;124mmemory_map\u001b[39m\u001b[38;5;124m\"\u001b[39m, \u001b[38;5;28;01mFalse\u001b[39;00m),\n\u001b[0;32m   1711\u001b[0m     is_text\u001b[38;5;241m=\u001b[39mis_text,\n\u001b[0;32m   1712\u001b[0m     errors\u001b[38;5;241m=\u001b[39m\u001b[38;5;28mself\u001b[39m\u001b[38;5;241m.\u001b[39moptions\u001b[38;5;241m.\u001b[39mget(\u001b[38;5;124m\"\u001b[39m\u001b[38;5;124mencoding_errors\u001b[39m\u001b[38;5;124m\"\u001b[39m, \u001b[38;5;124m\"\u001b[39m\u001b[38;5;124mstrict\u001b[39m\u001b[38;5;124m\"\u001b[39m),\n\u001b[0;32m   1713\u001b[0m     storage_options\u001b[38;5;241m=\u001b[39m\u001b[38;5;28mself\u001b[39m\u001b[38;5;241m.\u001b[39moptions\u001b[38;5;241m.\u001b[39mget(\u001b[38;5;124m\"\u001b[39m\u001b[38;5;124mstorage_options\u001b[39m\u001b[38;5;124m\"\u001b[39m, \u001b[38;5;28;01mNone\u001b[39;00m),\n\u001b[0;32m   1714\u001b[0m )\n\u001b[0;32m   1715\u001b[0m \u001b[38;5;28;01massert\u001b[39;00m \u001b[38;5;28mself\u001b[39m\u001b[38;5;241m.\u001b[39mhandles \u001b[38;5;129;01mis\u001b[39;00m \u001b[38;5;129;01mnot\u001b[39;00m \u001b[38;5;28;01mNone\u001b[39;00m\n\u001b[0;32m   1716\u001b[0m f \u001b[38;5;241m=\u001b[39m \u001b[38;5;28mself\u001b[39m\u001b[38;5;241m.\u001b[39mhandles\u001b[38;5;241m.\u001b[39mhandle\n",
      "File \u001b[1;32m~\\anaconda3\\Lib\\site-packages\\pandas\\io\\common.py:718\u001b[0m, in \u001b[0;36mget_handle\u001b[1;34m(path_or_buf, mode, encoding, compression, memory_map, is_text, errors, storage_options)\u001b[0m\n\u001b[0;32m    715\u001b[0m     codecs\u001b[38;5;241m.\u001b[39mlookup_error(errors)\n\u001b[0;32m    717\u001b[0m \u001b[38;5;66;03m# open URLs\u001b[39;00m\n\u001b[1;32m--> 718\u001b[0m ioargs \u001b[38;5;241m=\u001b[39m _get_filepath_or_buffer(\n\u001b[0;32m    719\u001b[0m     path_or_buf,\n\u001b[0;32m    720\u001b[0m     encoding\u001b[38;5;241m=\u001b[39mencoding,\n\u001b[0;32m    721\u001b[0m     compression\u001b[38;5;241m=\u001b[39mcompression,\n\u001b[0;32m    722\u001b[0m     mode\u001b[38;5;241m=\u001b[39mmode,\n\u001b[0;32m    723\u001b[0m     storage_options\u001b[38;5;241m=\u001b[39mstorage_options,\n\u001b[0;32m    724\u001b[0m )\n\u001b[0;32m    726\u001b[0m handle \u001b[38;5;241m=\u001b[39m ioargs\u001b[38;5;241m.\u001b[39mfilepath_or_buffer\n\u001b[0;32m    727\u001b[0m handles: \u001b[38;5;28mlist\u001b[39m[BaseBuffer]\n",
      "File \u001b[1;32m~\\anaconda3\\Lib\\site-packages\\pandas\\io\\common.py:372\u001b[0m, in \u001b[0;36m_get_filepath_or_buffer\u001b[1;34m(filepath_or_buffer, encoding, compression, mode, storage_options)\u001b[0m\n\u001b[0;32m    370\u001b[0m \u001b[38;5;66;03m# assuming storage_options is to be interpreted as headers\u001b[39;00m\n\u001b[0;32m    371\u001b[0m req_info \u001b[38;5;241m=\u001b[39m urllib\u001b[38;5;241m.\u001b[39mrequest\u001b[38;5;241m.\u001b[39mRequest(filepath_or_buffer, headers\u001b[38;5;241m=\u001b[39mstorage_options)\n\u001b[1;32m--> 372\u001b[0m \u001b[38;5;28;01mwith\u001b[39;00m urlopen(req_info) \u001b[38;5;28;01mas\u001b[39;00m req:\n\u001b[0;32m    373\u001b[0m     content_encoding \u001b[38;5;241m=\u001b[39m req\u001b[38;5;241m.\u001b[39mheaders\u001b[38;5;241m.\u001b[39mget(\u001b[38;5;124m\"\u001b[39m\u001b[38;5;124mContent-Encoding\u001b[39m\u001b[38;5;124m\"\u001b[39m, \u001b[38;5;28;01mNone\u001b[39;00m)\n\u001b[0;32m    374\u001b[0m     \u001b[38;5;28;01mif\u001b[39;00m content_encoding \u001b[38;5;241m==\u001b[39m \u001b[38;5;124m\"\u001b[39m\u001b[38;5;124mgzip\u001b[39m\u001b[38;5;124m\"\u001b[39m:\n\u001b[0;32m    375\u001b[0m         \u001b[38;5;66;03m# Override compression based on Content-Encoding header\u001b[39;00m\n",
      "File \u001b[1;32m~\\anaconda3\\Lib\\site-packages\\pandas\\io\\common.py:274\u001b[0m, in \u001b[0;36murlopen\u001b[1;34m(*args, **kwargs)\u001b[0m\n\u001b[0;32m    268\u001b[0m \u001b[38;5;250m\u001b[39m\u001b[38;5;124;03m\"\"\"\u001b[39;00m\n\u001b[0;32m    269\u001b[0m \u001b[38;5;124;03mLazy-import wrapper for stdlib urlopen, as that imports a big chunk of\u001b[39;00m\n\u001b[0;32m    270\u001b[0m \u001b[38;5;124;03mthe stdlib.\u001b[39;00m\n\u001b[0;32m    271\u001b[0m \u001b[38;5;124;03m\"\"\"\u001b[39;00m\n\u001b[0;32m    272\u001b[0m \u001b[38;5;28;01mimport\u001b[39;00m \u001b[38;5;21;01murllib\u001b[39;00m\u001b[38;5;21;01m.\u001b[39;00m\u001b[38;5;21;01mrequest\u001b[39;00m\n\u001b[1;32m--> 274\u001b[0m \u001b[38;5;28;01mreturn\u001b[39;00m urllib\u001b[38;5;241m.\u001b[39mrequest\u001b[38;5;241m.\u001b[39murlopen(\u001b[38;5;241m*\u001b[39margs, \u001b[38;5;241m*\u001b[39m\u001b[38;5;241m*\u001b[39mkwargs)\n",
      "File \u001b[1;32m~\\anaconda3\\Lib\\urllib\\request.py:216\u001b[0m, in \u001b[0;36murlopen\u001b[1;34m(url, data, timeout, cafile, capath, cadefault, context)\u001b[0m\n\u001b[0;32m    214\u001b[0m \u001b[38;5;28;01melse\u001b[39;00m:\n\u001b[0;32m    215\u001b[0m     opener \u001b[38;5;241m=\u001b[39m _opener\n\u001b[1;32m--> 216\u001b[0m \u001b[38;5;28;01mreturn\u001b[39;00m opener\u001b[38;5;241m.\u001b[39mopen(url, data, timeout)\n",
      "File \u001b[1;32m~\\anaconda3\\Lib\\urllib\\request.py:525\u001b[0m, in \u001b[0;36mOpenerDirector.open\u001b[1;34m(self, fullurl, data, timeout)\u001b[0m\n\u001b[0;32m    523\u001b[0m \u001b[38;5;28;01mfor\u001b[39;00m processor \u001b[38;5;129;01min\u001b[39;00m \u001b[38;5;28mself\u001b[39m\u001b[38;5;241m.\u001b[39mprocess_response\u001b[38;5;241m.\u001b[39mget(protocol, []):\n\u001b[0;32m    524\u001b[0m     meth \u001b[38;5;241m=\u001b[39m \u001b[38;5;28mgetattr\u001b[39m(processor, meth_name)\n\u001b[1;32m--> 525\u001b[0m     response \u001b[38;5;241m=\u001b[39m meth(req, response)\n\u001b[0;32m    527\u001b[0m \u001b[38;5;28;01mreturn\u001b[39;00m response\n",
      "File \u001b[1;32m~\\anaconda3\\Lib\\urllib\\request.py:634\u001b[0m, in \u001b[0;36mHTTPErrorProcessor.http_response\u001b[1;34m(self, request, response)\u001b[0m\n\u001b[0;32m    631\u001b[0m \u001b[38;5;66;03m# According to RFC 2616, \"2xx\" code indicates that the client's\u001b[39;00m\n\u001b[0;32m    632\u001b[0m \u001b[38;5;66;03m# request was successfully received, understood, and accepted.\u001b[39;00m\n\u001b[0;32m    633\u001b[0m \u001b[38;5;28;01mif\u001b[39;00m \u001b[38;5;129;01mnot\u001b[39;00m (\u001b[38;5;241m200\u001b[39m \u001b[38;5;241m<\u001b[39m\u001b[38;5;241m=\u001b[39m code \u001b[38;5;241m<\u001b[39m \u001b[38;5;241m300\u001b[39m):\n\u001b[1;32m--> 634\u001b[0m     response \u001b[38;5;241m=\u001b[39m \u001b[38;5;28mself\u001b[39m\u001b[38;5;241m.\u001b[39mparent\u001b[38;5;241m.\u001b[39merror(\n\u001b[0;32m    635\u001b[0m         \u001b[38;5;124m'\u001b[39m\u001b[38;5;124mhttp\u001b[39m\u001b[38;5;124m'\u001b[39m, request, response, code, msg, hdrs)\n\u001b[0;32m    637\u001b[0m \u001b[38;5;28;01mreturn\u001b[39;00m response\n",
      "File \u001b[1;32m~\\anaconda3\\Lib\\urllib\\request.py:563\u001b[0m, in \u001b[0;36mOpenerDirector.error\u001b[1;34m(self, proto, *args)\u001b[0m\n\u001b[0;32m    561\u001b[0m \u001b[38;5;28;01mif\u001b[39;00m http_err:\n\u001b[0;32m    562\u001b[0m     args \u001b[38;5;241m=\u001b[39m (\u001b[38;5;28mdict\u001b[39m, \u001b[38;5;124m'\u001b[39m\u001b[38;5;124mdefault\u001b[39m\u001b[38;5;124m'\u001b[39m, \u001b[38;5;124m'\u001b[39m\u001b[38;5;124mhttp_error_default\u001b[39m\u001b[38;5;124m'\u001b[39m) \u001b[38;5;241m+\u001b[39m orig_args\n\u001b[1;32m--> 563\u001b[0m     \u001b[38;5;28;01mreturn\u001b[39;00m \u001b[38;5;28mself\u001b[39m\u001b[38;5;241m.\u001b[39m_call_chain(\u001b[38;5;241m*\u001b[39margs)\n",
      "File \u001b[1;32m~\\anaconda3\\Lib\\urllib\\request.py:496\u001b[0m, in \u001b[0;36mOpenerDirector._call_chain\u001b[1;34m(self, chain, kind, meth_name, *args)\u001b[0m\n\u001b[0;32m    494\u001b[0m \u001b[38;5;28;01mfor\u001b[39;00m handler \u001b[38;5;129;01min\u001b[39;00m handlers:\n\u001b[0;32m    495\u001b[0m     func \u001b[38;5;241m=\u001b[39m \u001b[38;5;28mgetattr\u001b[39m(handler, meth_name)\n\u001b[1;32m--> 496\u001b[0m     result \u001b[38;5;241m=\u001b[39m func(\u001b[38;5;241m*\u001b[39margs)\n\u001b[0;32m    497\u001b[0m     \u001b[38;5;28;01mif\u001b[39;00m result \u001b[38;5;129;01mis\u001b[39;00m \u001b[38;5;129;01mnot\u001b[39;00m \u001b[38;5;28;01mNone\u001b[39;00m:\n\u001b[0;32m    498\u001b[0m         \u001b[38;5;28;01mreturn\u001b[39;00m result\n",
      "File \u001b[1;32m~\\anaconda3\\Lib\\urllib\\request.py:643\u001b[0m, in \u001b[0;36mHTTPDefaultErrorHandler.http_error_default\u001b[1;34m(self, req, fp, code, msg, hdrs)\u001b[0m\n\u001b[0;32m    642\u001b[0m \u001b[38;5;28;01mdef\u001b[39;00m \u001b[38;5;21mhttp_error_default\u001b[39m(\u001b[38;5;28mself\u001b[39m, req, fp, code, msg, hdrs):\n\u001b[1;32m--> 643\u001b[0m     \u001b[38;5;28;01mraise\u001b[39;00m HTTPError(req\u001b[38;5;241m.\u001b[39mfull_url, code, msg, hdrs, fp)\n",
      "\u001b[1;31mHTTPError\u001b[0m: HTTP Error 429: Unknown Error"
     ]
    }
   ],
   "source": []
  },
  {
   "cell_type": "markdown",
   "id": "fae989fd",
   "metadata": {},
   "source": [
    "# file handling\n",
    "python can handle tegular text files and other extensions like csv,tsv,json,and many more.we can read these files directly into our python"
   ]
  },
  {
   "cell_type": "code",
   "execution_count": 35,
   "id": "bc4b0590",
   "metadata": {},
   "outputs": [
    {
     "name": "stdout",
     "output_type": "stream",
     "text": [
      "C:\\Users\\user\\Downloads\n"
     ]
    }
   ],
   "source": [
    "cd C:\\Users\\user\\Downloads"
   ]
  },
  {
   "cell_type": "code",
   "execution_count": 36,
   "id": "37389794",
   "metadata": {},
   "outputs": [
    {
     "name": "stdout",
     "output_type": "stream",
     "text": [
      " Volume in drive C has no label.\n",
      " Volume Serial Number is 3460-9072\n",
      "\n",
      " Directory of C:\\Users\\user\\Downloads\n",
      "\n",
      "04/04/2024  10:34 AM    <DIR>          .\n",
      "04/04/2024  10:34 AM    <DIR>          ..\n",
      "01/06/2022  05:38 AM     5,281,021,952 _Getintopc.com_WIN11X64_PRO_EN_NOV_2021.iso\n",
      "09/05/2023  03:45 PM            83,469 1000_F_356598361_NWAl49mR4UQovEPvToQompJggNl6i0kvusa logo.jpg\n",
      "09/05/2023  03:32 PM            46,665 240_F_243259090_crbVsAqKF3PC2jk2eKiUwZHBPH8Q6y9Ybeach.jpg\n",
      "10/09/2023  04:37 PM           196,659 28-days-later.zip\n",
      "02/06/2024  09:47 AM            10,750 55 DRINKS (1).xlsx\n",
      "02/06/2024  09:44 AM            10,750 55 DRINKS.xlsx\n",
      "02/06/2024  09:47 AM            10,620 55 FOOD (1).xlsx\n",
      "02/06/2024  09:44 AM            10,620 55 FOOD.xlsx\n",
      "11/17/2023  10:15 AM     1,095,571,496 Anaconda3-2023.09-0-Windows-x86_64.exe\n",
      "11/21/2023  12:28 PM         5,525,576 AnyDesk (1).exe\n",
      "11/21/2023  11:52 AM         5,525,576 AnyDesk.exe\n",
      "10/09/2023  04:32 PM           147,796 bebas-neue.zip\n",
      "10/09/2023  04:39 PM            94,783 bodoni.zip\n",
      "10/09/2023  04:40 PM            11,028 broshkill.zip\n",
      "03/25/2024  04:09 PM             2,620 calculator_2.0 (1).py\n",
      "03/25/2024  03:50 PM             2,621 calculator_2.0.py\n",
      "10/09/2023  04:40 PM            67,709 charming.zip\n",
      "03/29/2024  10:22 PM            82,384 chase check.jpeg\n",
      "02/27/2024  02:12 PM             5,399 chaviva checkpoint (1).sql\n",
      "04/04/2024  10:04 AM                22 chaviva.csv\n",
      "04/04/2024  10:06 AM                23 chaviva.py\n",
      "04/04/2024  10:31 AM                72 chavy.csv\n",
      "01/14/2023  10:37 PM         1,427,176 ChromeSetup.exe\n",
      "04/04/2024  10:34 AM               155 data.csv\n",
      "02/01/2023  02:14 PM            84,705 doctor_glitch.zip\n",
      "07/19/2023  09:47 PM             3,285 download.png\n",
      "10/09/2023  04:39 PM           125,593 exploration-greatness.zip\n",
      "01/20/2023  03:06 PM        97,467,040 FigmaSetup.exe\n",
      "04/01/2024  12:50 AM           264,458 fresh check.png\n",
      "01/30/2024  12:00 PM        60,868,040 Git-2.43.0-64-bit.exe\n",
      "02/13/2024  09:59 AM           526,795 house_pricing_dataset.csv\n",
      "01/14/2023  10:56 PM         3,929,239 kmspico.zip\n",
      "03/27/2024  02:55 PM            38,013 Loan_prediction_dataset.csv\n",
      "10/09/2023  04:38 PM            48,564 memory-vintage.zip\n",
      "03/12/2024  03:10 PM         2,207,744 mysql-installer-web-community-8.0.36.0 (1).msi\n",
      "03/12/2024  03:10 PM         2,207,744 mysql-installer-web-community-8.0.36.0.msi\n",
      "03/12/2024  03:33 PM        44,032,000 mysql-workbench-community-8.0.36-winx64.msi\n",
      "11/17/2023  10:30 AM    <DIR>          New folder\n",
      "04/04/2024  09:59 AM                 0 New Text Document.txt\n",
      "04/03/2023  01:34 PM         1,744,384 NordVPNSetup (1).exe\n",
      "04/03/2023  01:33 PM         1,744,384 NordVPNSetup.exe\n",
      "03/04/2024  10:14 AM           586,730 OGpraise1111 (1).html\n",
      "03/04/2024  10:14 AM           586,730 OGpraise1111 (2).html\n",
      "03/04/2024  10:14 AM           586,730 OGpraise1111 (3).html\n",
      "03/04/2024  10:14 AM           586,730 OGpraise1111 (4).html\n",
      "03/04/2024  10:14 AM           586,730 OGpraise1111 (5).html\n",
      "03/04/2024  10:14 AM           586,730 OGpraise1111.html\n",
      "02/27/2024  04:55 PM        47,521,921 org.coursera.android_2.7.8.apk\n",
      "07/05/2023  04:11 PM         6,328,910 Passw0rd_10101_To_Open_Archive.rar\n",
      "07/05/2023  04:02 PM        31,405,502 Passw0rd_1122_To_Open_Archive.rar\n",
      "02/20/2024  12:37 PM        18,054,144 Pyhon_Programming_Introduction.ppt\n",
      "02/29/2024  11:57 AM        42,877,092 Python_All_in_One_For_Dummies_6 (1).pdf\n",
      "02/29/2024  11:57 AM        42,877,092 Python_All_in_One_For_Dummies_6.pdf\n",
      "12/15/2023  08:36 AM        26,589,696 python-3.12.1-amd64.exe\n",
      "02/29/2024  11:57 AM         6,774,691 python-basics-a-practical-introduction-to-python-3-1775093328-9781775093329_compress.pdf\n",
      "02/27/2024  09:19 AM        42,062,846 Recording 2024-02-27 092337.mp4\n",
      "02/29/2024  12:44 PM        11,096,319 Recording 2024-02-27 092337.rar\n",
      "01/07/2022  01:32 PM         1,380,408 rufus-3-17.exe\n",
      "02/19/2024  12:37 PM         1,113,007 SampleSuperstore.csv\n",
      "01/10/2024  06:01 PM            43,327 Simple Flowers Black and White Stock Vector - Illustration of abstract, background_ 3618955.jpg\n",
      "02/06/2024  09:47 AM         7,485,854 SQL_Workshop by Slidesgo (1).pptx\n",
      "02/06/2024  09:44 AM         7,485,854 SQL_Workshop by Slidesgo.pptx\n",
      "02/05/2024  11:25 AM         4,290,992 SQL2022-SSEI-Expr.exe\n",
      "02/05/2024  11:43 AM       678,289,744 SSMS-Setup-ENU.exe\n",
      "09/11/2023  02:23 PM    <DIR>          ts1506793254000\n",
      "09/08/2023  04:58 PM     3,891,428,080 ts1506793254000.zip\n",
      "09/08/2023  04:38 PM       965,694,777 ts1691191261000.zip\n",
      "02/21/2024  02:41 PM       287,895,375 Unconfirmed 726088.crdownload\n",
      "03/31/2024  11:31 PM           269,835 Untitled.png\n",
      "11/13/2023  11:59 PM        94,619,344 VSCodeUserSetup-x64-1.84.2.exe\n",
      "07/19/2023  09:48 PM            58,114 web-icon-line-on-white-background-image-for-web-presentation-logo-icon-symbol-free-vector.jpg\n",
      "07/19/2023  09:43 PM            13,638 whatsapp.webp\n",
      "02/29/2024  12:46 PM         3,593,960 winrar-x32-700.exe\n",
      "02/29/2024  12:49 PM         3,950,296 winrar-x64-700.exe\n",
      "10/09/2023  04:35 PM            81,567 youngish.zip\n",
      "03/10/2024  09:51 PM           137,032 Zoom_cm_fo42mnktZ9vvrZo4_mFqSZfi-9zhNrIffe5n2Wp8EwaPxoAosXMfqR@dHu1dVOXDbcfSg0e_k94e413ba98e9d190_.exe\n",
      "              74 File(s) 12,832,087,706 bytes\n",
      "               4 Dir(s)  328,220,753,920 bytes free\n"
     ]
    }
   ],
   "source": [
    "ls"
   ]
  },
  {
   "cell_type": "markdown",
   "id": "0561215e",
   "metadata": {},
   "source": [
    "# using the python open statement\n",
    "TO OPEN A CSV FILE"
   ]
  },
  {
   "cell_type": "code",
   "execution_count": 37,
   "id": "55f34194",
   "metadata": {},
   "outputs": [
    {
     "data": {
      "text/plain": [
       "'name,age,sex,status\\ntemitope,56,male,single\\nrichies,34,female,married\\nbode,,45,male,married with kids\\nemmanuel,40,male,single\\nchaviva,23,female,single'"
      ]
     },
     "execution_count": 37,
     "metadata": {},
     "output_type": "execute_result"
    }
   ],
   "source": [
    "open(\"data.csv\").read()  #the (data) is the name of the file"
   ]
  },
  {
   "cell_type": "code",
   "execution_count": 39,
   "id": "a1b8568a",
   "metadata": {},
   "outputs": [
    {
     "name": "stdout",
     "output_type": "stream",
     "text": [
      "['name,age,sex,status\\n', 'temitope,56,male,single\\n', 'richies,34,female,married\\n', 'bode,,45,male,married with kids\\n', 'emmanuel,40,male,single\\n', 'chaviva,23,female,single']\n"
     ]
    }
   ],
   "source": [
    "with open(\"data.csv\", mode=\"r\")as file:\n",
    "    data = file.readlines()\n",
    "    print(data)\n"
   ]
  },
  {
   "cell_type": "code",
   "execution_count": 45,
   "id": "751a846f",
   "metadata": {},
   "outputs": [],
   "source": [
    "data = open(\"data.csv\")"
   ]
  },
  {
   "cell_type": "code",
   "execution_count": 42,
   "id": "62f0001b",
   "metadata": {
    "scrolled": true
   },
   "outputs": [
    {
     "data": {
      "text/plain": [
       "['name,age,sex,status\\n',\n",
       " 'temitope,56,male,single\\n',\n",
       " 'richies,34,female,married\\n',\n",
       " 'bode,,45,male,married with kids\\n',\n",
       " 'emmanuel,40,male,single\\n',\n",
       " 'chaviva,23,female,single']"
      ]
     },
     "execution_count": 42,
     "metadata": {},
     "output_type": "execute_result"
    }
   ],
   "source": [
    "data.readlines()"
   ]
  },
  {
   "cell_type": "code",
   "execution_count": 46,
   "id": "d69e5e56",
   "metadata": {},
   "outputs": [
    {
     "data": {
      "text/plain": [
       "'name,age,sex,status\\n'"
      ]
     },
     "execution_count": 46,
     "metadata": {},
     "output_type": "execute_result"
    }
   ],
   "source": [
    "data.readline()"
   ]
  },
  {
   "cell_type": "code",
   "execution_count": 47,
   "id": "d739be8b",
   "metadata": {},
   "outputs": [
    {
     "data": {
      "text/plain": [
       "'temitope,56,male,single\\n'"
      ]
     },
     "execution_count": 47,
     "metadata": {},
     "output_type": "execute_result"
    }
   ],
   "source": [
    "data.readline()"
   ]
  },
  {
   "cell_type": "code",
   "execution_count": 48,
   "id": "fe5cdf20",
   "metadata": {},
   "outputs": [],
   "source": [
    "data.close()"
   ]
  },
  {
   "cell_type": "markdown",
   "id": "ef5a9c3d",
   "metadata": {},
   "source": [
    "# TO OPEN A PYTHON FILE."
   ]
  },
  {
   "cell_type": "code",
   "execution_count": 49,
   "id": "d55bf050",
   "metadata": {},
   "outputs": [
    {
     "name": "stdout",
     "output_type": "stream",
     "text": [
      "print(\"Hello World!!!\")\n"
     ]
    }
   ],
   "source": [
    "with open(\"chaviva.py\",\"r\")as file:  \n",
    "    print(file.read())"
   ]
  },
  {
   "cell_type": "markdown",
   "id": "0dd9604e",
   "metadata": {},
   "source": [
    "# READING DATA FROM SQL\n",
    "PANDAS CAN READ SQL FILE DIRECTLY\n"
   ]
  },
  {
   "cell_type": "code",
   "execution_count": 1,
   "id": "445e45ce",
   "metadata": {},
   "outputs": [],
   "source": [
    "import sqlite3"
   ]
  },
  {
   "cell_type": "code",
   "execution_count": 2,
   "id": "ccb5a99d",
   "metadata": {},
   "outputs": [],
   "source": [
    "#connecting to the database\n",
    "conn = sqlite3.connect(\"database.db\")"
   ]
  },
  {
   "cell_type": "code",
   "execution_count": 4,
   "id": "ca1d1aa0",
   "metadata": {},
   "outputs": [],
   "source": [
    "cursor=conn.cursor()"
   ]
  },
  {
   "cell_type": "code",
   "execution_count": 5,
   "id": "76713dc1",
   "metadata": {},
   "outputs": [
    {
     "data": {
      "text/plain": [
       "<sqlite3.Cursor at 0x293deb4fe40>"
      ]
     },
     "execution_count": 5,
     "metadata": {},
     "output_type": "execute_result"
    }
   ],
   "source": [
    "cursor.execute(\"\"\"CREATE TABLE Employees(EmployeeID INT PRIMARY KEY,\n",
    "                            FirstName VARCHAR(100),\n",
    "                            LastName VARCHAR(100),\n",
    "                            Department VARCHAR(200),\n",
    "                            Salary DECIMAL(10,2)\n",
    "                            );\n",
    "                            \n",
    "         \"\"\")"
   ]
  },
  {
   "cell_type": "code",
   "execution_count": null,
   "id": "a768d1de",
   "metadata": {},
   "outputs": [],
   "source": []
  },
  {
   "cell_type": "code",
   "execution_count": 6,
   "id": "3bfb3cbc",
   "metadata": {},
   "outputs": [],
   "source": [
    "#cursor.execute(\"\"\"CREATE TABLE Employees(EmployeeID INT PRIMARY KEY,\n",
    "#                            FirstName VARCHAR(100),\n",
    "#                             LastName VARCHAR(100),#rows are records or tuples\n",
    "#                             Department VARCHAR(200),#olumns are feature,attribute,fields\n",
    "#                             Salary DECIMAL(10,2));\n",
    "#                             \"\"\")"
   ]
  },
  {
   "cell_type": "code",
   "execution_count": 7,
   "id": "9114898f",
   "metadata": {},
   "outputs": [],
   "source": [
    "Values = [(1, 'John','Doe','HR', 55000.00),\n",
    "         (2,'Jane','Smith','Marketing',60000.00),\n",
    "         (3,'Bob','Johnson','IT',65000.00)]"
   ]
  },
  {
   "cell_type": "code",
   "execution_count": 8,
   "id": "2ed1cd82",
   "metadata": {},
   "outputs": [
    {
     "data": {
      "text/plain": [
       "<sqlite3.Cursor at 0x293deb4fe40>"
      ]
     },
     "execution_count": 8,
     "metadata": {},
     "output_type": "execute_result"
    }
   ],
   "source": [
    "cursor.executemany(\"INSERT INTO Employees VALUES (?,?,?,?,?)\",Values)#the number of columns determine the/number of question marks"
   ]
  },
  {
   "cell_type": "code",
   "execution_count": 9,
   "id": "05c653db",
   "metadata": {},
   "outputs": [],
   "source": [
    "query = \"SELECT * FROM Employees\""
   ]
  },
  {
   "cell_type": "code",
   "execution_count": 34,
   "id": "9379a85e",
   "metadata": {},
   "outputs": [
    {
     "data": {
      "text/plain": [
       "<sqlite3.Cursor at 0x293deb4fe40>"
      ]
     },
     "execution_count": 34,
     "metadata": {},
     "output_type": "execute_result"
    }
   ],
   "source": [
    "cursor.execute(query)"
   ]
  },
  {
   "cell_type": "code",
   "execution_count": 32,
   "id": "da60eb9c",
   "metadata": {},
   "outputs": [
    {
     "data": {
      "text/plain": [
       "[(1, 'John', 'Doe', 'HR', 55000),\n",
       " (2, 'Jane', 'Smith', 'Marketing', 60000),\n",
       " (3, 'Bob', 'Johnson', 'IT', 65000)]"
      ]
     },
     "execution_count": 32,
     "metadata": {},
     "output_type": "execute_result"
    }
   ],
   "source": [
    "cursor.fetchall()"
   ]
  },
  {
   "cell_type": "code",
   "execution_count": 33,
   "id": "6ca99898",
   "metadata": {},
   "outputs": [],
   "source": [
    "import pandas as pd"
   ]
  },
  {
   "cell_type": "code",
   "execution_count": 26,
   "id": "63bca064",
   "metadata": {},
   "outputs": [
    {
     "data": {
      "text/html": [
       "<div>\n",
       "<style scoped>\n",
       "    .dataframe tbody tr th:only-of-type {\n",
       "        vertical-align: middle;\n",
       "    }\n",
       "\n",
       "    .dataframe tbody tr th {\n",
       "        vertical-align: top;\n",
       "    }\n",
       "\n",
       "    .dataframe thead th {\n",
       "        text-align: right;\n",
       "    }\n",
       "</style>\n",
       "<table border=\"1\" class=\"dataframe\">\n",
       "  <thead>\n",
       "    <tr style=\"text-align: right;\">\n",
       "      <th></th>\n",
       "      <th>EmployeeID</th>\n",
       "      <th>FirstName</th>\n",
       "      <th>LastName</th>\n",
       "      <th>Department</th>\n",
       "      <th>Salary</th>\n",
       "    </tr>\n",
       "  </thead>\n",
       "  <tbody>\n",
       "    <tr>\n",
       "      <th>0</th>\n",
       "      <td>1</td>\n",
       "      <td>John</td>\n",
       "      <td>Doe</td>\n",
       "      <td>HR</td>\n",
       "      <td>55000</td>\n",
       "    </tr>\n",
       "    <tr>\n",
       "      <th>1</th>\n",
       "      <td>2</td>\n",
       "      <td>Jane</td>\n",
       "      <td>Smith</td>\n",
       "      <td>Marketing</td>\n",
       "      <td>60000</td>\n",
       "    </tr>\n",
       "    <tr>\n",
       "      <th>2</th>\n",
       "      <td>3</td>\n",
       "      <td>Bob</td>\n",
       "      <td>Johnson</td>\n",
       "      <td>IT</td>\n",
       "      <td>65000</td>\n",
       "    </tr>\n",
       "  </tbody>\n",
       "</table>\n",
       "</div>"
      ],
      "text/plain": [
       "   EmployeeID FirstName LastName Department  Salary\n",
       "0           1      John      Doe         HR   55000\n",
       "1           2      Jane    Smith  Marketing   60000\n",
       "2           3       Bob  Johnson         IT   65000"
      ]
     },
     "execution_count": 26,
     "metadata": {},
     "output_type": "execute_result"
    }
   ],
   "source": [
    "pd.read_sql_query(query, con=conn)#conn is a varieable,con is a must(connection)"
   ]
  },
  {
   "cell_type": "code",
   "execution_count": 35,
   "id": "8fe1f362",
   "metadata": {},
   "outputs": [
    {
     "name": "stdout",
     "output_type": "stream",
     "text": [
      "(1, 'John', 'Doe', 'HR', 55000)\n",
      "(2, 'Jane', 'Smith', 'Marketing', 60000)\n"
     ]
    }
   ],
   "source": [
    "rows = cursor.fetchmany(2)\n",
    "for row in rows:\n",
    "    print(row)"
   ]
  },
  {
   "cell_type": "raw",
   "id": "230136e4",
   "metadata": {},
   "source": []
  },
  {
   "cell_type": "code",
   "execution_count": 36,
   "id": "02597ef8",
   "metadata": {},
   "outputs": [
    {
     "data": {
      "text/plain": [
       "[(1, 'John', 'Doe', 'HR', 55000), (2, 'Jane', 'Smith', 'Marketing', 60000)]"
      ]
     },
     "execution_count": 36,
     "metadata": {},
     "output_type": "execute_result"
    }
   ],
   "source": [
    "rows"
   ]
  },
  {
   "cell_type": "code",
   "execution_count": null,
   "id": "f25fedf6",
   "metadata": {},
   "outputs": [],
   "source": [
    "### DATA EXPLORATION AND MANIPULATION\n",
    "Pandas strongest advantage is its vast data manipulation libaries which makes it easy to perform complex data analysis"
   ]
  },
  {
   "cell_type": "code",
   "execution_count": 37,
   "id": "db8407f2",
   "metadata": {},
   "outputs": [],
   "source": [
    "import pandas as pd"
   ]
  },
  {
   "cell_type": "code",
   "execution_count": 42,
   "id": "d0120c57",
   "metadata": {},
   "outputs": [
    {
     "name": "stdout",
     "output_type": "stream",
     "text": [
      " Volume in drive C has no label.\n",
      " Volume Serial Number is 3460-9072\n",
      "\n",
      " Directory of C:\\Users\\user\\Desktop\\Gomycode\n",
      "\n",
      "04/16/2024  09:47 AM    <DIR>          .\n",
      "04/16/2024  09:47 AM    <DIR>          ..\n",
      "02/21/2024  10:19 AM    <DIR>          .ipynb_checkpoints\n",
      "02/21/2024  10:16 AM    <DIR>          DATA SCIENCE BOOTCAMP\n",
      "04/15/2024  10:19 AM            12,288 database.db\n",
      "04/15/2024  10:54 AM             8,720 database.db-journal\n",
      "01/31/2024  10:48 AM                29 first_file.txt\n",
      "04/16/2024  09:47 AM           226,967 Untitled.ipynb\n",
      "               4 File(s)        248,004 bytes\n",
      "               4 Dir(s)  339,962,679,296 bytes free\n"
     ]
    }
   ],
   "source": [
    "ls"
   ]
  },
  {
   "cell_type": "code",
   "execution_count": 48,
   "id": "c5e4dfc1",
   "metadata": {},
   "outputs": [],
   "source": [
    "df = pd.read_csv(\"Loan_prediction_dataset.csv\")"
   ]
  },
  {
   "cell_type": "code",
   "execution_count": 49,
   "id": "3ff9ce89",
   "metadata": {},
   "outputs": [
    {
     "data": {
      "text/html": [
       "<div>\n",
       "<style scoped>\n",
       "    .dataframe tbody tr th:only-of-type {\n",
       "        vertical-align: middle;\n",
       "    }\n",
       "\n",
       "    .dataframe tbody tr th {\n",
       "        vertical-align: top;\n",
       "    }\n",
       "\n",
       "    .dataframe thead th {\n",
       "        text-align: right;\n",
       "    }\n",
       "</style>\n",
       "<table border=\"1\" class=\"dataframe\">\n",
       "  <thead>\n",
       "    <tr style=\"text-align: right;\">\n",
       "      <th></th>\n",
       "      <th>Loan_ID</th>\n",
       "      <th>Gender</th>\n",
       "      <th>Married</th>\n",
       "      <th>Dependents</th>\n",
       "      <th>Education</th>\n",
       "      <th>Self_Employed</th>\n",
       "      <th>ApplicantIncome</th>\n",
       "      <th>CoapplicantIncome</th>\n",
       "      <th>LoanAmount</th>\n",
       "      <th>Loan_Amount_Term</th>\n",
       "      <th>Credit_History</th>\n",
       "      <th>Property_Area</th>\n",
       "      <th>Loan_Status</th>\n",
       "    </tr>\n",
       "  </thead>\n",
       "  <tbody>\n",
       "    <tr>\n",
       "      <th>0</th>\n",
       "      <td>LP001002</td>\n",
       "      <td>Male</td>\n",
       "      <td>No</td>\n",
       "      <td>0</td>\n",
       "      <td>Graduate</td>\n",
       "      <td>No</td>\n",
       "      <td>5849</td>\n",
       "      <td>0.0</td>\n",
       "      <td>NaN</td>\n",
       "      <td>360.0</td>\n",
       "      <td>1.0</td>\n",
       "      <td>Urban</td>\n",
       "      <td>Y</td>\n",
       "    </tr>\n",
       "    <tr>\n",
       "      <th>1</th>\n",
       "      <td>LP001003</td>\n",
       "      <td>Male</td>\n",
       "      <td>Yes</td>\n",
       "      <td>1</td>\n",
       "      <td>Graduate</td>\n",
       "      <td>No</td>\n",
       "      <td>4583</td>\n",
       "      <td>1508.0</td>\n",
       "      <td>128.0</td>\n",
       "      <td>360.0</td>\n",
       "      <td>1.0</td>\n",
       "      <td>Rural</td>\n",
       "      <td>N</td>\n",
       "    </tr>\n",
       "    <tr>\n",
       "      <th>2</th>\n",
       "      <td>LP001005</td>\n",
       "      <td>Male</td>\n",
       "      <td>Yes</td>\n",
       "      <td>0</td>\n",
       "      <td>Graduate</td>\n",
       "      <td>Yes</td>\n",
       "      <td>3000</td>\n",
       "      <td>0.0</td>\n",
       "      <td>66.0</td>\n",
       "      <td>360.0</td>\n",
       "      <td>1.0</td>\n",
       "      <td>Urban</td>\n",
       "      <td>Y</td>\n",
       "    </tr>\n",
       "    <tr>\n",
       "      <th>3</th>\n",
       "      <td>LP001006</td>\n",
       "      <td>Male</td>\n",
       "      <td>Yes</td>\n",
       "      <td>0</td>\n",
       "      <td>Not Graduate</td>\n",
       "      <td>No</td>\n",
       "      <td>2583</td>\n",
       "      <td>2358.0</td>\n",
       "      <td>120.0</td>\n",
       "      <td>360.0</td>\n",
       "      <td>1.0</td>\n",
       "      <td>Urban</td>\n",
       "      <td>Y</td>\n",
       "    </tr>\n",
       "    <tr>\n",
       "      <th>4</th>\n",
       "      <td>LP001008</td>\n",
       "      <td>Male</td>\n",
       "      <td>No</td>\n",
       "      <td>0</td>\n",
       "      <td>Graduate</td>\n",
       "      <td>No</td>\n",
       "      <td>6000</td>\n",
       "      <td>0.0</td>\n",
       "      <td>141.0</td>\n",
       "      <td>360.0</td>\n",
       "      <td>1.0</td>\n",
       "      <td>Urban</td>\n",
       "      <td>Y</td>\n",
       "    </tr>\n",
       "    <tr>\n",
       "      <th>...</th>\n",
       "      <td>...</td>\n",
       "      <td>...</td>\n",
       "      <td>...</td>\n",
       "      <td>...</td>\n",
       "      <td>...</td>\n",
       "      <td>...</td>\n",
       "      <td>...</td>\n",
       "      <td>...</td>\n",
       "      <td>...</td>\n",
       "      <td>...</td>\n",
       "      <td>...</td>\n",
       "      <td>...</td>\n",
       "      <td>...</td>\n",
       "    </tr>\n",
       "    <tr>\n",
       "      <th>609</th>\n",
       "      <td>LP002978</td>\n",
       "      <td>Female</td>\n",
       "      <td>No</td>\n",
       "      <td>0</td>\n",
       "      <td>Graduate</td>\n",
       "      <td>No</td>\n",
       "      <td>2900</td>\n",
       "      <td>0.0</td>\n",
       "      <td>71.0</td>\n",
       "      <td>360.0</td>\n",
       "      <td>1.0</td>\n",
       "      <td>Rural</td>\n",
       "      <td>Y</td>\n",
       "    </tr>\n",
       "    <tr>\n",
       "      <th>610</th>\n",
       "      <td>LP002979</td>\n",
       "      <td>Male</td>\n",
       "      <td>Yes</td>\n",
       "      <td>3+</td>\n",
       "      <td>Graduate</td>\n",
       "      <td>No</td>\n",
       "      <td>4106</td>\n",
       "      <td>0.0</td>\n",
       "      <td>40.0</td>\n",
       "      <td>180.0</td>\n",
       "      <td>1.0</td>\n",
       "      <td>Rural</td>\n",
       "      <td>Y</td>\n",
       "    </tr>\n",
       "    <tr>\n",
       "      <th>611</th>\n",
       "      <td>LP002983</td>\n",
       "      <td>Male</td>\n",
       "      <td>Yes</td>\n",
       "      <td>1</td>\n",
       "      <td>Graduate</td>\n",
       "      <td>No</td>\n",
       "      <td>8072</td>\n",
       "      <td>240.0</td>\n",
       "      <td>253.0</td>\n",
       "      <td>360.0</td>\n",
       "      <td>1.0</td>\n",
       "      <td>Urban</td>\n",
       "      <td>Y</td>\n",
       "    </tr>\n",
       "    <tr>\n",
       "      <th>612</th>\n",
       "      <td>LP002984</td>\n",
       "      <td>Male</td>\n",
       "      <td>Yes</td>\n",
       "      <td>2</td>\n",
       "      <td>Graduate</td>\n",
       "      <td>No</td>\n",
       "      <td>7583</td>\n",
       "      <td>0.0</td>\n",
       "      <td>187.0</td>\n",
       "      <td>360.0</td>\n",
       "      <td>1.0</td>\n",
       "      <td>Urban</td>\n",
       "      <td>Y</td>\n",
       "    </tr>\n",
       "    <tr>\n",
       "      <th>613</th>\n",
       "      <td>LP002990</td>\n",
       "      <td>Female</td>\n",
       "      <td>No</td>\n",
       "      <td>0</td>\n",
       "      <td>Graduate</td>\n",
       "      <td>Yes</td>\n",
       "      <td>4583</td>\n",
       "      <td>0.0</td>\n",
       "      <td>133.0</td>\n",
       "      <td>360.0</td>\n",
       "      <td>0.0</td>\n",
       "      <td>Semiurban</td>\n",
       "      <td>N</td>\n",
       "    </tr>\n",
       "  </tbody>\n",
       "</table>\n",
       "<p>614 rows × 13 columns</p>\n",
       "</div>"
      ],
      "text/plain": [
       "      Loan_ID  Gender Married Dependents     Education Self_Employed  \\\n",
       "0    LP001002    Male      No          0      Graduate            No   \n",
       "1    LP001003    Male     Yes          1      Graduate            No   \n",
       "2    LP001005    Male     Yes          0      Graduate           Yes   \n",
       "3    LP001006    Male     Yes          0  Not Graduate            No   \n",
       "4    LP001008    Male      No          0      Graduate            No   \n",
       "..        ...     ...     ...        ...           ...           ...   \n",
       "609  LP002978  Female      No          0      Graduate            No   \n",
       "610  LP002979    Male     Yes         3+      Graduate            No   \n",
       "611  LP002983    Male     Yes          1      Graduate            No   \n",
       "612  LP002984    Male     Yes          2      Graduate            No   \n",
       "613  LP002990  Female      No          0      Graduate           Yes   \n",
       "\n",
       "     ApplicantIncome  CoapplicantIncome  LoanAmount  Loan_Amount_Term  \\\n",
       "0               5849                0.0         NaN             360.0   \n",
       "1               4583             1508.0       128.0             360.0   \n",
       "2               3000                0.0        66.0             360.0   \n",
       "3               2583             2358.0       120.0             360.0   \n",
       "4               6000                0.0       141.0             360.0   \n",
       "..               ...                ...         ...               ...   \n",
       "609             2900                0.0        71.0             360.0   \n",
       "610             4106                0.0        40.0             180.0   \n",
       "611             8072              240.0       253.0             360.0   \n",
       "612             7583                0.0       187.0             360.0   \n",
       "613             4583                0.0       133.0             360.0   \n",
       "\n",
       "     Credit_History Property_Area Loan_Status  \n",
       "0               1.0         Urban           Y  \n",
       "1               1.0         Rural           N  \n",
       "2               1.0         Urban           Y  \n",
       "3               1.0         Urban           Y  \n",
       "4               1.0         Urban           Y  \n",
       "..              ...           ...         ...  \n",
       "609             1.0         Rural           Y  \n",
       "610             1.0         Rural           Y  \n",
       "611             1.0         Urban           Y  \n",
       "612             1.0         Urban           Y  \n",
       "613             0.0     Semiurban           N  \n",
       "\n",
       "[614 rows x 13 columns]"
      ]
     },
     "execution_count": 49,
     "metadata": {},
     "output_type": "execute_result"
    }
   ],
   "source": [
    "df"
   ]
  },
  {
   "cell_type": "markdown",
   "id": "a2981d74",
   "metadata": {},
   "source": [
    "df.dtypes"
   ]
  },
  {
   "cell_type": "code",
   "execution_count": 50,
   "id": "200396d2",
   "metadata": {},
   "outputs": [
    {
     "data": {
      "text/plain": [
       "Loan_ID               object\n",
       "Gender                object\n",
       "Married               object\n",
       "Dependents            object\n",
       "Education             object\n",
       "Self_Employed         object\n",
       "ApplicantIncome        int64\n",
       "CoapplicantIncome    float64\n",
       "LoanAmount           float64\n",
       "Loan_Amount_Term     float64\n",
       "Credit_History       float64\n",
       "Property_Area         object\n",
       "Loan_Status           object\n",
       "dtype: object"
      ]
     },
     "execution_count": 50,
     "metadata": {},
     "output_type": "execute_result"
    }
   ],
   "source": [
    "#get data types of columns\n",
    "df.dtypes"
   ]
  },
  {
   "cell_type": "code",
   "execution_count": 51,
   "id": "3554e23c",
   "metadata": {},
   "outputs": [
    {
     "data": {
      "text/html": [
       "<div>\n",
       "<style scoped>\n",
       "    .dataframe tbody tr th:only-of-type {\n",
       "        vertical-align: middle;\n",
       "    }\n",
       "\n",
       "    .dataframe tbody tr th {\n",
       "        vertical-align: top;\n",
       "    }\n",
       "\n",
       "    .dataframe thead th {\n",
       "        text-align: right;\n",
       "    }\n",
       "</style>\n",
       "<table border=\"1\" class=\"dataframe\">\n",
       "  <thead>\n",
       "    <tr style=\"text-align: right;\">\n",
       "      <th></th>\n",
       "      <th>Loan_ID</th>\n",
       "      <th>Gender</th>\n",
       "      <th>Married</th>\n",
       "      <th>Dependents</th>\n",
       "      <th>Education</th>\n",
       "      <th>Self_Employed</th>\n",
       "      <th>ApplicantIncome</th>\n",
       "      <th>CoapplicantIncome</th>\n",
       "      <th>LoanAmount</th>\n",
       "      <th>Loan_Amount_Term</th>\n",
       "      <th>Credit_History</th>\n",
       "      <th>Property_Area</th>\n",
       "      <th>Loan_Status</th>\n",
       "    </tr>\n",
       "  </thead>\n",
       "  <tbody>\n",
       "    <tr>\n",
       "      <th>0</th>\n",
       "      <td>LP001002</td>\n",
       "      <td>Male</td>\n",
       "      <td>No</td>\n",
       "      <td>0</td>\n",
       "      <td>Graduate</td>\n",
       "      <td>No</td>\n",
       "      <td>5849</td>\n",
       "      <td>0.0</td>\n",
       "      <td>NaN</td>\n",
       "      <td>360.0</td>\n",
       "      <td>1.0</td>\n",
       "      <td>Urban</td>\n",
       "      <td>Y</td>\n",
       "    </tr>\n",
       "    <tr>\n",
       "      <th>1</th>\n",
       "      <td>LP001003</td>\n",
       "      <td>Male</td>\n",
       "      <td>Yes</td>\n",
       "      <td>1</td>\n",
       "      <td>Graduate</td>\n",
       "      <td>No</td>\n",
       "      <td>4583</td>\n",
       "      <td>1508.0</td>\n",
       "      <td>128.0</td>\n",
       "      <td>360.0</td>\n",
       "      <td>1.0</td>\n",
       "      <td>Rural</td>\n",
       "      <td>N</td>\n",
       "    </tr>\n",
       "    <tr>\n",
       "      <th>2</th>\n",
       "      <td>LP001005</td>\n",
       "      <td>Male</td>\n",
       "      <td>Yes</td>\n",
       "      <td>0</td>\n",
       "      <td>Graduate</td>\n",
       "      <td>Yes</td>\n",
       "      <td>3000</td>\n",
       "      <td>0.0</td>\n",
       "      <td>66.0</td>\n",
       "      <td>360.0</td>\n",
       "      <td>1.0</td>\n",
       "      <td>Urban</td>\n",
       "      <td>Y</td>\n",
       "    </tr>\n",
       "    <tr>\n",
       "      <th>3</th>\n",
       "      <td>LP001006</td>\n",
       "      <td>Male</td>\n",
       "      <td>Yes</td>\n",
       "      <td>0</td>\n",
       "      <td>Not Graduate</td>\n",
       "      <td>No</td>\n",
       "      <td>2583</td>\n",
       "      <td>2358.0</td>\n",
       "      <td>120.0</td>\n",
       "      <td>360.0</td>\n",
       "      <td>1.0</td>\n",
       "      <td>Urban</td>\n",
       "      <td>Y</td>\n",
       "    </tr>\n",
       "    <tr>\n",
       "      <th>4</th>\n",
       "      <td>LP001008</td>\n",
       "      <td>Male</td>\n",
       "      <td>No</td>\n",
       "      <td>0</td>\n",
       "      <td>Graduate</td>\n",
       "      <td>No</td>\n",
       "      <td>6000</td>\n",
       "      <td>0.0</td>\n",
       "      <td>141.0</td>\n",
       "      <td>360.0</td>\n",
       "      <td>1.0</td>\n",
       "      <td>Urban</td>\n",
       "      <td>Y</td>\n",
       "    </tr>\n",
       "  </tbody>\n",
       "</table>\n",
       "</div>"
      ],
      "text/plain": [
       "    Loan_ID Gender Married Dependents     Education Self_Employed  \\\n",
       "0  LP001002   Male      No          0      Graduate            No   \n",
       "1  LP001003   Male     Yes          1      Graduate            No   \n",
       "2  LP001005   Male     Yes          0      Graduate           Yes   \n",
       "3  LP001006   Male     Yes          0  Not Graduate            No   \n",
       "4  LP001008   Male      No          0      Graduate            No   \n",
       "\n",
       "   ApplicantIncome  CoapplicantIncome  LoanAmount  Loan_Amount_Term  \\\n",
       "0             5849                0.0         NaN             360.0   \n",
       "1             4583             1508.0       128.0             360.0   \n",
       "2             3000                0.0        66.0             360.0   \n",
       "3             2583             2358.0       120.0             360.0   \n",
       "4             6000                0.0       141.0             360.0   \n",
       "\n",
       "   Credit_History Property_Area Loan_Status  \n",
       "0             1.0         Urban           Y  \n",
       "1             1.0         Rural           N  \n",
       "2             1.0         Urban           Y  \n",
       "3             1.0         Urban           Y  \n",
       "4             1.0         Urban           Y  "
      ]
     },
     "execution_count": 51,
     "metadata": {},
     "output_type": "execute_result"
    }
   ],
   "source": [
    "#the head method checks the first fie lines by default,\n",
    "df.head()"
   ]
  },
  {
   "cell_type": "code",
   "execution_count": 52,
   "id": "9ea0ce51",
   "metadata": {},
   "outputs": [
    {
     "data": {
      "text/html": [
       "<div>\n",
       "<style scoped>\n",
       "    .dataframe tbody tr th:only-of-type {\n",
       "        vertical-align: middle;\n",
       "    }\n",
       "\n",
       "    .dataframe tbody tr th {\n",
       "        vertical-align: top;\n",
       "    }\n",
       "\n",
       "    .dataframe thead th {\n",
       "        text-align: right;\n",
       "    }\n",
       "</style>\n",
       "<table border=\"1\" class=\"dataframe\">\n",
       "  <thead>\n",
       "    <tr style=\"text-align: right;\">\n",
       "      <th></th>\n",
       "      <th>Loan_ID</th>\n",
       "      <th>Gender</th>\n",
       "      <th>Married</th>\n",
       "      <th>Dependents</th>\n",
       "      <th>Education</th>\n",
       "      <th>Self_Employed</th>\n",
       "      <th>ApplicantIncome</th>\n",
       "      <th>CoapplicantIncome</th>\n",
       "      <th>LoanAmount</th>\n",
       "      <th>Loan_Amount_Term</th>\n",
       "      <th>Credit_History</th>\n",
       "      <th>Property_Area</th>\n",
       "      <th>Loan_Status</th>\n",
       "    </tr>\n",
       "  </thead>\n",
       "  <tbody>\n",
       "    <tr>\n",
       "      <th>609</th>\n",
       "      <td>LP002978</td>\n",
       "      <td>Female</td>\n",
       "      <td>No</td>\n",
       "      <td>0</td>\n",
       "      <td>Graduate</td>\n",
       "      <td>No</td>\n",
       "      <td>2900</td>\n",
       "      <td>0.0</td>\n",
       "      <td>71.0</td>\n",
       "      <td>360.0</td>\n",
       "      <td>1.0</td>\n",
       "      <td>Rural</td>\n",
       "      <td>Y</td>\n",
       "    </tr>\n",
       "    <tr>\n",
       "      <th>610</th>\n",
       "      <td>LP002979</td>\n",
       "      <td>Male</td>\n",
       "      <td>Yes</td>\n",
       "      <td>3+</td>\n",
       "      <td>Graduate</td>\n",
       "      <td>No</td>\n",
       "      <td>4106</td>\n",
       "      <td>0.0</td>\n",
       "      <td>40.0</td>\n",
       "      <td>180.0</td>\n",
       "      <td>1.0</td>\n",
       "      <td>Rural</td>\n",
       "      <td>Y</td>\n",
       "    </tr>\n",
       "    <tr>\n",
       "      <th>611</th>\n",
       "      <td>LP002983</td>\n",
       "      <td>Male</td>\n",
       "      <td>Yes</td>\n",
       "      <td>1</td>\n",
       "      <td>Graduate</td>\n",
       "      <td>No</td>\n",
       "      <td>8072</td>\n",
       "      <td>240.0</td>\n",
       "      <td>253.0</td>\n",
       "      <td>360.0</td>\n",
       "      <td>1.0</td>\n",
       "      <td>Urban</td>\n",
       "      <td>Y</td>\n",
       "    </tr>\n",
       "    <tr>\n",
       "      <th>612</th>\n",
       "      <td>LP002984</td>\n",
       "      <td>Male</td>\n",
       "      <td>Yes</td>\n",
       "      <td>2</td>\n",
       "      <td>Graduate</td>\n",
       "      <td>No</td>\n",
       "      <td>7583</td>\n",
       "      <td>0.0</td>\n",
       "      <td>187.0</td>\n",
       "      <td>360.0</td>\n",
       "      <td>1.0</td>\n",
       "      <td>Urban</td>\n",
       "      <td>Y</td>\n",
       "    </tr>\n",
       "    <tr>\n",
       "      <th>613</th>\n",
       "      <td>LP002990</td>\n",
       "      <td>Female</td>\n",
       "      <td>No</td>\n",
       "      <td>0</td>\n",
       "      <td>Graduate</td>\n",
       "      <td>Yes</td>\n",
       "      <td>4583</td>\n",
       "      <td>0.0</td>\n",
       "      <td>133.0</td>\n",
       "      <td>360.0</td>\n",
       "      <td>0.0</td>\n",
       "      <td>Semiurban</td>\n",
       "      <td>N</td>\n",
       "    </tr>\n",
       "  </tbody>\n",
       "</table>\n",
       "</div>"
      ],
      "text/plain": [
       "      Loan_ID  Gender Married Dependents Education Self_Employed  \\\n",
       "609  LP002978  Female      No          0  Graduate            No   \n",
       "610  LP002979    Male     Yes         3+  Graduate            No   \n",
       "611  LP002983    Male     Yes          1  Graduate            No   \n",
       "612  LP002984    Male     Yes          2  Graduate            No   \n",
       "613  LP002990  Female      No          0  Graduate           Yes   \n",
       "\n",
       "     ApplicantIncome  CoapplicantIncome  LoanAmount  Loan_Amount_Term  \\\n",
       "609             2900                0.0        71.0             360.0   \n",
       "610             4106                0.0        40.0             180.0   \n",
       "611             8072              240.0       253.0             360.0   \n",
       "612             7583                0.0       187.0             360.0   \n",
       "613             4583                0.0       133.0             360.0   \n",
       "\n",
       "     Credit_History Property_Area Loan_Status  \n",
       "609             1.0         Rural           Y  \n",
       "610             1.0         Rural           Y  \n",
       "611             1.0         Urban           Y  \n",
       "612             1.0         Urban           Y  \n",
       "613             0.0     Semiurban           N  "
      ]
     },
     "execution_count": 52,
     "metadata": {},
     "output_type": "execute_result"
    }
   ],
   "source": [
    "#the last five lines in the dataset\n",
    "df.tail()"
   ]
  },
  {
   "cell_type": "code",
   "execution_count": 53,
   "id": "edff7c50",
   "metadata": {},
   "outputs": [
    {
     "data": {
      "text/plain": [
       "0      LP001002\n",
       "1      LP001003\n",
       "2      LP001005\n",
       "3      LP001006\n",
       "4      LP001008\n",
       "         ...   \n",
       "609    LP002978\n",
       "610    LP002979\n",
       "611    LP002983\n",
       "612    LP002984\n",
       "613    LP002990\n",
       "Name: Loan_ID, Length: 614, dtype: object"
      ]
     },
     "execution_count": 53,
     "metadata": {},
     "output_type": "execute_result"
    }
   ],
   "source": [
    "df[\"Loan_ID\"]"
   ]
  },
  {
   "cell_type": "code",
   "execution_count": 55,
   "id": "5994d016",
   "metadata": {},
   "outputs": [
    {
     "data": {
      "text/plain": [
       "array(['Male', 'Female', nan], dtype=object)"
      ]
     },
     "execution_count": 55,
     "metadata": {},
     "output_type": "execute_result"
    }
   ],
   "source": [
    "df[\"Gender\"].unique()"
   ]
  },
  {
   "cell_type": "code",
   "execution_count": 56,
   "id": "58dc3b97",
   "metadata": {},
   "outputs": [
    {
     "data": {
      "text/html": [
       "<div>\n",
       "<style scoped>\n",
       "    .dataframe tbody tr th:only-of-type {\n",
       "        vertical-align: middle;\n",
       "    }\n",
       "\n",
       "    .dataframe tbody tr th {\n",
       "        vertical-align: top;\n",
       "    }\n",
       "\n",
       "    .dataframe thead th {\n",
       "        text-align: right;\n",
       "    }\n",
       "</style>\n",
       "<table border=\"1\" class=\"dataframe\">\n",
       "  <thead>\n",
       "    <tr style=\"text-align: right;\">\n",
       "      <th></th>\n",
       "      <th>Loan_ID</th>\n",
       "      <th>Gender</th>\n",
       "      <th>Married</th>\n",
       "      <th>Dependents</th>\n",
       "      <th>Education</th>\n",
       "      <th>Self_Employed</th>\n",
       "      <th>ApplicantIncome</th>\n",
       "      <th>CoapplicantIncome</th>\n",
       "      <th>LoanAmount</th>\n",
       "      <th>Loan_Amount_Term</th>\n",
       "      <th>Credit_History</th>\n",
       "      <th>Property_Area</th>\n",
       "      <th>Loan_Status</th>\n",
       "    </tr>\n",
       "  </thead>\n",
       "  <tbody>\n",
       "    <tr>\n",
       "      <th>417</th>\n",
       "      <td>LP002342</td>\n",
       "      <td>Male</td>\n",
       "      <td>Yes</td>\n",
       "      <td>2</td>\n",
       "      <td>Graduate</td>\n",
       "      <td>Yes</td>\n",
       "      <td>1600</td>\n",
       "      <td>20000.0</td>\n",
       "      <td>239.0</td>\n",
       "      <td>360.0</td>\n",
       "      <td>1.0</td>\n",
       "      <td>Urban</td>\n",
       "      <td>N</td>\n",
       "    </tr>\n",
       "    <tr>\n",
       "      <th>518</th>\n",
       "      <td>LP002683</td>\n",
       "      <td>Male</td>\n",
       "      <td>No</td>\n",
       "      <td>0</td>\n",
       "      <td>Graduate</td>\n",
       "      <td>No</td>\n",
       "      <td>4683</td>\n",
       "      <td>1915.0</td>\n",
       "      <td>185.0</td>\n",
       "      <td>360.0</td>\n",
       "      <td>1.0</td>\n",
       "      <td>Semiurban</td>\n",
       "      <td>N</td>\n",
       "    </tr>\n",
       "    <tr>\n",
       "      <th>288</th>\n",
       "      <td>LP001931</td>\n",
       "      <td>Female</td>\n",
       "      <td>No</td>\n",
       "      <td>0</td>\n",
       "      <td>Graduate</td>\n",
       "      <td>No</td>\n",
       "      <td>4124</td>\n",
       "      <td>0.0</td>\n",
       "      <td>115.0</td>\n",
       "      <td>360.0</td>\n",
       "      <td>1.0</td>\n",
       "      <td>Semiurban</td>\n",
       "      <td>Y</td>\n",
       "    </tr>\n",
       "    <tr>\n",
       "      <th>508</th>\n",
       "      <td>LP002626</td>\n",
       "      <td>Male</td>\n",
       "      <td>Yes</td>\n",
       "      <td>0</td>\n",
       "      <td>Graduate</td>\n",
       "      <td>Yes</td>\n",
       "      <td>2479</td>\n",
       "      <td>3013.0</td>\n",
       "      <td>188.0</td>\n",
       "      <td>360.0</td>\n",
       "      <td>1.0</td>\n",
       "      <td>Urban</td>\n",
       "      <td>Y</td>\n",
       "    </tr>\n",
       "    <tr>\n",
       "      <th>217</th>\n",
       "      <td>LP001726</td>\n",
       "      <td>Male</td>\n",
       "      <td>Yes</td>\n",
       "      <td>0</td>\n",
       "      <td>Graduate</td>\n",
       "      <td>No</td>\n",
       "      <td>3727</td>\n",
       "      <td>1775.0</td>\n",
       "      <td>131.0</td>\n",
       "      <td>360.0</td>\n",
       "      <td>1.0</td>\n",
       "      <td>Semiurban</td>\n",
       "      <td>Y</td>\n",
       "    </tr>\n",
       "  </tbody>\n",
       "</table>\n",
       "</div>"
      ],
      "text/plain": [
       "      Loan_ID  Gender Married Dependents Education Self_Employed  \\\n",
       "417  LP002342    Male     Yes          2  Graduate           Yes   \n",
       "518  LP002683    Male      No          0  Graduate            No   \n",
       "288  LP001931  Female      No          0  Graduate            No   \n",
       "508  LP002626    Male     Yes          0  Graduate           Yes   \n",
       "217  LP001726    Male     Yes          0  Graduate            No   \n",
       "\n",
       "     ApplicantIncome  CoapplicantIncome  LoanAmount  Loan_Amount_Term  \\\n",
       "417             1600            20000.0       239.0             360.0   \n",
       "518             4683             1915.0       185.0             360.0   \n",
       "288             4124                0.0       115.0             360.0   \n",
       "508             2479             3013.0       188.0             360.0   \n",
       "217             3727             1775.0       131.0             360.0   \n",
       "\n",
       "     Credit_History Property_Area Loan_Status  \n",
       "417             1.0         Urban           N  \n",
       "518             1.0     Semiurban           N  \n",
       "288             1.0     Semiurban           Y  \n",
       "508             1.0         Urban           Y  \n",
       "217             1.0     Semiurban           Y  "
      ]
     },
     "execution_count": 56,
     "metadata": {},
     "output_type": "execute_result"
    }
   ],
   "source": [
    "##to check the dataframe randomly\n",
    "df.sample(5)"
   ]
  },
  {
   "cell_type": "code",
   "execution_count": null,
   "id": "d2f713f8",
   "metadata": {},
   "outputs": [],
   "source": []
  }
 ],
 "metadata": {
  "kernelspec": {
   "display_name": "Python 3 (ipykernel)",
   "language": "python",
   "name": "python3"
  },
  "language_info": {
   "codemirror_mode": {
    "name": "ipython",
    "version": 3
   },
   "file_extension": ".py",
   "mimetype": "text/x-python",
   "name": "python",
   "nbconvert_exporter": "python",
   "pygments_lexer": "ipython3",
   "version": "3.11.5"
  }
 },
 "nbformat": 4,
 "nbformat_minor": 5
}
